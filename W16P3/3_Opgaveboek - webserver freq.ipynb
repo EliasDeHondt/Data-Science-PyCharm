{
 "cells": [
  {
   "cell_type": "markdown",
   "metadata": {
    "id": "dZDv_fvzaVxZ"
   },
   "source": [
    "---\n",
    "## Webserver\n",
    "---\n",
    "\n",
    "Bekijk het bijgeleverde bestand: \"UofS_access_log\".  Hierin staat een log van een webserver.  Iedere lijn bevat informatie over een request dat naar de server werd gestuurd.  Je vindt per request volgende informatie terug:\n",
    "\n",
    "- de naam of ip-adres van de client\n",
    "- het tijdstip\n",
    "- de HTTP request die gebeurde\n",
    "- de HTTP response code\n",
    "- het aantal bytes in de response\n",
    "\n",
    "---\n",
    "\n",
    "- Lees het bestand in Python.\n",
    "\n",
    "  - Zorg ervoor dat je slechts 5 kolommen overhoudt met de namen: \"client\", \"date\", \"request\", \"response_code\", \"response_length\".  \n",
    "  - Vervang '-' in de response.length door 0\n",
    "\n",
    "Gebruik 3 beduidende cijfers in je antwoorden.\n",
    "\n"
   ]
  },
  {
   "cell_type": "code",
   "execution_count": null,
   "metadata": {},
   "outputs": [],
   "source": [
    "# hier komt jouw oplossing"
   ]
  },
  {
   "cell_type": "markdown",
   "metadata": {
    "id": "UFr6FpWmajji"
   },
   "source": [
    "### Oefening 1\n",
    "Welke response code komt het meest voor?  Aan de hand van welke frequenties kan je dit zien?\n"
   ]
  },
  {
   "cell_type": "code",
   "execution_count": null,
   "metadata": {},
   "outputs": [],
   "source": [
    "# hier komt jouw oplossing"
   ]
  },
  {
   "cell_type": "markdown",
   "metadata": {
    "id": "Na577uB7anV5"
   },
   "source": [
    "### Oefening 2\n",
    "Hoeveel procent van de requests bevat een response code die groter is dan 200?  Aan de hand van welke frequenties kan je dit berekenen?\n"
   ]
  },
  {
   "cell_type": "code",
   "execution_count": null,
   "metadata": {},
   "outputs": [],
   "source": [
    "# hier komt jouw oplossing"
   ]
  },
  {
   "cell_type": "markdown",
   "metadata": {
    "id": "XEcDvnCpanSx"
   },
   "source": [
    "### Oefening 3  \n",
    "\n",
    "Hoeveel keer komt een response code 401 voor?  Aan de hand van welke frequenties kan je dit zien?  Wat betekent deze response code?\n"
   ]
  },
  {
   "cell_type": "code",
   "execution_count": null,
   "metadata": {},
   "outputs": [],
   "source": [
    "# hier komt jouw oplossing"
   ]
  },
  {
   "cell_type": "markdown",
   "metadata": {
    "id": "O3sbq8MKanQH"
   },
   "source": [
    "### Oefening 4  \n",
    "\n",
    "Welke documenten werden opgevraagd bij een response code 401?\n"
   ]
  },
  {
   "cell_type": "code",
   "execution_count": null,
   "metadata": {},
   "outputs": [],
   "source": [
    "# hier komt jouw oplossing"
   ]
  },
  {
   "cell_type": "markdown",
   "metadata": {
    "id": "MnCT0eSmanNz"
   },
   "source": [
    "### Oefening 5  \n",
    "\n",
    "Welke clients probeerden ongeautoriseerd een document te raadplegen?\n"
   ]
  },
  {
   "cell_type": "code",
   "execution_count": null,
   "metadata": {},
   "outputs": [],
   "source": [
    "# hier komt jouw oplossing"
   ]
  },
  {
   "cell_type": "markdown",
   "metadata": {
    "id": "qA-kMLtaanK3"
   },
   "source": [
    "### Oefening 6  \n",
    "\n",
    "Welke client probeerde het meest een ongeautoriseerd een document te raadplegen?\n"
   ]
  },
  {
   "cell_type": "code",
   "execution_count": null,
   "metadata": {},
   "outputs": [],
   "source": [
    "# hier komt jouw oplossing"
   ]
  },
  {
   "cell_type": "markdown",
   "metadata": {
    "id": "0QHf8o38anIG"
   },
   "source": [
    "### Oefening 7\n",
    "\n",
    "Maak een taartdiagram van de response codes die niet gelijk zijn aan 200.\n"
   ]
  },
  {
   "cell_type": "code",
   "execution_count": null,
   "metadata": {},
   "outputs": [],
   "source": [
    "# hier komt jouw oplossing"
   ]
  },
  {
   "cell_type": "markdown",
   "metadata": {
    "id": "TGs3OLD-anCj"
   },
   "source": [
    "### Oefening 8  \n",
    "\n",
    "Maak een staafdiagram van dezelfde response codes.  Merk het verschil op in leesbaarheid tussen deze en de vorige afbeelding\n"
   ]
  },
  {
   "cell_type": "code",
   "execution_count": null,
   "metadata": {},
   "outputs": [],
   "source": [
    "# hier komt jouw oplossing"
   ]
  },
  {
   "cell_type": "code",
   "execution_count": null,
   "metadata": {},
   "outputs": [],
   "source": [
    "# hier komt jouw oplossing"
   ]
  },
  {
   "cell_type": "markdown",
   "metadata": {
    "id": "nwJ_1UoFbtXi"
   },
   "source": [
    "### Oefening 9  \n",
    "\n",
    "Welke response code komt hier het meest voor?  Wat betekent deze response code?\n"
   ]
  },
  {
   "cell_type": "code",
   "execution_count": null,
   "metadata": {},
   "outputs": [],
   "source": [
    "# hier komt jouw oplossing"
   ]
  },
  {
   "cell_type": "markdown",
   "metadata": {
    "id": "wk8lO5B1btUX"
   },
   "source": [
    "### Oefening 10  \n",
    "\n",
    "Hoe groot is de langste response die gestuurd werd?  Welk bestand werd hier doorgestuurd?\n"
   ]
  },
  {
   "cell_type": "code",
   "execution_count": null,
   "metadata": {},
   "outputs": [],
   "source": [
    "# hier komt jouw oplossing"
   ]
  },
  {
   "cell_type": "markdown",
   "metadata": {
    "id": "Jkw4b15RbtRz"
   },
   "source": [
    "### Oefening 11  \n",
    "\n",
    "Selecteer alle regels waarbij response_length kleiner is dan 30 000 bytes.  Maak klassen van de response_length met klassenbreedte gelijk aan 1000 bytes, waarbij de linker-grens steeds bij de klasse hoort.  Hoeveel responses hebben een lengte kleiner dan 1000 bytes?\n"
   ]
  },
  {
   "cell_type": "code",
   "execution_count": null,
   "metadata": {},
   "outputs": [],
   "source": [
    "# hier komt jouw oplossing"
   ]
  },
  {
   "cell_type": "markdown",
   "metadata": {
    "id": "SJi-ni0NbtO_"
   },
   "source": [
    "### Oefening 12  \n",
    "\n",
    "Hoeveel procent van de responses zijn tussen de 1000 en 2000 bytes groot?\n"
   ]
  },
  {
   "cell_type": "code",
   "execution_count": null,
   "metadata": {},
   "outputs": [],
   "source": [
    "# hier komt jouw oplossing"
   ]
  },
  {
   "cell_type": "markdown",
   "metadata": {
    "id": "kcHPI81sbtMQ"
   },
   "source": [
    "### Oefening 13  \n",
    "\n",
    "Hoeveel procent van de responses zijn kleiner dan 6000 bytes?\n"
   ]
  },
  {
   "cell_type": "code",
   "execution_count": null,
   "metadata": {},
   "outputs": [],
   "source": [
    "# hier komt jouw oplossing"
   ]
  },
  {
   "cell_type": "markdown",
   "metadata": {
    "id": "NJorO7H-btJR"
   },
   "source": [
    "### Oefening 14  \n",
    "\n",
    "Is een response van 5000-6000 bytes groot of klein?\n"
   ]
  },
  {
   "cell_type": "code",
   "execution_count": null,
   "metadata": {},
   "outputs": [],
   "source": [
    "# hier komt jouw oplossing"
   ]
  },
  {
   "cell_type": "markdown",
   "metadata": {
    "id": "nasjSzRtbtF6"
   },
   "source": [
    "### Oefening 15  \n",
    "\n",
    "Teken een barplot van de absolute frequenties\n"
   ]
  },
  {
   "cell_type": "code",
   "execution_count": null,
   "metadata": {},
   "outputs": [],
   "source": [
    "# hier komt jouw oplossing"
   ]
  },
  {
   "cell_type": "markdown",
   "metadata": {
    "id": "nvrqiPfodX9s"
   },
   "source": [
    "### Oefening 16  \n",
    "\n",
    "Teken een frequentiepolygoon van de absolute frequenties"
   ]
  },
  {
   "cell_type": "code",
   "execution_count": null,
   "metadata": {},
   "outputs": [],
   "source": [
    "# hier komt jouw oplossing"
   ]
  },
  {
   "cell_type": "markdown",
   "metadata": {
    "id": "m8UI1Bl9dnOu"
   },
   "source": [
    "### Oefening 17  \n",
    "\n",
    "Teken een barplot van de cumulatieve frequenties"
   ]
  },
  {
   "cell_type": "code",
   "execution_count": null,
   "metadata": {},
   "outputs": [],
   "source": [
    "# hier komt jouw oplossing"
   ]
  },
  {
   "cell_type": "markdown",
   "metadata": {
    "id": "-qttVstpdoPt"
   },
   "source": [
    "### Oefening 18  \n",
    "\n",
    "Maak een staafdiagram van de absolute frequenties van de datums."
   ]
  },
  {
   "cell_type": "code",
   "execution_count": null,
   "metadata": {},
   "outputs": [],
   "source": [
    "# hier komt jouw oplossing"
   ]
  },
  {
   "cell_type": "markdown",
   "metadata": {
    "id": "zEmukk--d6XZ"
   },
   "source": [
    "### Oefening 19  \n",
    "\n",
    "Wat zie je?"
   ]
  },
  {
   "cell_type": "code",
   "execution_count": null,
   "metadata": {},
   "outputs": [],
   "source": [
    "# hier komt jouw oplossing"
   ]
  }
 ],
 "metadata": {
  "colab": {
   "authorship_tag": "ABX9TyMObJaHn9R5PO0sQgVlAWqr",
   "collapsed_sections": [],
   "name": "webserver_freq_oplossing.ipynb",
   "provenance": [],
   "toc_visible": true
  },
  "kernelspec": {
   "display_name": "Python 3",
   "language": "python",
   "name": "python3"
  },
  "language_info": {
   "codemirror_mode": {
    "name": "ipython",
    "version": 3
   },
   "file_extension": ".py",
   "mimetype": "text/x-python",
   "name": "python",
   "nbconvert_exporter": "python",
   "pygments_lexer": "ipython3",
   "version": "3.8.7"
  }
 },
 "nbformat": 4,
 "nbformat_minor": 1
}
