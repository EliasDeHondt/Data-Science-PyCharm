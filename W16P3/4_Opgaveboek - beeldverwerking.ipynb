{
 "cells": [
  {
   "cell_type": "markdown",
   "metadata": {
    "pycharm": {
     "name": "#%% md\n"
    }
   },
   "source": [
    "# Opgaveboek- beeldverwerking\n",
    "\n",
    "In deze oefening is het de bedoeling om een histogram te maken van een foto.\n",
    "\n",
    "Schrijf nu zelf een programma waarmee je een foto inlaadt.\n",
    "Vervolgens overloop je alle pixels en je berekent de \"helderheid\" van iedere pixel.\n",
    "Deze helderheden schrijf je naar een array.\n",
    "\n",
    "De helderheid van een pixel kan je berekenen met volgende formule:\n",
    "\n",
    "$helderheid = 0.3 \\cdot rood + 0.59 \\cdot groen + 0.11 \\cdot blauw$\n",
    "\n",
    "Lees nu het bestand “Lenna.png” in en maak een histogram. Teken ook een frequentiepolygoon.\n",
    "\n",
    "Hint: maak gebruik van de library \"Pillow\"\n"
   ]
  },
  {
   "cell_type": "markdown",
   "metadata": {
    "pycharm": {
     "name": "#%% md\n"
    }
   },
   "source": [
    "###  Importeren van de libraries"
   ]
  },
  {
   "cell_type": "code",
   "execution_count": null,
   "metadata": {
    "pycharm": {
     "name": "#%%\n"
    }
   },
   "outputs": [],
   "source": [
    "# hier komt jouw oplossing"
   ]
  },
  {
   "cell_type": "markdown",
   "metadata": {
    "pycharm": {
     "name": "#%% md\n"
    }
   },
   "source": [
    "###  Inlezen van de gegevens\n",
    "\n",
    "- Laad het bestand “Lenna.png” in en maak er een numpy array van.\n",
    "- Maak hiervoor gebruik van de \"Image\" module in de  \"Pillow\" library (https://pillow.readthedocs.io/en/stable/)"
   ]
  },
  {
   "cell_type": "code",
   "execution_count": null,
   "metadata": {
    "pycharm": {
     "name": "#%%\n"
    }
   },
   "outputs": [],
   "source": [
    "# hier komt jouw oplossing"
   ]
  },
  {
   "cell_type": "markdown",
   "metadata": {
    "pycharm": {
     "name": "#%% md\n"
    }
   },
   "source": [
    "### Maak een plot van de roodwaarden van het beeld\n",
    "- Maak een kopie van het ingeladen bestand\n",
    "- Zet de waarden van R en G op 0\n",
    "- Plot vervolgens het verkregen beeld met de functie `imshow` van de matplotlib library."
   ]
  },
  {
   "cell_type": "code",
   "execution_count": null,
   "metadata": {
    "pycharm": {
     "name": "#%%\n"
    }
   },
   "outputs": [],
   "source": [
    "# hier komt jouw oplossing"
   ]
  },
  {
   "cell_type": "code",
   "execution_count": null,
   "metadata": {
    "pycharm": {
     "name": "#%%\n"
    }
   },
   "outputs": [],
   "source": [
    "# hier komt jouw oplossing"
   ]
  },
  {
   "cell_type": "code",
   "execution_count": null,
   "metadata": {
    "pycharm": {
     "name": "#%%\n"
    }
   },
   "outputs": [],
   "source": [
    "# hier komt jouw oplossing"
   ]
  },
  {
   "cell_type": "markdown",
   "metadata": {
    "pycharm": {
     "name": "#%% md\n"
    }
   },
   "source": [
    "### Histogram van de helderheden\n",
    "- Bereken nu de helderheid voor elke pixel m.b.v de onderstaande formule\n",
    "- $ helderheid = 0.3 \\cdot rood+0.59 \\cdot groen+0.11 \\cdot blauw $\n",
    "- maak een histogram van de helderheden"
   ]
  },
  {
   "cell_type": "code",
   "execution_count": null,
   "metadata": {
    "pycharm": {
     "name": "#%%\n"
    }
   },
   "outputs": [],
   "source": [
    "# hier komt jouw oplossing"
   ]
  },
  {
   "cell_type": "code",
   "execution_count": null,
   "metadata": {
    "pycharm": {
     "name": "#%%\n"
    }
   },
   "outputs": [],
   "source": [
    "# hier komt jouw oplossing"
   ]
  },
  {
   "cell_type": "code",
   "execution_count": null,
   "metadata": {
    "pycharm": {
     "name": "#%%\n"
    }
   },
   "outputs": [],
   "source": [
    "# hier komt jouw oplossing"
   ]
  },
  {
   "cell_type": "code",
   "execution_count": null,
   "metadata": {
    "pycharm": {
     "name": "#%%\n"
    }
   },
   "outputs": [],
   "source": [
    "# hier komt jouw oplossing"
   ]
  },
  {
   "cell_type": "code",
   "execution_count": null,
   "metadata": {
    "pycharm": {
     "name": "#%%\n"
    }
   },
   "outputs": [],
   "source": [
    "# hier komt jouw oplossing"
   ]
  },
  {
   "cell_type": "code",
   "execution_count": null,
   "metadata": {
    "pycharm": {
     "name": "#%%\n"
    }
   },
   "outputs": [],
   "source": [
    "# hier komt jouw oplossing"
   ]
  },
  {
   "cell_type": "markdown",
   "metadata": {
    "pycharm": {
     "name": "#%% md\n"
    }
   },
   "source": [
    "### Maak een frequentiepolygoon van de helderheden"
   ]
  },
  {
   "cell_type": "code",
   "execution_count": null,
   "metadata": {
    "pycharm": {
     "name": "#%%\n"
    }
   },
   "outputs": [],
   "source": [
    "# hier komt jouw oplossing"
   ]
  },
  {
   "cell_type": "code",
   "execution_count": null,
   "metadata": {
    "pycharm": {
     "name": "#%%\n"
    }
   },
   "outputs": [],
   "source": [
    "# hier komt jouw oplossing"
   ]
  }
 ],
 "metadata": {
  "colab": {
   "authorship_tag": "ABX9TyNTOX06n8Qsa9GnYV+lR08l",
   "collapsed_sections": [],
   "name": "lenna.ipynb",
   "provenance": []
  },
  "kernelspec": {
   "display_name": "Python 3",
   "language": "python",
   "name": "python3"
  },
  "language_info": {
   "codemirror_mode": {
    "name": "ipython",
    "version": 3
   },
   "file_extension": ".py",
   "mimetype": "text/x-python",
   "name": "python",
   "nbconvert_exporter": "python",
   "pygments_lexer": "ipython3",
   "version": "3.8.7"
  }
 },
 "nbformat": 4,
 "nbformat_minor": 1
}