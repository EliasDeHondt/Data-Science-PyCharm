{
 "cells": [
  {
   "cell_type": "code",
   "execution_count": null,
   "metadata": {
    "pycharm": {
     "name": "#%%\n"
    }
   },
   "outputs": [],
   "source": [
    "# hier komt jouw oplossing"
   ]
  },
  {
   "cell_type": "code",
   "execution_count": null,
   "metadata": {
    "pycharm": {
     "name": "#%%\n"
    }
   },
   "outputs": [],
   "source": [
    "# hier komt jouw oplossing"
   ]
  },
  {
   "cell_type": "markdown",
   "metadata": {
    "id": "j8wJ8qXCxr9j",
    "pycharm": {
     "name": "#%% md\n"
    }
   },
   "source": [
    "# Frequentieverdelingen\n",
    "\n",
    "Gebruik altijd 3 beduidende cijfers voor het eindresultaat in onderstaande oefeningen.\n",
    "\n",
    "\n",
    "## Vraag 1\n",
    "\n",
    "In het onderzoek naar de gezondheid van studenten worden vragen gesteld over (gezond) eten. Een van die vragen is: Hoeveel keer per week eet je verse groenten bij het avondmaal? Als je de antwoorden van 30 leerlingen in een grafiek wil presenteren, welke grafieken kun je\n",
    "hiervoor dan gebruiken?"
   ]
  },
  {
   "cell_type": "code",
   "execution_count": null,
   "metadata": {
    "pycharm": {
     "name": "#%%\n"
    }
   },
   "outputs": [],
   "source": [
    "# hier komt jouw oplossing"
   ]
  },
  {
   "cell_type": "markdown",
   "metadata": {
    "id": "DPm5aY-Fxr9k",
    "pycharm": {
     "name": "#%% md\n"
    }
   },
   "source": [
    "## Vraag 2\n",
    "\n",
    "In het onderzoek naar de gezondheid van leerlingen worden vragen gesteld over (gezond) eten. Een van die vragen is: Welke soort fruit heb je in de afgelopen week (7 dagen) het meest gegeten? De antwoorden van 30 leerlingen staan in de volgende tabel:\n",
    "\n",
    "| Fruit | appel | banaan | druiven | peer | meloen | kiwi\n",
    "| --- | --- | --- | --- |--- |--- |---\n",
    "| Frequentie | 17 | 5 | 3 | 1 | 2 | 2\n",
    "\n",
    "1. Maak (indien mogelijk) van deze data een **taartdiagram**. Als het niet mogelijk is om het diagram te maken, leg uit waarom."
   ]
  },
  {
   "cell_type": "code",
   "execution_count": null,
   "metadata": {
    "pycharm": {
     "name": "#%%\n"
    }
   },
   "outputs": [],
   "source": [
    "# hier komt jouw oplossing"
   ]
  },
  {
   "cell_type": "markdown",
   "metadata": {
    "id": "wy95PctDxr9l",
    "pycharm": {
     "name": "#%% md\n"
    }
   },
   "source": [
    "2. Maak (indien mogelijk) van deze data een **staafdiagram**. Als het niet mogelijk is om het diagram te maken, leg uit waarom."
   ]
  },
  {
   "cell_type": "code",
   "execution_count": null,
   "metadata": {
    "pycharm": {
     "name": "#%%\n"
    }
   },
   "outputs": [],
   "source": [
    "# hier komt jouw oplossing"
   ]
  },
  {
   "cell_type": "markdown",
   "metadata": {
    "id": "woEM4vyCxr9m",
    "pycharm": {
     "name": "#%% md\n"
    }
   },
   "source": [
    "3. Maak (indien mogelijk) van deze data een **histogram**. Als het niet mogelijk is om het diagram te maken, leg uit waarom."
   ]
  },
  {
   "cell_type": "code",
   "execution_count": null,
   "metadata": {
    "pycharm": {
     "name": "#%%\n"
    }
   },
   "outputs": [],
   "source": [
    "# hier komt jouw oplossing"
   ]
  },
  {
   "cell_type": "markdown",
   "metadata": {
    "id": "OpOrHn2yxr9n",
    "pycharm": {
     "name": "#%% md\n"
    }
   },
   "source": [
    "## Vraag 3\n",
    "\n",
    "Gegeven is volgende frequentietabel\n",
    "\n",
    "| x | 4 | 5 | 6 | 7 | 8 | 9 | 10\n",
    "| --- | --- | --- | --- |--- |---  |--- |--- \n",
    "| f | 2 | 3 | 5 | 6 | 4 | 2 | 3 \n",
    "\n",
    "1. Welke cumulatieve percentage hoort bij score 6?\n",
    "1. Welke percentielscore hoort bij score 8?"
   ]
  },
  {
   "cell_type": "code",
   "execution_count": null,
   "metadata": {
    "pycharm": {
     "name": "#%%\n"
    }
   },
   "outputs": [],
   "source": [
    "# hier komt jouw oplossing"
   ]
  },
  {
   "cell_type": "markdown",
   "metadata": {
    "id": "TQYoEIG4xr9n",
    "pycharm": {
     "name": "#%% md\n"
    }
   },
   "source": [
    "## Vraag 4\n",
    "\n",
    "Een inkomensverdeling is als volgt\n",
    "\n",
    "| categorie | A | B | C | D |\n",
    "| --- | --- | --- | --- | --- |\n",
    "| inkomen | 1000 tot 2000 | 2000 tot 3000 | 3000 tot 4000 | 4000 tot 5000 |\n",
    "| frequentie | 30 | 40 | 30 | 45 |\n",
    "\n",
    "1. Vervolledig de frequentietabel met relatieve frequenties (in percent), cumulatief percentage en percentielscores."
   ]
  },
  {
   "cell_type": "code",
   "execution_count": null,
   "metadata": {
    "pycharm": {
     "name": "#%%\n"
    }
   },
   "outputs": [],
   "source": [
    "# hier komt jouw oplossing"
   ]
  },
  {
   "cell_type": "markdown",
   "metadata": {
    "id": "Fn7e1ha_xr9o",
    "pycharm": {
     "name": "#%% md\n"
    }
   },
   "source": [
    "## Vraag 5\n",
    "\n",
    "De scores op een rekentoets worden per basisschool omgezet in percentielscores.  Jos haalt op school A op de toets een percentielscore van 72. Brent haalt op school B op de toets een percentielscore van 74.  De leerkracht concludeert terecht dat ...\n",
    "\n",
    "1. Jos beter is in rekenen dan Brent.\n",
    "1. de gemiddelde percentielscore 73 is\n",
    "1. geen conclusie mogelijk is over wie beter is in rekenen\n",
    "1. de toets op school A gemakkelijker is dan op school B"
   ]
  },
  {
   "cell_type": "code",
   "execution_count": null,
   "metadata": {
    "pycharm": {
     "name": "#%%\n"
    }
   },
   "outputs": [],
   "source": [
    "# hier komt jouw oplossing"
   ]
  },
  {
   "cell_type": "markdown",
   "metadata": {
    "id": "w7-Lpa-Hxr9o",
    "pycharm": {
     "name": "#%% md\n"
    }
   },
   "source": [
    "## Vraag 6\n",
    "\n",
    "Jonathan heeft een score van 110.  Deze score blijkt met een percentielscore van 88 te corresponderen. Jonathan en alle andere studenten krijgen een bonus van 5 punten. Wat is de nieuwe percentielscore van Jonathan?\n",
    "1. nu kleiner is dan 88\n",
    "1. weer gelijk is aan 88\n",
    "1. nu groter dan 88\n",
    "1. niet meer te bepalen"
   ]
  },
  {
   "cell_type": "code",
   "execution_count": null,
   "metadata": {
    "pycharm": {
     "name": "#%%\n"
    }
   },
   "outputs": [],
   "source": [
    "# hier komt jouw oplossing"
   ]
  },
  {
   "cell_type": "markdown",
   "metadata": {
    "id": "ZbyO4TY3xr9p",
    "pycharm": {
     "name": "#%% md\n"
    }
   },
   "source": [
    "## Vraag 7\n",
    "\n",
    "Voor het berekenen van het percentiel die bij een bepaalde score hoort, moet je de cumulatieve frequentie berekenen die dan omgezet wordt in een percentage.  Is dit waar of onwaar?"
   ]
  },
  {
   "cell_type": "code",
   "execution_count": null,
   "metadata": {
    "pycharm": {
     "name": "#%%\n"
    }
   },
   "outputs": [],
   "source": [
    "# hier komt jouw oplossing"
   ]
  },
  {
   "cell_type": "code",
   "execution_count": null,
   "metadata": {
    "pycharm": {
     "name": "#%%\n"
    }
   },
   "outputs": [],
   "source": [
    "# hier komt jouw oplossing"
   ]
  },
  {
   "cell_type": "markdown",
   "metadata": {
    "id": "nhSrCo14xr9p",
    "pycharm": {
     "name": "#%% md\n"
    }
   },
   "source": [
    "## Vraag 8\n",
    "\n",
    "Gegeven volgende frequentietabel\n",
    "\n",
    "| score | 2 | 3 | 4 | 5 | 6 | 7 | 8 | 9 \n",
    "| --- | --- | --- | --- |--- |---  |--- |--- |--- \n",
    "| frequentie | 1 | 3 | 2 | 3 | 5 | 6 | 3 | 2 \n",
    "\n",
    "De scores van deze variabelen kunnen theoretisch gezien variëren van 1 tot 10. Maak van deze frequenties een histo\n",
    "gram met 5 klassen die het hele theoretische bereik bedekken.\n",
    "\n",
    "Welk cumulatieve percentage hoort bij score 6?"
   ]
  },
  {
   "cell_type": "code",
   "execution_count": null,
   "metadata": {
    "pycharm": {
     "name": "#%%\n"
    }
   },
   "outputs": [],
   "source": [
    "# hier komt jouw oplossing"
   ]
  },
  {
   "cell_type": "code",
   "execution_count": null,
   "metadata": {
    "pycharm": {
     "name": "#%%\n"
    }
   },
   "outputs": [],
   "source": [
    "# hier komt jouw oplossing"
   ]
  },
  {
   "cell_type": "markdown",
   "metadata": {
    "id": "bu4seqtRxr9q",
    "pycharm": {
     "name": "#%% md\n"
    }
   },
   "source": [
    "## Vraag 9\n",
    "\n",
    "gegeven volgende frequentietabel\n",
    "\n",
    "| x | 4 | 5 | 6 | 7 | 8 | 9 | 10 | 11\n",
    "| --- | --- | --- | --- |--- |---  |--- |--- |--- |\n",
    "| f | 5 | 7 | 9 | 11 | 12 | 10 | 8 | 6\n",
    "\n",
    "1. Wat is de percentielscore die hoort bij score 9?\n",
    "1. Wat is de percentielscore die hoort bij score 7.5?\n",
    "1. Wat is de score die hoort bij percentielscore 31?"
   ]
  },
  {
   "cell_type": "code",
   "execution_count": null,
   "metadata": {
    "pycharm": {
     "name": "#%%\n"
    }
   },
   "outputs": [],
   "source": [
    "# hier komt jouw oplossing"
   ]
  },
  {
   "cell_type": "markdown",
   "metadata": {
    "id": "6ErCNghJxr9q",
    "pycharm": {
     "name": "#%% md\n"
    }
   },
   "source": [
    "## Vraag 10\n",
    "\n",
    "Bekijk het bijgeleverde bestand: \"tevredenheid.txt\".  Hierin staan de resultaten van een tevredenheidsenqête.  De scores gaan van 1 tot 10 (1 = heel ontevreden, 10 = heel tevreden).\n",
    "\n",
    "1. laad deze gegevens\n",
    "1. maak een frequentietabel voor deze gegevens.  Bepaal de absolute frequenties, relatieve frequenties, cumulatieve frequenties en cumulatieve percentages.  Wat zie je?\n",
    "1. plot de relatieve frequenties in een diagram (welk is hier aangewezen?)\n",
    "1. hoeveel procent van de mensen was niet tevreden (score < 5)?"
   ]
  },
  {
   "cell_type": "code",
   "execution_count": null,
   "metadata": {
    "pycharm": {
     "name": "#%%\n"
    }
   },
   "outputs": [],
   "source": [
    "# hier komt jouw oplossing"
   ]
  },
  {
   "cell_type": "code",
   "execution_count": null,
   "metadata": {
    "pycharm": {
     "name": "#%%\n"
    }
   },
   "outputs": [],
   "source": [
    "# hier komt jouw oplossing"
   ]
  },
  {
   "cell_type": "code",
   "execution_count": null,
   "metadata": {
    "pycharm": {
     "name": "#%%\n"
    }
   },
   "outputs": [],
   "source": [
    "# hier komt jouw oplossing"
   ]
  }
 ],
 "metadata": {
  "colab": {
   "name": "1_Opgaveboek - frequentieverdelingen - oplossingen.ipynb",
   "provenance": []
  },
  "kernelspec": {
   "display_name": "Python 3",
   "language": "python",
   "name": "python3"
  },
  "language_info": {
   "codemirror_mode": {
    "name": "ipython",
    "version": 3
   },
   "file_extension": ".py",
   "mimetype": "text/x-python",
   "name": "python",
   "nbconvert_exporter": "python",
   "pygments_lexer": "ipython3",
   "version": "3.8.7"
  }
 },
 "nbformat": 4,
 "nbformat_minor": 0
}