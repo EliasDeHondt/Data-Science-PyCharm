{
 "cells": [
  {
   "cell_type": "markdown",
   "source": [
    "# Oefeningen basis Python"
   ],
   "metadata": {
    "collapsed": false,
    "id": "mFaxRo4zFTjR"
   }
  },
  {
   "cell_type": "markdown",
   "source": [
    "Importeer de volgende bibliotheken: math, numpy en pandas"
   ],
   "metadata": {
    "collapsed": false,
    "id": "ZU2HAOAjFTjb"
   }
  },
  {
   "cell_type": "code",
   "execution_count": null,
   "outputs": [],
   "source": [
    "# hier komt jouw code\n",
    "import math\n",
    "import numpy as np\n",
    "import pandas as pd"
   ],
   "metadata": {
    "id": "vPoaAv94FTjd",
    "pycharm": {
     "is_executing": true
    }
   }
  },
  {
   "cell_type": "markdown",
   "source": [
    "## Lijsten en tabellen"
   ],
   "metadata": {
    "collapsed": false,
    "id": "f44pVVZjFTjg"
   }
  },
  {
   "cell_type": "markdown",
   "source": [
    "Maak een list met volgende waarden: 1, 2, 3, 4, 5 en stop deze in de variabele \"id\""
   ],
   "metadata": {
    "collapsed": false,
    "id": "teXMkG81FTjh"
   }
  },
  {
   "cell_type": "code",
   "execution_count": null,
   "metadata": {
    "collapsed": true,
    "id": "jib4os2EFTji",
    "pycharm": {
     "is_executing": true
    }
   },
   "outputs": [],
   "source": [
    "# hier komt jouw code\n",
    "id = [1,2,3,4,5]"
   ]
  },
  {
   "cell_type": "markdown",
   "source": [
    "Maak een numpy array met volgende waarden: 15, 18, 11, 17, 20 en stop deze in de variabele \"leeftijd\""
   ],
   "metadata": {
    "collapsed": false,
    "id": "OqRybAaCFTjj"
   }
  },
  {
   "cell_type": "code",
   "execution_count": null,
   "outputs": [],
   "source": [
    "# hier komt jouw code"
   ],
   "metadata": {
    "id": "g2wPE-lrFTjk"
   }
  },
  {
   "cell_type": "markdown",
   "source": [
    "Zet de waarden van \"leeftijd\" om naar een pandas Series en zet het resultaat terug in de variabele \"leeftijd\".  Verifieer dat het type klopt."
   ],
   "metadata": {
    "collapsed": false,
    "id": "QaJTRPTjFTjm"
   }
  },
  {
   "cell_type": "code",
   "execution_count": null,
   "outputs": [],
   "source": [
    "# hier komt jouw code"
   ],
   "metadata": {
    "id": "RXzNSHxoFTjo"
   }
  },
  {
   "cell_type": "markdown",
   "source": [
    "Maak een list met volgende waarden: 54.2, 68.1, 41.7, 59.5, 65.4 en stop deze in de variabele \"gewicht\""
   ],
   "metadata": {
    "collapsed": false,
    "id": "Bdqg6K2RFTjp"
   }
  },
  {
   "cell_type": "code",
   "execution_count": null,
   "outputs": [],
   "source": [
    "# hier komt jouw code"
   ],
   "metadata": {
    "id": "UF2IQTAhFTjq"
   }
  },
  {
   "cell_type": "markdown",
   "source": [
    "Maak een numpy array met volgende waarden: 36.5, 37.1, 36.4, 37.2, 36.9 en stop deze in de variabele \"temp\""
   ],
   "metadata": {
    "collapsed": false,
    "id": "4x4nUepqFTjr"
   }
  },
  {
   "cell_type": "code",
   "execution_count": null,
   "outputs": [],
   "source": [
    "# hier komt jouw code"
   ],
   "metadata": {
    "id": "pDJ_6XrmFTjr"
   }
  },
  {
   "cell_type": "markdown",
   "source": [
    "Zet de array \"temp\" om naar een list en bewaar het resultaat terug in \"temp\".  Verifieer dat het type nu wel degelijk een list is."
   ],
   "metadata": {
    "collapsed": false,
    "id": "a7BrLqdtFTjs"
   }
  },
  {
   "cell_type": "code",
   "execution_count": null,
   "outputs": [],
   "source": [
    "# hier komt jouw code"
   ],
   "metadata": {
    "id": "UWujLkrqFTjs"
   }
  },
  {
   "cell_type": "markdown",
   "source": [
    "Maak een tabel (data frame) waarin de vorige lijsten de kolommen vormen en stop deze in de variabele \"gegevens\".  Gebruik voor de namen van de kolommen de namen van de variabelen (\"id\", \"leeftijd\", \"gewicht\" en \"temp\")."
   ],
   "metadata": {
    "collapsed": false,
    "id": "ybEteHLCFTjt"
   }
  },
  {
   "cell_type": "code",
   "execution_count": null,
   "outputs": [],
   "source": [
    "# hier komt jouw code"
   ],
   "metadata": {
    "id": "3ihm76soFTju"
   }
  },
  {
   "cell_type": "markdown",
   "source": [
    "Toon de kolomnamen van de tabel"
   ],
   "metadata": {
    "collapsed": false,
    "id": "z25r7HrDFTju"
   }
  },
  {
   "cell_type": "code",
   "execution_count": null,
   "outputs": [],
   "source": [
    "# hier komt jouw code"
   ],
   "metadata": {
    "id": "T2qgegfgFTju"
   }
  },
  {
   "cell_type": "markdown",
   "source": [
    "Toon het aantal kolommen"
   ],
   "metadata": {
    "collapsed": false,
    "id": "8mTm8XsnFTjv"
   }
  },
  {
   "cell_type": "code",
   "execution_count": null,
   "outputs": [],
   "source": [
    "# hier komt jouw code"
   ],
   "metadata": {
    "id": "zRa_esQLFTjv"
   }
  },
  {
   "cell_type": "markdown",
   "source": [
    "Toon de kolom met naam 'temp'"
   ],
   "metadata": {
    "collapsed": false,
    "id": "_PGiTno2FTjw"
   }
  },
  {
   "cell_type": "code",
   "execution_count": null,
   "outputs": [],
   "source": [
    "# hier komt jouw code"
   ],
   "metadata": {
    "id": "LrBVH_ViFTjw"
   }
  },
  {
   "cell_type": "markdown",
   "source": [
    "Toon de 2e kolom uit de tabel zonder de naam te gebruiken"
   ],
   "metadata": {
    "collapsed": false,
    "id": "IBeuxH-mFTjw"
   }
  },
  {
   "cell_type": "code",
   "execution_count": null,
   "outputs": [],
   "source": [
    "# hier komt jouw code"
   ],
   "metadata": {
    "id": "R35dos9WFTjx"
   }
  },
  {
   "cell_type": "markdown",
   "source": [
    "Verwijder de derde rij uit de tabel"
   ],
   "metadata": {
    "collapsed": false,
    "id": "z-l4nMLZFTjx"
   }
  },
  {
   "cell_type": "code",
   "execution_count": null,
   "outputs": [],
   "source": [
    "# hier komt jouw code"
   ],
   "metadata": {
    "id": "9LZHZPezFTjx"
   }
  },
  {
   "cell_type": "markdown",
   "source": [
    "Toon de 3e rij uit de tabel"
   ],
   "metadata": {
    "collapsed": false,
    "id": "LY6TOoNeFTjx"
   }
  },
  {
   "cell_type": "code",
   "execution_count": null,
   "outputs": [],
   "source": [
    "# hier komt jouw code"
   ],
   "metadata": {
    "id": "PoZewT1MFTjy"
   }
  },
  {
   "cell_type": "markdown",
   "source": [
    "Toon de 2e en de 4e rij uit de tabel"
   ],
   "metadata": {
    "collapsed": false,
    "id": "4KfUES6aFTjy"
   }
  },
  {
   "cell_type": "code",
   "execution_count": null,
   "outputs": [],
   "source": [
    "# hier komt jouw code"
   ],
   "metadata": {
    "id": "glgbhLvJFTjy"
   }
  },
  {
   "cell_type": "markdown",
   "source": [
    "Toon de 2e tot en met 4e rij uit de tabel"
   ],
   "metadata": {
    "collapsed": false,
    "id": "8c5wiMBdFTjy"
   }
  },
  {
   "cell_type": "code",
   "execution_count": null,
   "outputs": [],
   "source": [
    "# hier komt jouw code"
   ],
   "metadata": {
    "id": "rklfZ4lQFTjy"
   }
  },
  {
   "cell_type": "markdown",
   "source": [
    "Bereken de minimum en maximum leeftijd.  Je kan dit doen door de methoden \"min()\" en \"max()\" op te roepen op de kolom."
   ],
   "metadata": {
    "collapsed": false,
    "id": "AkAdinLeFTjz"
   }
  },
  {
   "cell_type": "code",
   "execution_count": null,
   "outputs": [],
   "source": [
    "# hier komt jouw code"
   ],
   "metadata": {
    "id": "DLuV6UoLFTjz"
   }
  },
  {
   "cell_type": "markdown",
   "source": [
    "Bereken de som van alle gewichten en deel die door het aantal gewichten (bereken dus het gemiddelde gewicht).  Je kan hiervoor de methode \"sum()\" oproepen op de kolom.  De lengte van de kolom vind je met de functie \"len()\".\n",
    "Bemerk dat sum() een methode is die je op een object oproept (de kolom) en len() een functie is die niet aan een object gekoppeld is (vergelijkbaar met een static method in java).  Dit laat zien dat Python een hybride taal is waarin je tegelijk OO en procedureel kan programmeren.\n",
    "Toon het resultaat met 3 cijfers na de komma.  Hier zie je een hint hoe je dat kan doen:\n",
    "```python\n",
    "print(\"pi is{:10.2f}\".format(math.pi))\n",
    "```"
   ],
   "metadata": {
    "collapsed": false,
    "id": "Qc_3ezfrFTjz"
   }
  },
  {
   "cell_type": "code",
   "execution_count": null,
   "outputs": [],
   "source": [
    "# hier komt jouw code"
   ],
   "metadata": {
    "id": "YggSGT6WFTj0"
   }
  },
  {
   "cell_type": "markdown",
   "source": [
    "Bereken alle gewichten in gram (vermenigvuldig ze dus met 1000) maar verander de tabel niet.  Geef het resultaat weer als een Python list.\n",
    "Zie je wat er met de laatste waarde gebeurt?  Hoe komt dit?"
   ],
   "metadata": {
    "collapsed": false,
    "id": "kJ8B6HxGFTj1"
   }
  },
  {
   "cell_type": "code",
   "execution_count": null,
   "outputs": [],
   "source": [
    "# hier komt jouw code"
   ],
   "metadata": {
    "id": "DX2xu8vlFTj1"
   }
  },
  {
   "cell_type": "markdown",
   "source": [
    "Zet alle temperaturen om naar Fahrenheit, rondt deze af op 1 cijfer na de komma en zet deze waarden in de tabel in een nieuwe kolom met de naam \"temp_far\".\n",
    "Hint: een kolom uit een data frame is een Series en heeft een methode \"round()\""
   ],
   "metadata": {
    "collapsed": false,
    "id": "Yzgi7V3MFTj1"
   }
  },
  {
   "cell_type": "code",
   "execution_count": null,
   "outputs": [],
   "source": [
    "# hier komt jouw code"
   ],
   "metadata": {
    "id": "gZbxqkVMFTj2"
   }
  },
  {
   "cell_type": "markdown",
   "source": [
    "Bewaar de tabel in een bestand \"gegevens.csv\".  Gebruik je lokale settings voor de seperator en het formatteren van kommagetallen."
   ],
   "metadata": {
    "collapsed": false,
    "id": "9hGP5vI2FTj2"
   }
  },
  {
   "cell_type": "code",
   "execution_count": null,
   "outputs": [],
   "source": [
    "# hier komt jouw code"
   ],
   "metadata": {
    "id": "7_RC9UuRFTj3"
   }
  },
  {
   "cell_type": "markdown",
   "source": [
    "Open de tabel in excel of open office. Als je het bestand juist bewaard hebt, zou dit moeten lukken.  Je kan het bestand eventueel ook uploaden naar google drive en openen met google spreadheets.\n",
    "Voeg er een kolom aan toe met de naam \"extra\".  Zet volgende gegevens in de kolom: \"hallo\", \"dit\", \"is\", \"een\", \"testje\"\n",
    "Bewaar het bestand als csv."
   ],
   "metadata": {
    "collapsed": false,
    "id": "wc5KRHi2FTj3"
   }
  },
  {
   "cell_type": "markdown",
   "source": [
    "Lees de aangepaste tabel nu terug in en kijk na of de nieuwe kolom goed werd ingelezen."
   ],
   "metadata": {
    "collapsed": false,
    "id": "ABYB2tQnFTj3"
   }
  },
  {
   "cell_type": "code",
   "execution_count": null,
   "outputs": [],
   "source": [
    "# hier komt jouw code"
   ],
   "metadata": {
    "id": "wWPYgmdbFTj4"
   }
  },
  {
   "cell_type": "markdown",
   "source": [
    "Verwijder de kolom “id”."
   ],
   "metadata": {
    "collapsed": false,
    "id": "lEJFMazhFTj4"
   }
  },
  {
   "cell_type": "code",
   "execution_count": null,
   "outputs": [],
   "source": [
    "# hier komt jouw code"
   ],
   "metadata": {
    "id": "8bShY8FbFTj5"
   }
  },
  {
   "cell_type": "markdown",
   "source": [
    "Voeg een rij toe met [ 30, 74.1, 36.5, 97.7 ] als waarden (zoek eens op hoe je dat kan doen):"
   ],
   "metadata": {
    "collapsed": false,
    "id": "cmHqaCGkFTj5"
   }
  },
  {
   "cell_type": "code",
   "execution_count": null,
   "outputs": [],
   "source": [
    "# hier komt jouw code"
   ],
   "metadata": {
    "id": "Atkuac-hFTj6"
   }
  },
  {
   "cell_type": "markdown",
   "source": [
    "Voeg een kolom “lengte” toe met gegevens: 160, 175, 162, 169, 179"
   ],
   "metadata": {
    "collapsed": false,
    "id": "_dbiCoCbFTj6"
   }
  },
  {
   "cell_type": "code",
   "execution_count": null,
   "outputs": [],
   "source": [
    "# hier komt jouw code"
   ],
   "metadata": {
    "id": "p8WjU7Q7FTj7"
   }
  },
  {
   "cell_type": "markdown",
   "source": [
    "Bereken de BMI van iedere persoon in de tabel en rond deze af op 1 cijfer na de komma.\n",
    "De BMI is gelijk aan het gewicht gedeeld door de lengte in het kwadraat.  De lengte moet in meter uitgedrukt zijn en het gewicht in kilogram.\n",
    "Het resultaat moet een list zijn."
   ],
   "metadata": {
    "collapsed": false,
    "id": "zEgxRBx-FTj7"
   }
  },
  {
   "cell_type": "code",
   "execution_count": null,
   "outputs": [],
   "source": [
    "# hier komt jouw code"
   ],
   "metadata": {
    "id": "uHODwbqsFTj7"
   }
  },
  {
   "cell_type": "markdown",
   "source": [
    "Voeg deze BMI als kolom toe aan de tabel."
   ],
   "metadata": {
    "collapsed": false,
    "id": "bmBJ5txsFTj8"
   }
  },
  {
   "cell_type": "code",
   "execution_count": null,
   "outputs": [],
   "source": [
    "# hier komt jouw code"
   ],
   "metadata": {
    "id": "8eGkrzDpFTj8"
   }
  },
  {
   "cell_type": "markdown",
   "source": [
    "Toon alle gewichten die kleiner of gelijk zijn aan 60 uit de kolom gewicht als een list."
   ],
   "metadata": {
    "collapsed": false,
    "id": "HXPSxuO7FTj8"
   }
  },
  {
   "cell_type": "code",
   "execution_count": null,
   "outputs": [],
   "source": [
    "# hier komt jouw code"
   ],
   "metadata": {
    "id": "XWjIbMmKFTj8"
   }
  },
  {
   "cell_type": "markdown",
   "source": [
    "Vervang in de kolom leeftijd alle leeftijden groter of gelijk aan 18 door 19.\n",
    "Krijg je een warning?  Je kan dit oplossen door gegevens.loc[] te gebruiken."
   ],
   "metadata": {
    "collapsed": false,
    "id": "qqV2k702FTj9"
   }
  },
  {
   "cell_type": "code",
   "execution_count": null,
   "outputs": [],
   "source": [
    "# hier komt jouw code"
   ],
   "metadata": {
    "id": "rpP5SOLOFTj9"
   }
  },
  {
   "cell_type": "markdown",
   "source": [
    "Vind alle temperaturen van de personen die ouder zijn dan 16 jaar.  Geef het resultaat weer als een numpy array."
   ],
   "metadata": {
    "collapsed": false,
    "id": "UH66Pxl_FTj9"
   }
  },
  {
   "cell_type": "code",
   "execution_count": null,
   "outputs": [],
   "source": [
    "# hier komt jouw code"
   ],
   "metadata": {
    "id": "HFkF5oEqFTj9"
   }
  },
  {
   "cell_type": "markdown",
   "source": [
    "## Sport data"
   ],
   "metadata": {
    "collapsed": false,
    "id": "UPJxVn4iFTj-"
   }
  },
  {
   "cell_type": "markdown",
   "source": [
    "Bepaal de separator en teken voor kommagetallen in het bestand \"sportData.csv\".\n",
    "Lees het bestand \"sportData.csv\" vervolgens in en zet het resultaat in de variabele \"sport\".\n",
    "Toon tenslotte alle kolommen van de tabel, samen met hun type."
   ],
   "metadata": {
    "collapsed": false,
    "id": "P2fJqznzFTj-"
   }
  },
  {
   "cell_type": "code",
   "execution_count": null,
   "outputs": [],
   "source": [
    "# hier komt jouw code"
   ],
   "metadata": {
    "id": "RFsGsPSNFTj-"
   }
  },
  {
   "cell_type": "markdown",
   "source": [
    "Hoeveel data-rijen zijn er in dit bestand?"
   ],
   "metadata": {
    "collapsed": false,
    "id": "cls-mrwZFTj_"
   }
  },
  {
   "cell_type": "code",
   "execution_count": null,
   "outputs": [],
   "source": [
    "# hier komt jouw code"
   ],
   "metadata": {
    "id": "RvvrxnIUFTj_"
   }
  },
  {
   "cell_type": "markdown",
   "source": [
    "Bepaal alle mogelijke waarden die in de kolom \"sport\" voorkomen."
   ],
   "metadata": {
    "collapsed": false,
    "id": "XhD_tH-7FTj_"
   }
  },
  {
   "cell_type": "code",
   "execution_count": null,
   "outputs": [],
   "source": [
    "# hier komt jouw code"
   ],
   "metadata": {
    "id": "D0khnY10FTj_"
   }
  },
  {
   "cell_type": "markdown",
   "source": [
    "De kolom \"sport\" bevat blijkbaar de waarden \"Niet bekend\" en \"niet geweten\".  Deze waarden zijn geen geldige waarde en zouden we willen lezen als een ontbrekende waarde.\n",
    "In Python worden verschillende waarden gebruikt om aan te duiden dat er een waarde ontbreekt.  De meest voorkomende is NaN.\n",
    "Lees het bestand terug in, maar gebruikt de optie om aan te geven welke strings als ontbrekende waarde moeten worden herkend.\n",
    "Controleer of het gelukt is door alle mogelijke waarden van de kolom \"sport\" te bekijken.  De twee ongeldige waarden zouden nu weg moeten zijn en vervangen door de waarde nan."
   ],
   "metadata": {
    "collapsed": false,
    "id": "kCoDgLu5FTkA"
   }
  },
  {
   "cell_type": "code",
   "execution_count": null,
   "outputs": [],
   "source": [
    "# hier komt jouw code"
   ],
   "metadata": {
    "id": "MBTBvW2cFTkA"
   }
  },
  {
   "cell_type": "markdown",
   "source": [
    "Geef een commando dat voor iedere kolom bepaalt of er ontbrekende waarden in voor komen."
   ],
   "metadata": {
    "collapsed": false,
    "id": "FWWGUeplFTkA"
   }
  },
  {
   "cell_type": "code",
   "execution_count": null,
   "outputs": [],
   "source": [
    "# hier komt jouw code"
   ],
   "metadata": {
    "id": "n1DtRifTFTkA"
   }
  },
  {
   "cell_type": "markdown",
   "source": [
    "Welke rijen bevatten ontbrekende (NaN) waarden?  Geef een list met alle rijnummers waarin minstens 1 ontbrekende waarde zit."
   ],
   "metadata": {
    "collapsed": false,
    "id": "NsUZIg4lFTkB"
   }
  },
  {
   "cell_type": "code",
   "execution_count": null,
   "outputs": [],
   "source": [
    "# hier komt jouw code"
   ],
   "metadata": {
    "id": "fJxWjOd3FTkB"
   }
  },
  {
   "cell_type": "markdown",
   "source": [
    "Verwijder alle rijen met ontbrekende waarden en stop het resultaat in een nieuwe tabel \"sport_new\".  De oorspronkelijke tabel mag niet veranderd worden."
   ],
   "metadata": {
    "collapsed": false,
    "id": "AXpUW1vyFTkB"
   }
  },
  {
   "cell_type": "code",
   "execution_count": null,
   "outputs": [],
   "source": [
    "# hier komt jouw code"
   ],
   "metadata": {
    "id": "6wWtzWy5FTkB"
   }
  },
  {
   "cell_type": "markdown",
   "source": [
    "Wat is het maximum van kolom \"leeftijd\"?"
   ],
   "metadata": {
    "collapsed": false,
    "id": "yFXv7xwXFTkB"
   }
  },
  {
   "cell_type": "code",
   "execution_count": null,
   "outputs": [],
   "source": [
    "# hier komt jouw code"
   ],
   "metadata": {
    "id": "qzN2_LhPFTkC"
   }
  },
  {
   "cell_type": "markdown",
   "source": [
    "Wat is de som van alle waarden van kolom \"keer per week\" die groter zijn dan 1?"
   ],
   "metadata": {
    "collapsed": false,
    "id": "RnHnW47QFTkC"
   }
  },
  {
   "cell_type": "code",
   "execution_count": null,
   "outputs": [],
   "source": [
    "# hier komt jouw code"
   ],
   "metadata": {
    "id": "spg3c3zTFTkC"
   }
  },
  {
   "cell_type": "markdown",
   "source": [
    "Geef een lijst van alle sporten die beoefend worden door mensen die meer dan 3 keer per week sporten.  Geef het resultaat als een Series."
   ],
   "metadata": {
    "collapsed": false,
    "id": "BZqPBIKyFTkD"
   }
  },
  {
   "cell_type": "code",
   "execution_count": null,
   "outputs": [],
   "source": [
    "# hier komt jouw code"
   ],
   "metadata": {
    "id": "wcx-k4qTFTkD"
   }
  },
  {
   "cell_type": "markdown",
   "source": [
    "## Programmeren"
   ],
   "metadata": {
    "collapsed": false,
    "id": "WEJyDFB0FTkD"
   }
  },
  {
   "cell_type": "markdown",
   "source": [
    "Hier staan een aantal programmeeropdrachten om gewoon te raken aan de syntax en mogelijkheden van Python."
   ],
   "metadata": {
    "collapsed": false,
    "id": "Ux6lMdMPFTkE"
   }
  },
  {
   "cell_type": "markdown",
   "source": [
    "### Dobbelsteen\n",
    "Schrijf een programma dat 6000 keer met de dobbelsteen rolt en telt hoeveel keer iedere waarde voorkomt.  Probeer geen lussen te moeten schrijven.  Je kan dit doen door te starten met een numpy array van 6000 willekeurige getallen tussen 1 en 6.\n",
    "\n",
    "Voorbeeld van de werking (dit kan afwijken omdat het willekeurige getallen zijn, maar alle getallen zouden rond de 1000 moeten liggen):\n",
    "\n",
    "```{text}\n",
    "Aantal enen: 1007\n",
    "Aantal tweeën: 994\n",
    "Aantal drieën: 1006\n",
    "Aantal vieren: 995\n",
    "Aantal vijven: 998\n",
    "Aantal zessen: 1000\n",
    "```"
   ],
   "metadata": {
    "collapsed": false,
    "id": "lJEWGh4TFTkE"
   }
  },
  {
   "cell_type": "code",
   "execution_count": null,
   "outputs": [],
   "source": [
    "# hier komt jouw code"
   ],
   "metadata": {
    "id": "RP7bF1AcFTkE"
   }
  },
  {
   "cell_type": "markdown",
   "source": [
    "### Kerstboom\n",
    "\n",
    "Schrijf een programma om een kerstboom af te drukken met behulp van ‘*’ tekens. De breedte van de boom wordt als een oneven geheel getal (13..29)  ingegeven. Indien niet voldaan is aan deze voorwaarde wordt de breedte op 13 ingesteld.\n",
    "\n",
    "Eerst moet je het midden van de boom bepalen aan de hand van de breedte.\n",
    "Vervolgens druk je de boom regel per regel af.\n",
    "Opmerking: de stam bestaat altijd uit 4 regels met een breedte van 3.\n",
    "Gebruik een for-lus om de boom af te drukken.\n",
    "\n",
    "Je kan het getal inlezen met volgende code:\n",
    "```{python}\n",
    "breedte = int(input(\"Geef de breedte de van kerstboom (oneven getal in bereik 13..29):\"))\n",
    "```\n",
    "Als je iets wil printen zonder newline op het einde (zoals System.out.print() in Java), dan kan dat als volgt:\n",
    "```{python}\n",
    "print(\"hello, \", end='')\n",
    "print(\"world!\")\n",
    "```\n",
    "Je kan een aantal keer hetzelfde karakter in een string zetten met:\n",
    "```{python}\n",
    "karakter = \"*\"\n",
    "aantal = 5\n",
    "print(karakter * aantal)\n",
    "```\n",
    "\n",
    "Voorbeeld van de werking:\n",
    "\n",
    "```{text}\n",
    "Geef de breedte de van kerstboom (oneven getal in bereik 13..29): 13\n",
    "\n",
    "      *\n",
    "     ***\n",
    "    *****\n",
    "   *******\n",
    "  *********\n",
    " ***********\n",
    "*************\n",
    "     ***\n",
    "     ***\n",
    "     ***\n",
    "     ***\n",
    "```"
   ],
   "metadata": {
    "collapsed": false,
    "id": "ZOlDVh48FTkE"
   }
  },
  {
   "cell_type": "code",
   "execution_count": null,
   "outputs": [],
   "source": [
    "# hier komt jouw code"
   ],
   "metadata": {
    "id": "6Ks31u9sFTkF"
   }
  },
  {
   "cell_type": "markdown",
   "source": [
    "### Geheim schrift\n",
    "Schrijf een programma om berichten te coderen en te decoderen zoals Julius Caesar deed.\n",
    "Het programma vraagt eerst een bericht.  Dit bericht wordt naar hoofdletters omgezet.\n",
    "Daarna vraagt het programma aan de gebruiker of het bericht gecodeerd of gedecodeerd moet worden.\n",
    "Om te coderen, doorloopt het programma alle letters in het bericht en verschuift deze letter telkens een aantal plaatsen (zet deze verschuiving in een variabele).\n",
    "Met een verschuiving van 3 wordt bijvoorbeeld de letter 'A' een 'D'.  Indien je aan het einde van het alfabet komt begin je terug bij de 'A' (een 'Z' wordt in dit geval een 'C'). Bij het decoderen doe je uiteraard het tegenovergestelde.  Je kan dit heel snel doen door gebruik te maken van de ASCII code van ieder karakter (je mag ervan uitgaan dat alle karakters in de ASCII set passen).\n",
    "Als een karakter geen letter is, dan wordt die gewoon ongecodeerd (of ongedecodeerd) weergegeven.\n",
    "\n",
    "Voorbeeld van werking (de verschuiving staat hier op 6):\n",
    "```{text}\n",
    "Geef een bericht: The quick brown fox jumps over the lazy dog.\n",
    "Wil je dit encoderen? J\n",
    "Gecodeerd bericht:\n",
    "ZNK WAOIQ HXUCT LUD PASVY UBKX ZNK RGFE JUM.\n",
    "\n",
    "Geef een bericht: ZNK WAOIQ HXUCT LUD PASVY UBKX ZNK RGFE JUM.\n",
    "Wil je dit encoderen? N\n",
    "Gedecodeerd bericht:\n",
    "THE QUICK BROWN FOX JUMPS OVER THE LAZY DOG.\n",
    "```\n",
    "Hint: je kan de code heel compact maken als je gebruik maakt van de modulo (%) operator.\n",
    "Hint: je kan een karakter omzetten naar zijn ASCII code met \"ord(c)\" en omgekeerd kan je een ASCII code naar een karakter omzetten met \"chr(code)\""
   ],
   "metadata": {
    "collapsed": false,
    "id": "0eJZGeBDFTkF"
   }
  },
  {
   "cell_type": "code",
   "execution_count": null,
   "outputs": [],
   "source": [
    "# hier komt jouw code"
   ],
   "metadata": {
    "id": "R5z7YOelFTkF"
   }
  },
  {
   "cell_type": "markdown",
   "source": [
    "### Vervangen\n",
    "Maak een functie \"vervang(lijst, te_zoeken, vervanging)\" die in een list op zoek gaat naar een waarde en die vervangt door een andere."
   ],
   "metadata": {
    "collapsed": false,
    "id": "MgNg8gz7FTkG"
   }
  },
  {
   "cell_type": "code",
   "execution_count": null,
   "outputs": [],
   "source": [
    "# hier komt jouw code"
   ],
   "metadata": {
    "id": "1BjjFiStFTkG"
   }
  },
  {
   "cell_type": "markdown",
   "source": [
    "Test de functie uit door in de list [ 10, 20, 30, 30, 40, 30, 0 ] de waarde 30 te vervangen door 42.\n",
    "Probeer of je functie ook werkt op een numpy array en een pandas Series.  Dat zou moeten lukken."
   ],
   "metadata": {
    "collapsed": false,
    "id": "DYIJLzkbFTkG"
   }
  },
  {
   "cell_type": "code",
   "execution_count": null,
   "outputs": [],
   "source": [
    "# hier komt jouw code"
   ],
   "metadata": {
    "id": "dTydKyqqFTkH"
   }
  },
  {
   "cell_type": "markdown",
   "source": [
    "### Wachtwoorden\n",
    "Een goed wachtwoord kiezen, is voor sommige gebruikers een ware opgave.  We willen een programma maken waarin de gebruiker een nieuw wachtwoord moet kiezen.  Dit moet (omdat we het graag ingewikkeld maken) minstens 8 karakters lang zijn, minstens 1 hoofdletter, 1 kleine letter, een cijfer en een leesteken bevatten.\n",
    "Maak een functie \"is_goed_wachtwoord\" die een wachtwoord als parameter meekrijgt en een boolean teruggeeft.  Die boolean is true als het gegeven wachtwoord voldoet aan alle eisen.  De functie geeft ook een foutmelding op het scherm als het wachtwoord niet goed is.\n",
    "Maak dan een programma dat een nieuw wachtwoord vraagt totdat alle eisen voldaan zijn.\n",
    "\n",
    "Voorbeeld van de werking:\n",
    "\n",
    "```{text}\n",
    "Geef een nieuw wachtwoord: ww\n",
    "Het moet minstens 8 karakters lang zijn\n",
    "Geef een nieuw wachtwoord: wachtwoord\n",
    "Het moet minstens 1 hoofdletter bevatten\n",
    "Geef een nieuw wachtwoord: WACHTWOORD\n",
    "Het moet minstens 1 kleine letter bevatten\n",
    "Geef een nieuw wachtwoord: Wachtwoord\n",
    "Het moet minstens 1 cijfer bevatten\n",
    "Geef een nieuw wachtwoord: Wachtw00rd\n",
    "Het moet minstens 1 leesteken bevatten\n",
    "Geef een nieuw wachtwoord: Wachtw00rd!\n",
    "Je nieuwe wachtwoord is goedgekeurd!\n",
    "```\n",
    "\n",
    "Hint: je kan heel eenvoudig itereren door de karakters van een string met:\n",
    "```{python}\n",
    "for c in string:\n",
    "    ...\n",
    "```"
   ],
   "metadata": {
    "collapsed": false,
    "id": "jXaUo7ReFTkH"
   }
  },
  {
   "cell_type": "code",
   "execution_count": null,
   "outputs": [],
   "source": [
    "# hier komt jouw code"
   ],
   "metadata": {
    "id": "rsgKjzIJFTkI"
   }
  }
 ],
 "metadata": {
  "kernelspec": {
   "display_name": "Python 3",
   "language": "python",
   "name": "python3"
  },
  "language_info": {
   "codemirror_mode": {
    "name": "ipython",
    "version": 2
   },
   "file_extension": ".py",
   "mimetype": "text/x-python",
   "name": "python",
   "nbconvert_exporter": "python",
   "pygments_lexer": "ipython2",
   "version": "2.7.6"
  },
  "colab": {
   "provenance": []
  }
 },
 "nbformat": 4,
 "nbformat_minor": 0
}
