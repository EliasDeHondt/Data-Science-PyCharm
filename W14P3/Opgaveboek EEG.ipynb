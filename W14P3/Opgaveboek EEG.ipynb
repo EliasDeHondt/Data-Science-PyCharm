{
 "cells": [
  {
   "cell_type": "markdown",
   "metadata": {
    "collapsed": false
   },
   "source": [
    "# Elektro-encefalografie\n",
    "\n",
    "Elektro-encefalografie is een methode om de **elektrische activiteit** van de hersenen te meten. Het is een non-invasieve ingreep, waarbij de elektroden doorgaans op de hoofdhuid worden geplakt. EEG meet potentiaalverschillen die ontstaan door de ionenstroom in de zenuwcellen van de hersenen.  Via een speciale headset kan de hersenactiviteit in 14 punten gemeten worden."
   ]
  },
  {
   "cell_type": "code",
   "execution_count": null,
   "id": "323e701f",
   "metadata": {},
   "outputs": [],
   "source": [
    "# hier komt jouw code"
   ]
  },
  {
   "cell_type": "markdown",
   "metadata": {
    "collapsed": false
   },
   "source": [
    "Lees de **eegdata1.csv** dataset in een variabele `eeg1` en bekijk de eerste rijen en de datatypes van de kolommen. Zijn er noemenswaardige problemen?"
   ]
  },
  {
   "cell_type": "code",
   "execution_count": null,
   "id": "9233c224",
   "metadata": {},
   "outputs": [],
   "source": [
    "# hier komt jouw code"
   ]
  },
  {
   "cell_type": "markdown",
   "metadata": {
    "collapsed": false
   },
   "source": [
    "Print de kolomnamen op van de dataset en ook de index."
   ]
  },
  {
   "cell_type": "code",
   "execution_count": null,
   "id": "0b3d826e",
   "metadata": {},
   "outputs": [],
   "source": [
    "# hier komt jouw code"
   ]
  },
  {
   "cell_type": "markdown",
   "metadata": {
    "collapsed": false
   },
   "source": [
    "Print de waarden van meetpunt AF3 uit de `eeg1` dataset."
   ]
  },
  {
   "cell_type": "code",
   "execution_count": null,
   "id": "03a753fa",
   "metadata": {},
   "outputs": [],
   "source": [
    "# hier komt jouw code"
   ]
  },
  {
   "cell_type": "markdown",
   "metadata": {
    "collapsed": false
   },
   "source": [
    "Print nu ook het **gemiddelde, de minimum en maximum waarden** van meetpunt AF3."
   ]
  },
  {
   "cell_type": "code",
   "execution_count": null,
   "id": "5e50f827",
   "metadata": {},
   "outputs": [],
   "source": [
    "# hier komt jouw code"
   ]
  },
  {
   "cell_type": "markdown",
   "metadata": {
    "collapsed": false
   },
   "source": [
    "Doe hetzelfde voor de meetpunten F7 en F3."
   ]
  },
  {
   "cell_type": "code",
   "execution_count": null,
   "id": "c689aaed",
   "metadata": {},
   "outputs": [],
   "source": [
    "# hier komt jouw code"
   ]
  },
  {
   "cell_type": "markdown",
   "metadata": {
    "collapsed": false
   },
   "source": [
    "Print de inhoud van de cel op positie [10, 10], print dan enkel de 4de kolom en print totslot enkel de 4de rij uit."
   ]
  },
  {
   "cell_type": "code",
   "execution_count": null,
   "id": "0cbc919f",
   "metadata": {},
   "outputs": [],
   "source": [
    "# hier komt jouw code"
   ]
  },
  {
   "cell_type": "markdown",
   "metadata": {
    "collapsed": false
   },
   "source": [
    "Vraag de waarde van cel [1,1] op, verander ze daarna naar 120 en controleer of de waarde veranderd is."
   ]
  },
  {
   "cell_type": "code",
   "execution_count": null,
   "id": "39ea292f",
   "metadata": {},
   "outputs": [],
   "source": [
    "# hier komt jouw code"
   ]
  },
  {
   "cell_type": "markdown",
   "metadata": {
    "collapsed": false
   },
   "source": [
    "Print de waarden van kolommen TIMESTAMP kolom uit als een series-object."
   ]
  },
  {
   "cell_type": "code",
   "execution_count": null,
   "id": "5b7ebfc7",
   "metadata": {},
   "outputs": [],
   "source": [
    "# hier komt jouw code"
   ]
  },
  {
   "cell_type": "markdown",
   "metadata": {
    "collapsed": false,
    "pycharm": {
     "name": "#%% md\n"
    }
   },
   "source": [
    "Print de waarden van kolommen TIMESTAMP kolom uit als een dataframe-object. Gebruik een list van strings om te indexeren i.p.v. alleen een string."
   ]
  },
  {
   "cell_type": "code",
   "execution_count": null,
   "id": "0e48dde3",
   "metadata": {},
   "outputs": [],
   "source": [
    "# hier komt jouw code"
   ]
  },
  {
   "cell_type": "markdown",
   "metadata": {
    "collapsed": false
   },
   "source": [
    "Lees dataset eegdata4.csv in een dataframe genaamd `eeg4` en bekijk de NA-waarden van deze dataset. Hoeveel vind je er per kolom? Hoeveel vind je er in totaal?"
   ]
  },
  {
   "cell_type": "code",
   "execution_count": null,
   "id": "8b092b87",
   "metadata": {},
   "outputs": [],
   "source": [
    "# hier komt jouw code"
   ]
  },
  {
   "cell_type": "markdown",
   "metadata": {
    "collapsed": false
   },
   "source": [
    "Verander de NA-waarden naar de waarde -1, maar sla het resultaat niet op in het originele dataframe (dus voer de veranderingen niet door). Controleer of er dan effectief geen NA-waarden meer aanwezig zijn in het resulterende dataframe."
   ]
  },
  {
   "cell_type": "code",
   "execution_count": null,
   "id": "87d8d9a4",
   "metadata": {},
   "outputs": [],
   "source": [
    "# hier komt jouw code"
   ]
  },
  {
   "cell_type": "markdown",
   "metadata": {
    "collapsed": false
   },
   "source": [
    "Verwijder nu alle rijen met een NA waarde met één commando, maar sla het resultaat ditmaal op in een nieuw dataframe genaamd eeg4_zonder_na."
   ]
  },
  {
   "cell_type": "code",
   "execution_count": null,
   "id": "f416fccb",
   "metadata": {},
   "outputs": [],
   "source": [
    "# hier komt jouw code"
   ]
  },
  {
   "cell_type": "markdown",
   "metadata": {
    "collapsed": false
   },
   "source": [
    "Maak een nieuw dataframe, enkel de kolommen 4 tm 17."
   ]
  },
  {
   "cell_type": "code",
   "execution_count": null,
   "id": "8daa7e58",
   "metadata": {},
   "outputs": [],
   "source": [
    "# hier komt jouw code"
   ]
  },
  {
   "cell_type": "markdown",
   "metadata": {
    "collapsed": false
   },
   "source": [
    "Bereken per kolom het gemiddelde. Gebruik de .mean()-methode"
   ]
  },
  {
   "cell_type": "code",
   "execution_count": null,
   "id": "1831e8b6",
   "metadata": {},
   "outputs": [],
   "source": [
    "# hier komt jouw code"
   ]
  },
  {
   "cell_type": "markdown",
   "metadata": {
    "collapsed": false
   },
   "source": [
    "Bereken per rij het gemiddelde. Gebruik eveneens de .mean()-methode\n",
    "data.mean(axis=1)"
   ]
  },
  {
   "cell_type": "markdown",
   "metadata": {
    "collapsed": false
   },
   "source": [
    "Wijzig het data type van timestamp (een float) naar een aantal microseconden sinds de start. De EEG headset doet namelijk 512 metingen elke 4ms.\n",
    "\n",
    "Ga als volgt te werk:\n",
    "\n",
    "1. Gebruik een reguliere expressie om de milliseconden te extraheren uit de timestamp. Dit doe je met een matching group.\n",
    "2. Cast dat resultaat naar een int en zet die gegevens om naar `timedelta`-objecten met de `to_timedelta`-functie waarbij je de `unit` gelijkstelt aan `ms`. Stop het resultaat in een series genaamd `milliseconden`.\n",
    "3. Doe gelijkaardige stappen voor de seconden.\n",
    "4. Trek van alle seconden het minimumseconden af.\n",
    "5. Tel de seconden op bij de milliseconden."
   ]
  },
  {
   "cell_type": "code",
   "execution_count": null,
   "id": "2dcbc591",
   "metadata": {},
   "outputs": [],
   "source": [
    "# hier komt jouw code"
   ]
  }
 ],
 "metadata": {
  "kernelspec": {
   "display_name": "Python 3",
   "language": "python",
   "name": "python3"
  },
  "language_info": {
   "codemirror_mode": {
    "name": "ipython",
    "version": 3
   },
   "file_extension": ".py",
   "mimetype": "text/x-python",
   "name": "python",
   "nbconvert_exporter": "python",
   "pygments_lexer": "ipython3",
   "version": "3.8.7-final"
  }
 },
 "nbformat": 4,
 "nbformat_minor": 2
}
