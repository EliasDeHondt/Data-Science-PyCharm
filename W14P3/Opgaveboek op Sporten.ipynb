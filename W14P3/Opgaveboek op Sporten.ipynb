{
 "cells": [
  {
   "cell_type": "markdown",
   "metadata": {
    "collapsed": false,
    "pycharm": {
     "name": "#%% md\n"
    }
   },
   "source": [
    "# Sportstatistieken\n",
    "\n",
    "We oefenen op basis Pandas commando's met de sport dataset."
   ]
  },
  {
   "cell_type": "markdown",
   "metadata": {
    "collapsed": false,
    "pycharm": {
     "name": "#%% md\n"
    }
   },
   "source": [
    "Open de file 'sportdata.csv' en maak er een nieuwe dataframe van."
   ]
  },
  {
   "cell_type": "code",
   "execution_count": null,
   "id": "4d0e3f87",
   "metadata": {},
   "outputs": [],
   "source": [
    "# hier komt jouw code"
   ]
  },
  {
   "cell_type": "markdown",
   "metadata": {
    "collapsed": false,
    "pycharm": {
     "name": "#%% md\n"
    }
   },
   "source": [
    "Toon alle data van rij 10 t.e.m. rij 20."
   ]
  },
  {
   "cell_type": "code",
   "execution_count": null,
   "id": "077d3e51",
   "metadata": {},
   "outputs": [],
   "source": [
    "# hier komt jouw code"
   ]
  },
  {
   "cell_type": "markdown",
   "metadata": {
    "collapsed": false,
    "pycharm": {
     "name": "#%% md\n"
    }
   },
   "source": [
    "Alle data van de eerste 2 kolommen van rij 10 tm 20."
   ]
  },
  {
   "cell_type": "code",
   "execution_count": null,
   "id": "defa8d1c",
   "metadata": {},
   "outputs": [],
   "source": [
    "# hier komt jouw code"
   ]
  },
  {
   "cell_type": "markdown",
   "metadata": {
    "collapsed": false,
    "pycharm": {
     "name": "#%% md\n"
    }
   },
   "source": [
    "Selecteer alle instanties die meer 3 keer per week sporten"
   ]
  },
  {
   "cell_type": "code",
   "execution_count": null,
   "id": "1948e82d",
   "metadata": {},
   "outputs": [],
   "source": [
    "# hier komt jouw code"
   ]
  },
  {
   "cell_type": "markdown",
   "metadata": {
    "collapsed": false,
    "pycharm": {
     "name": "#%% md\n"
    }
   },
   "source": [
    "Hoeveel uur sporten deze personen gemiddelde per week?"
   ]
  },
  {
   "cell_type": "code",
   "execution_count": null,
   "id": "250180ac",
   "metadata": {},
   "outputs": [],
   "source": [
    "# hier komt jouw code"
   ]
  },
  {
   "cell_type": "markdown",
   "metadata": {
    "collapsed": false,
    "pycharm": {
     "name": "#%% md\n"
    }
   },
   "source": [
    "Wat is de gemiddelde leeftijd van de jongens die turnen?"
   ]
  },
  {
   "cell_type": "code",
   "execution_count": null,
   "id": "ed885848",
   "metadata": {},
   "outputs": [],
   "source": [
    "# hier komt jouw code"
   ]
  },
  {
   "cell_type": "markdown",
   "metadata": {
    "collapsed": false,
    "pycharm": {
     "name": "#%% md\n"
    }
   },
   "source": [
    "Wat is het maximaal aantal uur dat iemand judo beoefent?"
   ]
  },
  {
   "cell_type": "code",
   "execution_count": null,
   "id": "82cb099d",
   "metadata": {},
   "outputs": [],
   "source": [
    "# hier komt jouw code"
   ]
  }
 ],
 "metadata": {
  "kernelspec": {
   "display_name": "Python 3",
   "language": "python",
   "name": "python3"
  },
  "language_info": {
   "codemirror_mode": {
    "name": "ipython",
    "version": 2
   },
   "file_extension": ".py",
   "mimetype": "text/x-python",
   "name": "python",
   "nbconvert_exporter": "python",
   "pygments_lexer": "ipython2",
   "version": "2.7.6"
  }
 },
 "nbformat": 4,
 "nbformat_minor": 0
}
