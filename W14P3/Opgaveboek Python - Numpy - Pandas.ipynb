{
 "cells": [
  {
   "cell_type": "code",
   "execution_count": null,
   "metadata": {
    "id": "e7b739b8"
   },
   "outputs": [],
   "source": [
    "import pandas as pd\n",
    "import numpy as np"
   ]
  },
  {
   "cell_type": "markdown",
   "metadata": {
    "collapsed": true,
    "id": "OWpwKVd1Y1Zg"
   },
   "source": [
    "# Opgaven op Python, Numpy en Pandas\n",
    "In de opgaveboekjes is het de bedoeling dat je zelf eerst goed zoekt, en wroet om oplossingen te vinden. Dit is de beste manier om veel bij te leren."
   ]
  },
  {
   "cell_type": "markdown",
   "metadata": {
    "collapsed": false,
    "id": "2kzmpSpFY1Zi"
   },
   "source": [
    "## Vraag 1\n",
    "Maak een Pandas tabel met 4 kolommen.\n",
    "* id: 1, 2, 3, 4, 5\n",
    "* leeftijd: 15, 18, 11, 17, 20\n",
    "* gewicht: 54, 68, 41, 59, 65\n",
    "* temp: 36.5, 37.1, 36.4, 37.2, 36.9\n",
    "\n",
    "Je kunt deze aanmaken op verschillende manieren, hoe meer je er vindt, hoe beter je de leerstof onder de knie hebt.\n",
    "\n",
    "Enkele begrippen die je kunnen leiden in je zoektocht:\n",
    "* een Python dictionary met Python lists\n",
    "* een Python dictionary met Pandas Series\n",
    "* een 2D - Numpy array"
   ]
  },
  {
   "cell_type": "code",
   "execution_count": null,
   "metadata": {
    "colab": {
     "base_uri": "https://localhost:8080/"
    },
    "id": "096b8803",
    "executionInfo": {
     "status": "ok",
     "timestamp": 1676487330210,
     "user_tz": -60,
     "elapsed": 195,
     "user": {
      "displayName": "Rony Baekeland",
      "userId": "01731985152349302060"
     }
    },
    "outputId": "a48d481b-5197-4e01-b12c-8fce29e8c072"
   },
   "outputs": [
    {
     "output_type": "stream",
     "name": "stdout",
     "text": [
      "   id  leeftijd  gewicht  temp\n",
      "0   1        15       54  36.0\n",
      "1   2        18       68  37.1\n"
     ]
    }
   ],
   "source": [
    "df1=pd.DataFrame([{\"id\":1,\"leeftijd\":15,\"gewicht\":54,\"temp\":36}, {\"id\":2,\"leeftijd\":18,\"gewicht\":68,\"temp\":37.1}f1=])\n",
    "print(df1)"
   ]
  },
  {
   "cell_type": "code",
   "execution_count": 14,
   "metadata": {
    "id": "fa0f55dd",
    "executionInfo": {
     "status": "ok",
     "timestamp": 1676487926477,
     "user_tz": -60,
     "elapsed": 199,
     "user": {
      "displayName": "Rony Baekeland",
      "userId": "01731985152349302060"
     }
    },
    "colab": {
     "base_uri": "https://localhost:8080/"
    },
    "outputId": "0ff8fd4b-74c4-4351-9a6f-b2f96262a891"
   },
   "outputs": [
    {
     "output_type": "stream",
     "name": "stdout",
     "text": [
      "[[ 1.  15.  54.  36.5]\n",
      " [ 2.  18.  68.  37.1]\n",
      " [ 3.  11.  41.  36.4]\n",
      " [ 4.  17.  59.  37.2]\n",
      " [ 5.  20.  65.  36.9]]\n"
     ]
    }
   ],
   "source": [
    "arr=np.array([[1,2,3,4,5],[15,18,11,17,20],[54,68,41,59,65],[36.5,37.1,36.4,37.2,36.9]])\n",
    "arr1=np.transpose(arr)\n",
    "print(arr1)"
   ]
  },
  {
   "cell_type": "code",
   "execution_count": 13,
   "metadata": {
    "id": "9a683aa5",
    "colab": {
     "base_uri": "https://localhost:8080/"
    },
    "executionInfo": {
     "status": "ok",
     "timestamp": 1676487900602,
     "user_tz": -60,
     "elapsed": 236,
     "user": {
      "displayName": "Rony Baekeland",
      "userId": "01731985152349302060"
     }
    },
    "outputId": "ac3632fa-8781-4827-d20c-c7b5f8719ee9"
   },
   "outputs": [
    {
     "output_type": "stream",
     "name": "stdout",
     "text": [
      "    id  leeftijd  gewicht  temp\n",
      "0  1.0      15.0     54.0  36.5\n",
      "1  2.0      18.0     68.0  37.1\n",
      "2  3.0      11.0     41.0  36.4\n",
      "3  4.0      17.0     59.0  37.2\n",
      "4  5.0      20.0     65.0  36.9\n"
     ]
    }
   ],
   "source": [
    "df2=pd.DataFrame(arr1,columns=[\"id\",\"leeftijd\",\"gewicht\",\"temp\"])\n",
    "print(df2)"
   ]
  },
  {
   "cell_type": "code",
   "source": [
    "ls=[[1,15,54,36.5], [2,18,68,37.1]]\n",
    "df3=pd.DataFrame(ls,columns=[\"id\",\"leeftijd\",\"gewicht\",\"temp\"])\n",
    "print(df3)"
   ],
   "metadata": {
    "colab": {
     "base_uri": "https://localhost:8080/"
    },
    "id": "L8xkXRm9eDk0",
    "executionInfo": {
     "status": "ok",
     "timestamp": 1676488160320,
     "user_tz": -60,
     "elapsed": 195,
     "user": {
      "displayName": "Rony Baekeland",
      "userId": "01731985152349302060"
     }
    },
    "outputId": "ac3be5b7-490e-443c-ae8a-7641f0363f2c"
   },
   "execution_count": 15,
   "outputs": [
    {
     "output_type": "stream",
     "name": "stdout",
     "text": [
      "   id  leeftijd  gewicht  temp\n",
      "0   1        15       54  36.5\n",
      "1   2        18       68  37.1\n"
     ]
    }
   ]
  },
  {
   "cell_type": "code",
   "source": [],
   "metadata": {
    "id": "mAC6C8WQfB7C"
   },
   "execution_count": null,
   "outputs": []
  },
  {
   "cell_type": "code",
   "source": [
    "ls=[[1,15,54,36.5], [2,18,68,37.1]]\n",
    "df3=pd.DataFrame(ls,columns=[\"id\",\"leeftijd\",\"gewicht\",\"temp\"])\n",
    "print(df3)"
   ],
   "metadata": {
    "colab": {
     "base_uri": "https://localhost:8080/"
    },
    "executionInfo": {
     "status": "ok",
     "timestamp": 1676488160320,
     "user_tz": -60,
     "elapsed": 195,
     "user": {
      "displayName": "Rony Baekeland",
      "userId": "01731985152349302060"
     }
    },
    "outputId": "ac3be5b7-490e-443c-ae8a-7641f0363f2c",
    "id": "wC1FQd9jfJLR"
   },
   "execution_count": null,
   "outputs": [
    {
     "output_type": "stream",
     "name": "stdout",
     "text": [
      "   id  leeftijd  gewicht  temp\n",
      "0   1        15       54  36.5\n",
      "1   2        18       68  37.1\n"
     ]
    }
   ]
  },
  {
   "cell_type": "code",
   "execution_count": 16,
   "metadata": {
    "executionInfo": {
     "status": "ok",
     "timestamp": 1676488382438,
     "user_tz": -60,
     "elapsed": 289,
     "user": {
      "displayName": "Rony Baekeland",
      "userId": "01731985152349302060"
     }
    },
    "colab": {
     "base_uri": "https://localhost:8080/"
    },
    "outputId": "50f6e549-f0ea-48e6-fb4d-65b932c6e2b7",
    "id": "h8WEdayBfQ5B"
   },
   "outputs": [
    {
     "output_type": "stream",
     "name": "stdout",
     "text": [
      "   id  leeftijd  gewicht  temp\n",
      "0   1        15       54  36.5\n",
      "1   2        18       68  37.1\n",
      "2   3        11       41  36.4\n",
      "3   4        17       59  37.2\n",
      "4   5        20       65  36.9\n"
     ]
    }
   ],
   "source": [
    "df4=pd.DataFrame({\"id\":[1,2,3,4,5],\"leeftijd\":[15,18,11,17,20],\"gewicht\":[54,68,41,59,65],\"temp\":[36.5,37.1,36.4,37.2,36.9]})\n",
    "print(df4)"
   ]
  },
  {
   "cell_type": "markdown",
   "metadata": {
    "collapsed": false,
    "id": "uwlhrsNJY1Zl"
   },
   "source": [
    "## Vraag 2\n",
    "Haal de 2e kolom uit de tabel. Hier zijn heel veel mogelijkheden om te doen.\n",
    "Bekijk per mogelijkheid ook welke Python type het is. Vind je ze alle 7?"
   ]
  },
  {
   "cell_type": "code",
   "execution_count": null,
   "metadata": {
    "id": "ef8ac94d"
   },
   "outputs": [],
   "source": [
    "# hier komt jouw code"
   ]
  },
  {
   "cell_type": "code",
   "execution_count": null,
   "metadata": {
    "id": "200599a5"
   },
   "outputs": [],
   "source": [
    "# hier komt jouw code"
   ]
  },
  {
   "cell_type": "code",
   "execution_count": null,
   "metadata": {
    "id": "7f181a4a"
   },
   "outputs": [],
   "source": [
    "# hier komt jouw code"
   ]
  },
  {
   "cell_type": "code",
   "execution_count": null,
   "metadata": {
    "id": "2f90e30f"
   },
   "outputs": [],
   "source": [
    "# hier komt jouw code"
   ]
  },
  {
   "cell_type": "code",
   "execution_count": null,
   "metadata": {
    "id": "379dc931"
   },
   "outputs": [],
   "source": [
    "# hier komt jouw code"
   ]
  },
  {
   "cell_type": "code",
   "execution_count": null,
   "metadata": {
    "id": "2c99af65"
   },
   "outputs": [],
   "source": [
    "# hier komt jouw code"
   ]
  },
  {
   "cell_type": "code",
   "execution_count": null,
   "metadata": {
    "id": "e0fcf780"
   },
   "outputs": [],
   "source": [
    "# hier komt jouw code"
   ]
  },
  {
   "cell_type": "code",
   "execution_count": null,
   "metadata": {
    "id": "18756257"
   },
   "outputs": [],
   "source": [
    "# hier komt jouw code"
   ]
  },
  {
   "cell_type": "markdown",
   "metadata": {
    "collapsed": false,
    "id": "2xZu0bPeY1Zq"
   },
   "source": [
    "## Vraag 3\n",
    "Haal de 3e rij uit de tabel"
   ]
  },
  {
   "cell_type": "code",
   "execution_count": null,
   "metadata": {
    "id": "6753f967"
   },
   "outputs": [],
   "source": [
    "# hier komt jouw code"
   ]
  },
  {
   "cell_type": "markdown",
   "metadata": {
    "collapsed": false,
    "id": "WxsW0DLTY1Zq"
   },
   "source": [
    "## Vraag 4\n",
    "Bereken de minimum- en maximumleeftijd"
   ]
  },
  {
   "cell_type": "code",
   "execution_count": null,
   "metadata": {
    "id": "9dc7d27d"
   },
   "outputs": [],
   "source": [
    "# hier komt jouw code"
   ]
  },
  {
   "cell_type": "markdown",
   "metadata": {
    "collapsed": false,
    "id": "05bS7xz3Y1Zr"
   },
   "source": [
    "## Vraag 5\n",
    "Bereken de som van alle gewichten en deel die door het aantal gewichten"
   ]
  },
  {
   "cell_type": "code",
   "execution_count": null,
   "metadata": {
    "id": "6bf4b180"
   },
   "outputs": [],
   "source": [
    "# hier komt jouw code"
   ]
  },
  {
   "cell_type": "markdown",
   "metadata": {
    "collapsed": false,
    "id": "qA_o1edoY1Zs"
   },
   "source": [
    "## Vraag 6\n",
    "Deel alle gewichten door 1000"
   ]
  },
  {
   "cell_type": "code",
   "execution_count": null,
   "metadata": {
    "id": "6c3beeb0"
   },
   "outputs": [],
   "source": [
    "# hier komt jouw code"
   ]
  },
  {
   "cell_type": "markdown",
   "metadata": {
    "collapsed": false,
    "id": "3ie-hHhwY1Zs"
   },
   "source": [
    "## Vraag 7\n",
    "Zet alle temperaturen om naar Fahrenheit"
   ]
  },
  {
   "cell_type": "code",
   "execution_count": null,
   "metadata": {
    "id": "cf6e255e"
   },
   "outputs": [],
   "source": [
    "# hier komt jouw code"
   ]
  },
  {
   "cell_type": "markdown",
   "metadata": {
    "collapsed": false,
    "id": "ePE9VCdKY1Zt"
   },
   "source": [
    "## Vraag 8\n",
    "Bewaar de tabel in een bestand"
   ]
  },
  {
   "cell_type": "code",
   "execution_count": null,
   "metadata": {
    "id": "307e2c4b"
   },
   "outputs": [],
   "source": [
    "# hier komt jouw code"
   ]
  },
  {
   "cell_type": "markdown",
   "metadata": {
    "collapsed": false,
    "id": "krs9aKj6Y1Zu"
   },
   "source": [
    "## Vraag 9\n",
    "Open de tabel in PyCharm als een datatabel (tabblad Data onderaan), verander er iets aan en bewaar terug."
   ]
  },
  {
   "cell_type": "code",
   "execution_count": null,
   "metadata": {
    "id": "b58e6d69"
   },
   "outputs": [],
   "source": [
    "# hier komt jouw code"
   ]
  },
  {
   "cell_type": "markdown",
   "metadata": {
    "collapsed": false,
    "id": "PQACcHc_Y1Zu"
   },
   "source": [
    "## Vraag 10\n",
    "Lees de tabel terug uit het bestand"
   ]
  },
  {
   "cell_type": "code",
   "execution_count": null,
   "metadata": {
    "id": "29ecab37"
   },
   "outputs": [],
   "source": [
    "# hier komt jouw code"
   ]
  },
  {
   "cell_type": "markdown",
   "metadata": {
    "collapsed": false,
    "id": "khR9qrsoY1Zv"
   },
   "source": [
    "## Vraag 11\n",
    "Verwijder de kolom “id”"
   ]
  },
  {
   "cell_type": "code",
   "execution_count": null,
   "metadata": {
    "id": "c49ca630"
   },
   "outputs": [],
   "source": [
    "# hier komt jouw code"
   ]
  },
  {
   "cell_type": "markdown",
   "metadata": {
    "collapsed": false,
    "id": "XYRyp1ZnY1Zw"
   },
   "source": [
    "## Vraag 12\n",
    "Voeg een kolom “lengte” toe met gegevens: 160, 175, 162, 169, 179"
   ]
  },
  {
   "cell_type": "code",
   "execution_count": null,
   "metadata": {
    "id": "17d11bc3"
   },
   "outputs": [],
   "source": [
    "# hier komt jouw code"
   ]
  },
  {
   "cell_type": "markdown",
   "metadata": {
    "collapsed": false,
    "id": "KnxePLXhY1Zw"
   },
   "source": [
    "## Vraag 13\n",
    "Bereken de BMI van iedere persoon in de tabel"
   ]
  },
  {
   "cell_type": "code",
   "execution_count": null,
   "metadata": {
    "id": "3e5c7100"
   },
   "outputs": [],
   "source": [
    "# hier komt jouw code"
   ]
  },
  {
   "cell_type": "markdown",
   "metadata": {
    "collapsed": false,
    "id": "FQyqVcNhY1Zx"
   },
   "source": [
    "## Vraag 14\n",
    "Voeg deze BMI als kolom toe aan de tabel"
   ]
  },
  {
   "cell_type": "code",
   "execution_count": null,
   "metadata": {
    "id": "528bfe21"
   },
   "outputs": [],
   "source": [
    "# hier komt jouw code"
   ]
  },
  {
   "cell_type": "markdown",
   "metadata": {
    "collapsed": false,
    "id": "oLc88fjcY1Zy"
   },
   "source": [
    "## Vraag 15\n",
    "Behoud alleen de gewichten die kleiner of gelijk zijn aan 60 uit de kolom gewicht."
   ]
  },
  {
   "cell_type": "code",
   "execution_count": null,
   "metadata": {
    "id": "a7b08484"
   },
   "outputs": [],
   "source": [
    "# hier komt jouw code"
   ]
  },
  {
   "cell_type": "markdown",
   "metadata": {
    "collapsed": false,
    "id": "cXFDqBgNY1Zz"
   },
   "source": [
    "## Vraag 16\n",
    "Vervang in de kolom leeftijd alle leeftijden groter of gelijk aan 18 door 19"
   ]
  },
  {
   "cell_type": "code",
   "execution_count": null,
   "metadata": {
    "id": "bfc61fb3"
   },
   "outputs": [],
   "source": [
    "# hier komt jouw code"
   ]
  },
  {
   "cell_type": "markdown",
   "metadata": {
    "collapsed": false,
    "id": "qMFdNgpCY1Zz"
   },
   "source": [
    "## Vraag 17\n",
    "Vind alle temperaturen van de personen die ouder zijn dan 16 jaar"
   ]
  },
  {
   "cell_type": "code",
   "execution_count": null,
   "metadata": {
    "id": "4a3c3d3e"
   },
   "outputs": [],
   "source": [
    "# hier komt jouw code"
   ]
  }
 ],
 "metadata": {
  "kernelspec": {
   "display_name": "Python 3",
   "language": "python",
   "name": "python3"
  },
  "language_info": {
   "codemirror_mode": {
    "name": "ipython",
    "version": 2
   },
   "file_extension": ".py",
   "mimetype": "text/x-python",
   "name": "python",
   "nbconvert_exporter": "python",
   "pygments_lexer": "ipython2",
   "version": "2.7.6"
  },
  "colab": {
   "provenance": []
  }
 },
 "nbformat": 4,
 "nbformat_minor": 0
}
