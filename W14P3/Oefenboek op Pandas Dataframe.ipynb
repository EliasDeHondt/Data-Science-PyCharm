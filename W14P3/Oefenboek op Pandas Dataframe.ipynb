{
 "cells": [
  {
   "cell_type": "markdown",
   "metadata": {
    "collapsed": true,
    "id": "cTK3Qq0P2VR-"
   },
   "source": [
    "# Oefenboek op het gebruik van Pandas\n",
    "\n",
    "Deze oefenboekjes bevatten oefeningen om te leren (leeroefeningen). We gaan er dus vanuit dat je op dit punt nog niet veel kennis hebt over de deze topic. Ze zijn bedoeld om de leerstof nog te leren begrijpen en **niet** om te testen of je de leerstof al onder de knie hebt. Daarvoor hebben we een ander soort oefeningen.\n",
    "\n"
   ]
  },
  {
   "cell_type": "markdown",
   "metadata": {
    "id": "c2s2OP3hHnBd"
   },
   "source": [
    "## Oefeningen op Pandas DataFrames\n",
    "\n",
    "Maak eerst de oefenboekjes op Python en Pandas Series alvorens je hier aan begint. Importeer nu eerst de juiste libraries zodat je aan de slag kan.\n",
    "\n",
    "\n",
    "```python\n",
    "import pandas as pd\n",
    "```"
   ]
  },
  {
   "cell_type": "code",
   "execution_count": 32,
   "id": "68ee543f",
   "metadata": {},
   "outputs": [],
   "source": [
    "import numpy as np\n",
    "import pandas as pd"
   ]
  },
  {
   "cell_type": "markdown",
   "metadata": {
    "id": "SEz-NszwHpn9"
   },
   "source": [
    "### Oefening 1 - Werking van eenvoudige DataFrames"
   ]
  },
  {
   "cell_type": "markdown",
   "metadata": {
    "id": "ilpq7gH32b7Q"
   },
   "source": [
    "Een Pandas dataframe kan je aanmaken met de <a href=\"https://pandas.pydata.org/pandas-docs/stable/reference/api/pandas.DataFrame.html\">`DataFrame`-constructor</a>.\n",
    "\n",
    "```python\n",
    "import pandas as pd # Pandas importeren\n",
    "\n",
    "df = pd.DataFrame(x)\n",
    "```\n",
    "\n",
    "Maak een Dataframe-object aan met de naam *data* met daarin deze Python `list` van waarden `[0.25, 0.5, 0.75, 1.0]`."
   ]
  },
  {
   "cell_type": "code",
   "execution_count": 33,
   "id": "a9d61365",
   "metadata": {},
   "outputs": [
    {
     "name": "stdout",
     "output_type": "stream",
     "text": [
      "      0\n",
      "0  0.25\n",
      "1  0.50\n",
      "2  0.75\n",
      "3  1.00\n"
     ]
    }
   ],
   "source": [
    "data = pd.DataFrame([0.25, 0.5, 0.75, 1.0])\n",
    "print(data)"
   ]
  },
  {
   "cell_type": "markdown",
   "metadata": {
    "collapsed": false,
    "id": "A92-9Hr-2VSC"
   },
   "source": [
    "Een dataframe is een 2D-tabel (ook als maar één kolom in de tabel zit). Je kan de dimensie opvragen met de eigenschap `.shape`. \n",
    "\n",
    "Een shape is een Python <a href=\"https://realpython.com/python-lists-tuples/#python-tuples\">tuple</a>. Je tuples nog heel vaak tegenkomen.\n",
    "\n",
    "Wat is de shape van het `DataFrame`?"
   ]
  },
  {
   "cell_type": "code",
   "execution_count": 34,
   "id": "376a988b",
   "metadata": {},
   "outputs": [
    {
     "name": "stdout",
     "output_type": "stream",
     "text": [
      "(4, 1)\n"
     ]
    }
   ],
   "source": [
    "print(data.shape)\n",
    "# (4, 1)"
   ]
  },
  {
   "cell_type": "markdown",
   "metadata": {
    "collapsed": false,
    "id": "_YKY3Z552VSD"
   },
   "source": [
    "Een bepaalde kolom van een dataframe heeft altijd één bepaald datatype. Elke kolom is een Pandas `Series` of `Categorical`. \n",
    "\n",
    "De datatypes van een dataframe kan je opvragen met de `.dtypes`-eigenschap.\n",
    "\n",
    "Wat zijn de datatypes van dit dataframe? Wat is het verschil met een Pandas `Series`? "
   ]
  },
  {
   "cell_type": "code",
   "execution_count": 35,
   "id": "d2d1598b",
   "metadata": {},
   "outputs": [
    {
     "name": "stdout",
     "output_type": "stream",
     "text": [
      "0    float64\n",
      "dtype: object\n"
     ]
    }
   ],
   "source": [
    "print(data.dtypes)\n",
    "# Er kan meer dan 1 datatype zijn."
   ]
  },
  {
   "cell_type": "markdown",
   "metadata": {
    "collapsed": false,
    "id": "FnVGuYrJ2VSE"
   },
   "source": [
    "Zoals je nu al zou moeten weten is Pandas gebouwd bovenop Numpy-arrays en standaard Python. Achter de schermen gebruikt Pandas dus eigenlijk Numpy-arrays. Je kan deze altijd opvragen m.b.v. van volgende methode.\n",
    "\n",
    "```python\n",
    "df.to_numpy()\n",
    "```\n",
    "*Nota: In het Oefenboek op Numpy leer je meer over Numpy-arrays.*\n",
    "\n",
    "Converteer het dataframe naar een Numpy array. Welke methode gebruik je hiervoor? \n",
    "\n",
    "Hoe verschilt de omzetting naar een Numpy array van een DataFrame met de omzetting naar Numpy array van een Series? \n",
    "\n",
    "*Tip: bekijk het aantal dimensies met de `shape` - eigenschap van een Numpy-array en vergelijk deze met die van een Series, bv. van `pd.Series([0.25, 0.5, 0.75, 1.0])`*\n"
   ]
  },
  {
   "cell_type": "code",
   "execution_count": 36,
   "id": "bf50704d",
   "metadata": {},
   "outputs": [
    {
     "name": "stdout",
     "output_type": "stream",
     "text": [
      "[[0.25]\n",
      " [0.5 ]\n",
      " [0.75]\n",
      " [1.  ]]\n"
     ]
    }
   ],
   "source": [
    "# 1\n",
    "dataN = data.to_numpy()\n",
    "print(dataN)"
   ]
  },
  {
   "cell_type": "markdown",
   "metadata": {
    "collapsed": false,
    "id": "9u4NGv182VSF"
   },
   "source": [
    "Bekijk de index van het DataFrame door de `.index`-eigenschap te bekijken."
   ]
  },
  {
   "cell_type": "code",
   "execution_count": 37,
   "id": "f8b53461",
   "metadata": {},
   "outputs": [
    {
     "name": "stdout",
     "output_type": "stream",
     "text": [
      "RangeIndex(start=0, stop=4, step=1)\n"
     ]
    }
   ],
   "source": [
    "print(data.index)"
   ]
  },
  {
   "cell_type": "markdown",
   "metadata": {
    "collapsed": false,
    "id": "7ifKAZ7B2VSG"
   },
   "source": [
    "Bekijk de kolommen van het DataFrame door de `.columns`-eigenschap te bekijken. Is er wezenlijk verschil met de index van het dataframe?"
   ]
  },
  {
   "cell_type": "code",
   "execution_count": 38,
   "id": "860df8cf",
   "metadata": {},
   "outputs": [
    {
     "name": "stdout",
     "output_type": "stream",
     "text": [
      "RangeIndex(start=0, stop=1, step=1)\n"
     ]
    }
   ],
   "source": [
    "print(data.columns)"
   ]
  },
  {
   "cell_type": "markdown",
   "metadata": {
    "collapsed": false,
    "id": "HVGpOs4J2VSH"
   },
   "source": [
    "Het <a href=\"https://pandas.pydata.org/pandas-docs/stable/reference/api/pandas.DataFrame.loc.html\">loc</a>-commando werkt met verschillende soorten argumenten en geeft soms ook andere resultaten terug. \n",
    "\n",
    "Je kan één kolom of meerdere kolommen selecteren. Je kan ook hele rijen selecteren. Je kan het ook combineren waarbij je specifieke rijen uit specifieke kolommen selecteert. Je mag daarbij gebruikmaken van Python <a href=\"https://realpython.com/lessons/indexing-and-slicing/\">`slices`</a>\n",
    "\n",
    "Hieronder zie je enkele tips van hoe je commando kan gebruiken. Het kost enige moeite om het goed te begrijpen dus je hoeft niet te panikeren als je het niet meteen begrijpt. Indexen of slices voor de komma slaan op rijen, erna op kolommen. Heb je geen komma? Dan gaat het over kolommen.\n",
    "\n",
    "```python\n",
    "df.loc[...]\n",
    "df.loc[...,...]\n",
    "df.loc[[]]\n",
    "df.loc[[],[]] \n",
    "``` \n",
    "\n",
    "Het `loc`-commando werkt op **expliciete indexen** in de dataframes (en series). Expliciete indexen zijn diegene die wij zelf definiëren en die je vindt m.b.v. `.index` en `.columns`\n",
    "\n",
    "Haal het tweede element en het tweede t.e.m. het derde element op m.b.v. het `loc`-commando. Dit kan op heel wat verschillende manieren gerealiseerd worden."
   ]
  },
  {
   "cell_type": "code",
   "execution_count": 39,
   "id": "b6df3a21",
   "metadata": {},
   "outputs": [
    {
     "name": "stdout",
     "output_type": "stream",
     "text": [
      "0.5\n",
      "      0\n",
      "2  0.75\n",
      "3  1.00 0\n"
     ]
    }
   ],
   "source": [
    "# 1\n",
    "print(data.loc[1,0])\n",
    "# 2\n",
    "print(data.loc[2:4],0)"
   ]
  },
  {
   "cell_type": "markdown",
   "metadata": {
    "collapsed": false,
    "id": "XBrzVMUJ2VSJ"
   },
   "source": [
    "Het <a href=\"https://pandas.pydata.org/pandas-docs/stable/reference/api/pandas.DataFrame.iloc.html\">iloc</a>-commando is qua indexering zeer gelijkaardig aan het `loc`-commando, maar het werkt op **impliciete indexen**. Dit zijn een soort absolute indexen die elk dataframe heeft en die losstaan van de **uitdrukkelijke indexen** die door de data scientist gedefiniëerd zijn in `Index`-objecten en dit zijn gestockeerd in `.index` en `.columns`.\n",
    "\n",
    "Haal het tweede element en het tweede t.e.m. het derde element op m.b.v. het `iloc`-commando. Is er *in dit geval* een verschil met het `loc`-commando qua indexwaarden? \n",
    "\n",
    "Waarom (niet)?"
   ]
  },
  {
   "cell_type": "code",
   "execution_count": 40,
   "id": "47736abe",
   "metadata": {},
   "outputs": [
    {
     "name": "stdout",
     "output_type": "stream",
     "text": [
      "0.5\n",
      "      0\n",
      "2  0.75\n",
      "3  1.00 0\n"
     ]
    }
   ],
   "source": [
    "# 1\n",
    "print(data.iloc[1,0])\n",
    "# 2\n",
    "print(data.iloc[2:4],0)"
   ]
  },
  {
   "cell_type": "markdown",
   "metadata": {
    "id": "jTqjbaLYHuNU"
   },
   "source": [
    "### Oefening 2 - Werking van DataFrames"
   ]
  },
  {
   "cell_type": "markdown",
   "metadata": {
    "collapsed": false,
    "id": "44FqTBJl2VSK"
   },
   "source": [
    "Maak een `Dataframe` object aan met drie rijen waavan de waarden gelijk zijn aan:\n",
    "\n",
    "* rij 1: `['eerste', 1, 0.83, 1.3]`,\n",
    "* rij 2: `['tweede', 4, 0.75, 1.0]`,\n",
    "* rij 3: `['derde', 2, 4.75, 0.2]`\n",
    "\n",
    "Gebruik hiervoor een 2D Numpy array.\n",
    "\n",
    "Zorg ervoor dat de kolommen gelijk zijn aan `['a', 'b', 'c', 'd']`. \n",
    "\n",
    "Maak de index gelijk aan de getallen `[1,2]`."
   ]
  },
  {
   "cell_type": "code",
   "execution_count": 41,
   "id": "cdc69274",
   "metadata": {},
   "outputs": [
    {
     "name": "stdout",
     "output_type": "stream",
     "text": [
      "        a  b     c    d\n",
      "0  eerste  1  0.83  1.3\n",
      "1  tweede  4  0.75  1.0\n",
      "2   derde  2  4.75  0.2\n"
     ]
    }
   ],
   "source": [
    "# Data\n",
    "data = np.array([\n",
    "    ['eerste', 1, 0.83, 1.3],\n",
    "    ['tweede', 4, 0.75, 1.0],\n",
    "    ['derde', 2, 4.75, 0.2]])\n",
    "# KolommenName\n",
    "# df = pd.DataFrame(data, columns=['a', 'b', 'c', 'd'], index=[1, 2])\n",
    "df = pd.DataFrame(data, columns=['a', 'b', 'c', 'd'])\n",
    "print(df)\n",
    "# In dit voorbeeld hebben we gegevens van 3 rijen en 4 kolommen, maar we proberen een dataframe-object te maken met slechts 2 indexwaarden. Dit zal leiden tot de foutmelding \"Shape of passed values is (3, 4), indices imply (2, 4)\".\n",
    "\n",
    "# Om deze fout te verhelpen, moeten we ervoor zorgen dat het aantal rijen in de gegeven data overeenkomt met het aantal rijen in de gegeven index, en het aantal kolommen in de gegeven data overeenkomt met het aantal kolommen in de gegeven kolomnamen. Als alternatief kunnen we ervoor kiezen om geen index of kolomnamen op te geven, zodat pandas standaardindices en kolomnamen genereert op basis van de gegeven data."
   ]
  },
  {
   "cell_type": "markdown",
   "metadata": {
    "collapsed": false,
    "id": "XnjN6EGN2VSL"
   },
   "source": [
    "\n",
    "Wat is de shape van dit `DataFrame`?"
   ]
  },
  {
   "cell_type": "code",
   "execution_count": 42,
   "id": "915173f5",
   "metadata": {},
   "outputs": [
    {
     "name": "stdout",
     "output_type": "stream",
     "text": [
      "(3, 4)\n"
     ]
    }
   ],
   "source": [
    "print(df.shape)\n",
    "# (3, 4)"
   ]
  },
  {
   "cell_type": "markdown",
   "metadata": {
    "collapsed": false,
    "id": "mr9A5TxC2VSM"
   },
   "source": [
    "Wat zijn de datatypes van dit dataframe? Hoeveel datatypes zijn er?"
   ]
  },
  {
   "cell_type": "code",
   "execution_count": 43,
   "id": "3d61bcf8",
   "metadata": {},
   "outputs": [
    {
     "name": "stdout",
     "output_type": "stream",
     "text": [
      "a    object\n",
      "b    object\n",
      "c    object\n",
      "d    object\n",
      "dtype: object\n"
     ]
    }
   ],
   "source": [
    "print(df.dtypes)"
   ]
  },
  {
   "cell_type": "markdown",
   "metadata": {
    "collapsed": false,
    "id": "fNQJsHrn2VSN"
   },
   "source": [
    "Wat is de output van de method `.info()` en `.describe()`?\n",
    "\n"
   ]
  },
  {
   "cell_type": "code",
   "execution_count": 44,
   "id": "5f02a523",
   "metadata": {},
   "outputs": [
    {
     "name": "stdout",
     "output_type": "stream",
     "text": [
      "RangeIndex(start=0, stop=3, step=1)\n",
      "\n",
      "             a  b     c    d\n",
      "count        3  3     3    3\n",
      "unique       3  3     3    3\n",
      "top     eerste  1  0.83  1.3\n",
      "freq         1  1     1    1\n"
     ]
    }
   ],
   "source": [
    "# 1\n",
    "print(df.index)\n",
    "#\n",
    "print()\n",
    "# 2\n",
    "print(df.describe())"
   ]
  },
  {
   "cell_type": "markdown",
   "metadata": {
    "collapsed": false,
    "id": "qVpjqV522VSP"
   },
   "source": [
    "Is er een rij-`Index` gemaakt? Zo ja, welke?"
   ]
  },
  {
   "cell_type": "code",
   "execution_count": 45,
   "id": "f201d525",
   "metadata": {},
   "outputs": [
    {
     "name": "stdout",
     "output_type": "stream",
     "text": [
      "RangeIndex(start=0, stop=3, step=1)\n"
     ]
    }
   ],
   "source": [
    "# Er is geen expliciete rij-index opgegeven bij het aanmaken van het DataFrame. Als er geen expliciete rij-index wordt opgegeven, maakt pandas automatisch een impliciete rij-index aan van 0 tot en met het aantal rijen minus één. In dit geval heeft de DataFrame drie rijen, dus de impliciete rij-index zou zijn: 0, 1 en 2.\n",
    "# Om de impliciete rij-index te bekijken, kun je de index eigenschap van het DataFrame bekijken:\n",
    "print(df.index)"
   ]
  },
  {
   "cell_type": "markdown",
   "metadata": {
    "collapsed": false,
    "id": "6jRgMo5O2VSQ"
   },
   "source": [
    "* Haal de elementen van kolom `'b'` op. Doe dit m.b.v.drie notaties:\n",
    "    * met de `.`-operator\n",
    "    * met de `[]`-operator\n",
    "    * met twee `[]`-operatoren: `[[]]`\n",
    "\n",
    "Bekijk telkens het type object dat je terugkrijgt met de Python type-functie."
   ]
  },
  {
   "cell_type": "code",
   "execution_count": 46,
   "id": "b37c31a4",
   "metadata": {},
   "outputs": [
    {
     "name": "stdout",
     "output_type": "stream",
     "text": [
      "0    1\n",
      "1    4\n",
      "2    2\n",
      "Name: b, dtype: object\n",
      "<class 'pandas.core.series.Series'>\n",
      "\n",
      "0    1\n",
      "1    4\n",
      "2    2\n",
      "Name: b, dtype: object\n",
      "<class 'pandas.core.series.Series'>\n",
      "\n",
      "   b\n",
      "0  1\n",
      "1  4\n",
      "2  2\n",
      "<class 'pandas.core.frame.DataFrame'>\n"
     ]
    }
   ],
   "source": [
    "# 1\n",
    "print(df.b)\n",
    "print(type(df.b))\n",
    "#\n",
    "print()\n",
    "# 2\n",
    "print(df['b'])\n",
    "print(type(df['b']))\n",
    "#\n",
    "print()\n",
    "# 3\n",
    "print(df[['b']])\n",
    "print(type(df[['b']]))\n",
    "# Met de eerste twee notaties krijg je een pandas Series-object terug, terwijl je met de derde notatie een pandas DataFrame-object krijgt. In dit geval bevatten alle notaties dezelfde informatie, maar de eerste twee notaties zijn handiger als je alleen de waarden van één kolom wilt selecteren en de laatste notatie is handig als je meerdere kolommen wilt selecteren en in een DataFrame wilt plaatsen."
   ]
  },
  {
   "cell_type": "markdown",
   "metadata": {
    "collapsed": false,
    "id": "H3LBvxrI2VSR"
   },
   "source": [
    "Haal nu de elementen van kolommen `'b'` en `'c'` op. Doe dit met:\n",
    "    * de `[]` ⁻ operator\n",
    "    * de `loc` - operator\n",
    "    * de `iloc` - operator"
   ]
  },
  {
   "cell_type": "code",
   "execution_count": 47,
   "id": "eb7e79c3",
   "metadata": {},
   "outputs": [
    {
     "name": "stdout",
     "output_type": "stream",
     "text": [
      "   b     c\n",
      "0  1  0.83\n",
      "1  4  0.75\n",
      "2  2  4.75\n",
      "<class 'pandas.core.frame.DataFrame'>\n",
      "\n",
      "   b     c\n",
      "0  1  0.83\n",
      "1  4  0.75\n",
      "2  2  4.75\n",
      "<class 'pandas.core.frame.DataFrame'>\n",
      "\n",
      "   b     c\n",
      "0  1  0.83\n",
      "1  4  0.75\n",
      "2  2  4.75\n",
      "<class 'pandas.core.frame.DataFrame'>\n"
     ]
    }
   ],
   "source": [
    "# 1\n",
    "print(df[['b','c']])\n",
    "print(type(df[['b','c']]))\n",
    "#\n",
    "print()\n",
    "# 2\n",
    "print(df.loc[:,['b','c']])\n",
    "print(type(df.loc[:,['b','c']]))\n",
    "#\n",
    "print()\n",
    "# 3\n",
    "print(df.iloc[:,1:3])\n",
    "print(type(df.iloc[:,1:3]))"
   ]
  },
  {
   "cell_type": "markdown",
   "metadata": {
    "collapsed": false,
    "id": "8FeEHb_S2VSS"
   },
   "source": [
    "Haal nu enkel de 2e rij van elementen van kolommen `'b'` en 'c' op. Doe dit met:\n",
    "    * de `[]` ⁻ operator\n",
    "    * de `loc` - operator\n",
    "    * de `iloc` - operator"
   ]
  },
  {
   "cell_type": "code",
   "execution_count": 48,
   "id": "ea64b46e",
   "metadata": {},
   "outputs": [
    {
     "name": "stdout",
     "output_type": "stream",
     "text": [
      "b       4\n",
      "c    0.75\n",
      "Name: 1, dtype: object\n",
      "<class 'pandas.core.series.Series'>\n",
      "\n",
      "   b     c\n",
      "1  4  0.75\n",
      "<class 'pandas.core.frame.DataFrame'>\n",
      "\n",
      "   b     c\n",
      "1  4  0.75\n",
      "<class 'pandas.core.frame.DataFrame'>\n"
     ]
    }
   ],
   "source": [
    "# 1\n",
    "print(df[['b','c']].iloc[1])\n",
    "print(type(df[['b','c']].iloc[1]))\n",
    "#\n",
    "print()\n",
    "# 2\n",
    "print(df.loc[[1],['b','c']])\n",
    "print(type(df.loc[[1],['b','c']]))\n",
    "#\n",
    "print()\n",
    "# 3\n",
    "print(df.iloc[[1],1:3])\n",
    "print(type(df.iloc[[1],1:3]))"
   ]
  },
  {
   "cell_type": "markdown",
   "metadata": {
    "collapsed": false,
    "id": "1lHI66UQ2VSU"
   },
   "source": [
    "Is er een Index gemaakt? Zo ja, welke?"
   ]
  },
  {
   "cell_type": "code",
   "execution_count": 49,
   "id": "04622cc2",
   "metadata": {},
   "outputs": [],
   "source": [
    "# De indexwaarden van de Series zijn 'b' en 'c', maar de indexwaarde van de rij is 1."
   ]
  },
  {
   "cell_type": "markdown",
   "metadata": {
    "collapsed": false,
    "id": "WE3_HTSS2VSV"
   },
   "source": [
    "Het datatype van de index is 'object'. Waarom is dit geen string? Zoek dit op."
   ]
  },
  {
   "cell_type": "code",
   "execution_count": 50,
   "id": "b6611949",
   "metadata": {},
   "outputs": [
    {
     "name": "stdout",
     "output_type": "stream",
     "text": [
      "     a  b\n",
      "foo  1  4\n",
      "bar  2  5\n",
      "baz  3  6\n"
     ]
    }
   ],
   "source": [
    "# Het datatype van de index is 'object' omdat het een verzameling kan zijn van verschillende datatypen, inclusief strings, integers en andere datatypes. De index van een pandas DataFrame kan dus bijvoorbeeld ook bestaan uit een combinatie van verschillende datatypen.\n",
    "\n",
    "# Het is echter wel mogelijk om een index van het datatype 'string' te maken door de dtype parameter van de Index-functie te gebruiken. Bijvoorbeeld:\n",
    "test = pd.DataFrame({\n",
    "    'a': [1, 2, 3],\n",
    "    'b': [4, 5, 6]\n",
    "}, index=pd.Index(['foo', 'bar', 'baz'], dtype='string'))\n",
    "\n",
    "print(test)"
   ]
  },
  {
   "cell_type": "markdown",
   "metadata": {
    "id": "TmeLygtbH3pz"
   },
   "source": [
    "### Oefening 3 - Simpele selecties uitvoeren"
   ]
  },
  {
   "cell_type": "markdown",
   "metadata": {
    "collapsed": false,
    "id": "LE4j0MEN2VSW"
   },
   "source": [
    "Maak een Pandas DataFrame genaamd **cars** m.b.v. deze internet url.\n",
    "\n",
    "https://raw.githubusercontent.com/OCulzac/pandas-foundations/master/_datasets/auto-mpg.csv\n",
    "\n",
    "Bestudeer dit dataframe met de methoden `.info()` en `.describe()`."
   ]
  },
  {
   "cell_type": "code",
   "execution_count": 51,
   "id": "7ce8a77a",
   "metadata": {},
   "outputs": [
    {
     "data": {
      "text/plain": "      mpg  cyl  displ   hp  weight  accel  yr  origin  \\\n0    18.0    8  307.0  130    3504   12.0  70      US   \n1    15.0    8  350.0  165    3693   11.5  70      US   \n2    18.0    8  318.0  150    3436   11.0  70      US   \n3    16.0    8  304.0  150    3433   12.0  70      US   \n4    17.0    8  302.0  140    3449   10.5  70      US   \n..    ...  ...    ...  ...     ...    ...  ..     ...   \n387  27.0    4  140.0   86    2790   15.6  82      US   \n388  44.0    4   97.0   52    2130   24.6  82  Europe   \n389  32.0    4  135.0   84    2295   11.6  82      US   \n390  28.0    4  120.0   79    2625   18.6  82      US   \n391  31.0    4  119.0   82    2720   19.4  82      US   \n\n                          name  \n0    chevrolet chevelle malibu  \n1            buick skylark 320  \n2           plymouth satellite  \n3                amc rebel sst  \n4                  ford torino  \n..                         ...  \n387            ford mustang gl  \n388                  vw pickup  \n389              dodge rampage  \n390                ford ranger  \n391                 chevy s-10  \n\n[392 rows x 9 columns]",
      "text/html": "<div>\n<style scoped>\n    .dataframe tbody tr th:only-of-type {\n        vertical-align: middle;\n    }\n\n    .dataframe tbody tr th {\n        vertical-align: top;\n    }\n\n    .dataframe thead th {\n        text-align: right;\n    }\n</style>\n<table border=\"1\" class=\"dataframe\">\n  <thead>\n    <tr style=\"text-align: right;\">\n      <th></th>\n      <th>mpg</th>\n      <th>cyl</th>\n      <th>displ</th>\n      <th>hp</th>\n      <th>weight</th>\n      <th>accel</th>\n      <th>yr</th>\n      <th>origin</th>\n      <th>name</th>\n    </tr>\n  </thead>\n  <tbody>\n    <tr>\n      <th>0</th>\n      <td>18.0</td>\n      <td>8</td>\n      <td>307.0</td>\n      <td>130</td>\n      <td>3504</td>\n      <td>12.0</td>\n      <td>70</td>\n      <td>US</td>\n      <td>chevrolet chevelle malibu</td>\n    </tr>\n    <tr>\n      <th>1</th>\n      <td>15.0</td>\n      <td>8</td>\n      <td>350.0</td>\n      <td>165</td>\n      <td>3693</td>\n      <td>11.5</td>\n      <td>70</td>\n      <td>US</td>\n      <td>buick skylark 320</td>\n    </tr>\n    <tr>\n      <th>2</th>\n      <td>18.0</td>\n      <td>8</td>\n      <td>318.0</td>\n      <td>150</td>\n      <td>3436</td>\n      <td>11.0</td>\n      <td>70</td>\n      <td>US</td>\n      <td>plymouth satellite</td>\n    </tr>\n    <tr>\n      <th>3</th>\n      <td>16.0</td>\n      <td>8</td>\n      <td>304.0</td>\n      <td>150</td>\n      <td>3433</td>\n      <td>12.0</td>\n      <td>70</td>\n      <td>US</td>\n      <td>amc rebel sst</td>\n    </tr>\n    <tr>\n      <th>4</th>\n      <td>17.0</td>\n      <td>8</td>\n      <td>302.0</td>\n      <td>140</td>\n      <td>3449</td>\n      <td>10.5</td>\n      <td>70</td>\n      <td>US</td>\n      <td>ford torino</td>\n    </tr>\n    <tr>\n      <th>...</th>\n      <td>...</td>\n      <td>...</td>\n      <td>...</td>\n      <td>...</td>\n      <td>...</td>\n      <td>...</td>\n      <td>...</td>\n      <td>...</td>\n      <td>...</td>\n    </tr>\n    <tr>\n      <th>387</th>\n      <td>27.0</td>\n      <td>4</td>\n      <td>140.0</td>\n      <td>86</td>\n      <td>2790</td>\n      <td>15.6</td>\n      <td>82</td>\n      <td>US</td>\n      <td>ford mustang gl</td>\n    </tr>\n    <tr>\n      <th>388</th>\n      <td>44.0</td>\n      <td>4</td>\n      <td>97.0</td>\n      <td>52</td>\n      <td>2130</td>\n      <td>24.6</td>\n      <td>82</td>\n      <td>Europe</td>\n      <td>vw pickup</td>\n    </tr>\n    <tr>\n      <th>389</th>\n      <td>32.0</td>\n      <td>4</td>\n      <td>135.0</td>\n      <td>84</td>\n      <td>2295</td>\n      <td>11.6</td>\n      <td>82</td>\n      <td>US</td>\n      <td>dodge rampage</td>\n    </tr>\n    <tr>\n      <th>390</th>\n      <td>28.0</td>\n      <td>4</td>\n      <td>120.0</td>\n      <td>79</td>\n      <td>2625</td>\n      <td>18.6</td>\n      <td>82</td>\n      <td>US</td>\n      <td>ford ranger</td>\n    </tr>\n    <tr>\n      <th>391</th>\n      <td>31.0</td>\n      <td>4</td>\n      <td>119.0</td>\n      <td>82</td>\n      <td>2720</td>\n      <td>19.4</td>\n      <td>82</td>\n      <td>US</td>\n      <td>chevy s-10</td>\n    </tr>\n  </tbody>\n</table>\n<p>392 rows × 9 columns</p>\n</div>"
     },
     "metadata": {},
     "output_type": "display_data"
    }
   ],
   "source": [
    "url = \"https://raw.githubusercontent.com/OCulzac/pandas-foundations/master/_datasets/auto-mpg.csv\"\n",
    "\n",
    "# Inlezen van het bestand in een DataFrame\n",
    "cars = pd.read_csv(url)\n",
    "# Test DataFrame\n",
    "display(cars)"
   ]
  },
  {
   "cell_type": "code",
   "execution_count": 52,
   "id": "87fc312e",
   "metadata": {},
   "outputs": [
    {
     "name": "stdout",
     "output_type": "stream",
     "text": [
      "<class 'pandas.core.frame.DataFrame'>\n",
      "RangeIndex: 392 entries, 0 to 391\n",
      "Data columns (total 9 columns):\n",
      " #   Column  Non-Null Count  Dtype  \n",
      "---  ------  --------------  -----  \n",
      " 0   mpg     392 non-null    float64\n",
      " 1   cyl     392 non-null    int64  \n",
      " 2   displ   392 non-null    float64\n",
      " 3   hp      392 non-null    int64  \n",
      " 4   weight  392 non-null    int64  \n",
      " 5   accel   392 non-null    float64\n",
      " 6   yr      392 non-null    int64  \n",
      " 7   origin  392 non-null    object \n",
      " 8   name    392 non-null    object \n",
      "dtypes: float64(3), int64(4), object(2)\n",
      "memory usage: 27.7+ KB\n",
      "None\n"
     ]
    }
   ],
   "source": [
    "print(cars.info())"
   ]
  },
  {
   "cell_type": "code",
   "execution_count": 53,
   "id": "2e163932",
   "metadata": {},
   "outputs": [
    {
     "data": {
      "text/plain": "              mpg         cyl       displ          hp       weight  \\\ncount  392.000000  392.000000  392.000000  392.000000   392.000000   \nmean    23.445918    5.471939  194.411990  104.469388  2977.584184   \nstd      7.805007    1.705783  104.644004   38.491160   849.402560   \nmin      9.000000    3.000000   68.000000   46.000000  1613.000000   \n25%     17.000000    4.000000  105.000000   75.000000  2225.250000   \n50%     22.750000    4.000000  151.000000   93.500000  2803.500000   \n75%     29.000000    8.000000  275.750000  126.000000  3614.750000   \nmax     46.600000    8.000000  455.000000  230.000000  5140.000000   \n\n            accel          yr  \ncount  392.000000  392.000000  \nmean    15.541327   75.979592  \nstd      2.758864    3.683737  \nmin      8.000000   70.000000  \n25%     13.775000   73.000000  \n50%     15.500000   76.000000  \n75%     17.025000   79.000000  \nmax     24.800000   82.000000  ",
      "text/html": "<div>\n<style scoped>\n    .dataframe tbody tr th:only-of-type {\n        vertical-align: middle;\n    }\n\n    .dataframe tbody tr th {\n        vertical-align: top;\n    }\n\n    .dataframe thead th {\n        text-align: right;\n    }\n</style>\n<table border=\"1\" class=\"dataframe\">\n  <thead>\n    <tr style=\"text-align: right;\">\n      <th></th>\n      <th>mpg</th>\n      <th>cyl</th>\n      <th>displ</th>\n      <th>hp</th>\n      <th>weight</th>\n      <th>accel</th>\n      <th>yr</th>\n    </tr>\n  </thead>\n  <tbody>\n    <tr>\n      <th>count</th>\n      <td>392.000000</td>\n      <td>392.000000</td>\n      <td>392.000000</td>\n      <td>392.000000</td>\n      <td>392.000000</td>\n      <td>392.000000</td>\n      <td>392.000000</td>\n    </tr>\n    <tr>\n      <th>mean</th>\n      <td>23.445918</td>\n      <td>5.471939</td>\n      <td>194.411990</td>\n      <td>104.469388</td>\n      <td>2977.584184</td>\n      <td>15.541327</td>\n      <td>75.979592</td>\n    </tr>\n    <tr>\n      <th>std</th>\n      <td>7.805007</td>\n      <td>1.705783</td>\n      <td>104.644004</td>\n      <td>38.491160</td>\n      <td>849.402560</td>\n      <td>2.758864</td>\n      <td>3.683737</td>\n    </tr>\n    <tr>\n      <th>min</th>\n      <td>9.000000</td>\n      <td>3.000000</td>\n      <td>68.000000</td>\n      <td>46.000000</td>\n      <td>1613.000000</td>\n      <td>8.000000</td>\n      <td>70.000000</td>\n    </tr>\n    <tr>\n      <th>25%</th>\n      <td>17.000000</td>\n      <td>4.000000</td>\n      <td>105.000000</td>\n      <td>75.000000</td>\n      <td>2225.250000</td>\n      <td>13.775000</td>\n      <td>73.000000</td>\n    </tr>\n    <tr>\n      <th>50%</th>\n      <td>22.750000</td>\n      <td>4.000000</td>\n      <td>151.000000</td>\n      <td>93.500000</td>\n      <td>2803.500000</td>\n      <td>15.500000</td>\n      <td>76.000000</td>\n    </tr>\n    <tr>\n      <th>75%</th>\n      <td>29.000000</td>\n      <td>8.000000</td>\n      <td>275.750000</td>\n      <td>126.000000</td>\n      <td>3614.750000</td>\n      <td>17.025000</td>\n      <td>79.000000</td>\n    </tr>\n    <tr>\n      <th>max</th>\n      <td>46.600000</td>\n      <td>8.000000</td>\n      <td>455.000000</td>\n      <td>230.000000</td>\n      <td>5140.000000</td>\n      <td>24.800000</td>\n      <td>82.000000</td>\n    </tr>\n  </tbody>\n</table>\n</div>"
     },
     "metadata": {},
     "output_type": "display_data"
    }
   ],
   "source": [
    "display(cars.describe())"
   ]
  },
  {
   "cell_type": "markdown",
   "metadata": {
    "collapsed": false,
    "id": "2ciT3Zyt2VSW"
   },
   "source": [
    "Selecteer nu alle auto's die een **mpg** waarde groter dan 40 hebben. Dit kan je doen door dit commando toe te passen:\n",
    "\n",
    "```python\n",
    "df[df.kolom > waarde]\n",
    "```\n",
    "\n",
    "Hoeveel auto's vind je?"
   ]
  },
  {
   "cell_type": "code",
   "execution_count": 54,
   "id": "a63755d7",
   "metadata": {},
   "outputs": [
    {
     "data": {
      "text/plain": "      mpg  cyl  displ  hp  weight  accel  yr  origin  \\\n242  43.1    4   90.0  48    1985   21.5  78  Europe   \n307  41.5    4   98.0  76    2144   14.7  80  Europe   \n320  46.6    4   86.0  65    2110   17.9  80    Asia   \n322  40.8    4   85.0  65    2110   19.2  80    Asia   \n323  44.3    4   90.0  48    2085   21.7  80  Europe   \n324  43.4    4   90.0  48    2335   23.7  80  Europe   \n327  44.6    4   91.0  67    1850   13.8  80    Asia   \n388  44.0    4   97.0  52    2130   24.6  82  Europe   \n\n                                name  \n242  volkswagen rabbit custom diesel  \n307                        vw rabbit  \n320                        mazda glc  \n322                       datsun 210  \n323             vw rabbit c (diesel)  \n324               vw dasher (diesel)  \n327              honda civic 1500 gl  \n388                        vw pickup  ",
      "text/html": "<div>\n<style scoped>\n    .dataframe tbody tr th:only-of-type {\n        vertical-align: middle;\n    }\n\n    .dataframe tbody tr th {\n        vertical-align: top;\n    }\n\n    .dataframe thead th {\n        text-align: right;\n    }\n</style>\n<table border=\"1\" class=\"dataframe\">\n  <thead>\n    <tr style=\"text-align: right;\">\n      <th></th>\n      <th>mpg</th>\n      <th>cyl</th>\n      <th>displ</th>\n      <th>hp</th>\n      <th>weight</th>\n      <th>accel</th>\n      <th>yr</th>\n      <th>origin</th>\n      <th>name</th>\n    </tr>\n  </thead>\n  <tbody>\n    <tr>\n      <th>242</th>\n      <td>43.1</td>\n      <td>4</td>\n      <td>90.0</td>\n      <td>48</td>\n      <td>1985</td>\n      <td>21.5</td>\n      <td>78</td>\n      <td>Europe</td>\n      <td>volkswagen rabbit custom diesel</td>\n    </tr>\n    <tr>\n      <th>307</th>\n      <td>41.5</td>\n      <td>4</td>\n      <td>98.0</td>\n      <td>76</td>\n      <td>2144</td>\n      <td>14.7</td>\n      <td>80</td>\n      <td>Europe</td>\n      <td>vw rabbit</td>\n    </tr>\n    <tr>\n      <th>320</th>\n      <td>46.6</td>\n      <td>4</td>\n      <td>86.0</td>\n      <td>65</td>\n      <td>2110</td>\n      <td>17.9</td>\n      <td>80</td>\n      <td>Asia</td>\n      <td>mazda glc</td>\n    </tr>\n    <tr>\n      <th>322</th>\n      <td>40.8</td>\n      <td>4</td>\n      <td>85.0</td>\n      <td>65</td>\n      <td>2110</td>\n      <td>19.2</td>\n      <td>80</td>\n      <td>Asia</td>\n      <td>datsun 210</td>\n    </tr>\n    <tr>\n      <th>323</th>\n      <td>44.3</td>\n      <td>4</td>\n      <td>90.0</td>\n      <td>48</td>\n      <td>2085</td>\n      <td>21.7</td>\n      <td>80</td>\n      <td>Europe</td>\n      <td>vw rabbit c (diesel)</td>\n    </tr>\n    <tr>\n      <th>324</th>\n      <td>43.4</td>\n      <td>4</td>\n      <td>90.0</td>\n      <td>48</td>\n      <td>2335</td>\n      <td>23.7</td>\n      <td>80</td>\n      <td>Europe</td>\n      <td>vw dasher (diesel)</td>\n    </tr>\n    <tr>\n      <th>327</th>\n      <td>44.6</td>\n      <td>4</td>\n      <td>91.0</td>\n      <td>67</td>\n      <td>1850</td>\n      <td>13.8</td>\n      <td>80</td>\n      <td>Asia</td>\n      <td>honda civic 1500 gl</td>\n    </tr>\n    <tr>\n      <th>388</th>\n      <td>44.0</td>\n      <td>4</td>\n      <td>97.0</td>\n      <td>52</td>\n      <td>2130</td>\n      <td>24.6</td>\n      <td>82</td>\n      <td>Europe</td>\n      <td>vw pickup</td>\n    </tr>\n  </tbody>\n</table>\n</div>"
     },
     "metadata": {},
     "output_type": "display_data"
    }
   ],
   "source": [
    "display(cars[cars.mpg > 40])"
   ]
  },
  {
   "cell_type": "markdown",
   "metadata": {
    "collapsed": false,
    "id": "Q0K13pmZ2VSX"
   },
   "source": [
    "Als je meerdere eigenschappen wil gebruiken om op te filteren, moet je ze combineren met logische operatoren (&, |) en de condities tussen haakjes zetten. \n",
    "\n",
    "Je kan de condities ook in aparte variabelen stoppen en die gebruiken om te filteren.\n",
    "\n",
    "```python\n",
    "df[(df.kolom1 > waarde1) & (df.kolom2 < waarde2)]\n",
    "\n",
    "cond1 = df.kolom1 > waarde1\n",
    "cond2 = df.kolom2 < waarde2\n",
    "\n",
    "df[cond1 & cond2]\n",
    "```\n",
    "Selecteer nu alle auto's die een **mpg** waarde groter hebben dan 40 en die uit **Europe** komen.\n"
   ]
  },
  {
   "cell_type": "code",
   "execution_count": 55,
   "id": "dc9d9ab8",
   "metadata": {},
   "outputs": [
    {
     "data": {
      "text/plain": "      mpg  cyl  displ  hp  weight  accel  yr  origin  \\\n242  43.1    4   90.0  48    1985   21.5  78  Europe   \n307  41.5    4   98.0  76    2144   14.7  80  Europe   \n323  44.3    4   90.0  48    2085   21.7  80  Europe   \n324  43.4    4   90.0  48    2335   23.7  80  Europe   \n388  44.0    4   97.0  52    2130   24.6  82  Europe   \n\n                                name  \n242  volkswagen rabbit custom diesel  \n307                        vw rabbit  \n323             vw rabbit c (diesel)  \n324               vw dasher (diesel)  \n388                        vw pickup  ",
      "text/html": "<div>\n<style scoped>\n    .dataframe tbody tr th:only-of-type {\n        vertical-align: middle;\n    }\n\n    .dataframe tbody tr th {\n        vertical-align: top;\n    }\n\n    .dataframe thead th {\n        text-align: right;\n    }\n</style>\n<table border=\"1\" class=\"dataframe\">\n  <thead>\n    <tr style=\"text-align: right;\">\n      <th></th>\n      <th>mpg</th>\n      <th>cyl</th>\n      <th>displ</th>\n      <th>hp</th>\n      <th>weight</th>\n      <th>accel</th>\n      <th>yr</th>\n      <th>origin</th>\n      <th>name</th>\n    </tr>\n  </thead>\n  <tbody>\n    <tr>\n      <th>242</th>\n      <td>43.1</td>\n      <td>4</td>\n      <td>90.0</td>\n      <td>48</td>\n      <td>1985</td>\n      <td>21.5</td>\n      <td>78</td>\n      <td>Europe</td>\n      <td>volkswagen rabbit custom diesel</td>\n    </tr>\n    <tr>\n      <th>307</th>\n      <td>41.5</td>\n      <td>4</td>\n      <td>98.0</td>\n      <td>76</td>\n      <td>2144</td>\n      <td>14.7</td>\n      <td>80</td>\n      <td>Europe</td>\n      <td>vw rabbit</td>\n    </tr>\n    <tr>\n      <th>323</th>\n      <td>44.3</td>\n      <td>4</td>\n      <td>90.0</td>\n      <td>48</td>\n      <td>2085</td>\n      <td>21.7</td>\n      <td>80</td>\n      <td>Europe</td>\n      <td>vw rabbit c (diesel)</td>\n    </tr>\n    <tr>\n      <th>324</th>\n      <td>43.4</td>\n      <td>4</td>\n      <td>90.0</td>\n      <td>48</td>\n      <td>2335</td>\n      <td>23.7</td>\n      <td>80</td>\n      <td>Europe</td>\n      <td>vw dasher (diesel)</td>\n    </tr>\n    <tr>\n      <th>388</th>\n      <td>44.0</td>\n      <td>4</td>\n      <td>97.0</td>\n      <td>52</td>\n      <td>2130</td>\n      <td>24.6</td>\n      <td>82</td>\n      <td>Europe</td>\n      <td>vw pickup</td>\n    </tr>\n  </tbody>\n</table>\n</div>"
     },
     "metadata": {},
     "output_type": "display_data"
    }
   ],
   "source": [
    "display(cars[(cars.mpg > 40) & (cars.origin == 'Europe')])\n"
   ]
  },
  {
   "cell_type": "markdown",
   "metadata": {
    "collapsed": false,
    "id": "Sj9QoRdNBuTE"
   },
   "source": [
    "Je kan de waarden in dataframe ook sorteren. Daarvoor gebruik je de <code>sort_values</code> functie.\n",
    "\n",
    "```python\n",
    "df.sort_values('kolom')\n",
    "df.sort_values('kolom', ascending = False)\n",
    "\n",
    "df.sort_values(['kolom1','kolom2'], ascending = [False, True])\n",
    "```\n",
    "\n",
    "Sorteer de auto's op **hp** van groot naar klein en tegerlijktijd op **accel** van klein naar groot. Auto nummer 115 zou bovenaan moeten komen te staan.\n"
   ]
  },
  {
   "cell_type": "code",
   "execution_count": 56,
   "id": "e4a5d08c",
   "metadata": {},
   "outputs": [
    {
     "data": {
      "text/plain": "      mpg  cyl  displ   hp  weight  accel  yr  origin  \\\n115  16.0    8  400.0  230    4278    9.5  73      US   \n94   12.0    8  455.0  225    4951   11.0  73      US   \n13   14.0    8  455.0  225    3086   10.0  70      US   \n8    14.0    8  455.0  225    4425   10.0  70      US   \n6    14.0    8  454.0  220    4354    9.0  70      US   \n..    ...  ...    ...  ...     ...    ...  ..     ...   \n242  43.1    4   90.0   48    1985   21.5  78  Europe   \n324  43.4    4   90.0   48    2335   23.7  80  Europe   \n323  44.3    4   90.0   48    2085   21.7  80  Europe   \n101  26.0    4   97.0   46    1950   21.0  73  Europe   \n19   26.0    4   97.0   46    1835   20.5  70  Europe   \n\n                                name  \n115               pontiac grand prix  \n94          buick electra 225 custom  \n13           buick estate wagon (sw)  \n8                   pontiac catalina  \n6                   chevrolet impala  \n..                               ...  \n242  volkswagen rabbit custom diesel  \n324               vw dasher (diesel)  \n323             vw rabbit c (diesel)  \n101          volkswagen super beetle  \n19      volkswagen 1131 deluxe sedan  \n\n[392 rows x 9 columns]",
      "text/html": "<div>\n<style scoped>\n    .dataframe tbody tr th:only-of-type {\n        vertical-align: middle;\n    }\n\n    .dataframe tbody tr th {\n        vertical-align: top;\n    }\n\n    .dataframe thead th {\n        text-align: right;\n    }\n</style>\n<table border=\"1\" class=\"dataframe\">\n  <thead>\n    <tr style=\"text-align: right;\">\n      <th></th>\n      <th>mpg</th>\n      <th>cyl</th>\n      <th>displ</th>\n      <th>hp</th>\n      <th>weight</th>\n      <th>accel</th>\n      <th>yr</th>\n      <th>origin</th>\n      <th>name</th>\n    </tr>\n  </thead>\n  <tbody>\n    <tr>\n      <th>115</th>\n      <td>16.0</td>\n      <td>8</td>\n      <td>400.0</td>\n      <td>230</td>\n      <td>4278</td>\n      <td>9.5</td>\n      <td>73</td>\n      <td>US</td>\n      <td>pontiac grand prix</td>\n    </tr>\n    <tr>\n      <th>94</th>\n      <td>12.0</td>\n      <td>8</td>\n      <td>455.0</td>\n      <td>225</td>\n      <td>4951</td>\n      <td>11.0</td>\n      <td>73</td>\n      <td>US</td>\n      <td>buick electra 225 custom</td>\n    </tr>\n    <tr>\n      <th>13</th>\n      <td>14.0</td>\n      <td>8</td>\n      <td>455.0</td>\n      <td>225</td>\n      <td>3086</td>\n      <td>10.0</td>\n      <td>70</td>\n      <td>US</td>\n      <td>buick estate wagon (sw)</td>\n    </tr>\n    <tr>\n      <th>8</th>\n      <td>14.0</td>\n      <td>8</td>\n      <td>455.0</td>\n      <td>225</td>\n      <td>4425</td>\n      <td>10.0</td>\n      <td>70</td>\n      <td>US</td>\n      <td>pontiac catalina</td>\n    </tr>\n    <tr>\n      <th>6</th>\n      <td>14.0</td>\n      <td>8</td>\n      <td>454.0</td>\n      <td>220</td>\n      <td>4354</td>\n      <td>9.0</td>\n      <td>70</td>\n      <td>US</td>\n      <td>chevrolet impala</td>\n    </tr>\n    <tr>\n      <th>...</th>\n      <td>...</td>\n      <td>...</td>\n      <td>...</td>\n      <td>...</td>\n      <td>...</td>\n      <td>...</td>\n      <td>...</td>\n      <td>...</td>\n      <td>...</td>\n    </tr>\n    <tr>\n      <th>242</th>\n      <td>43.1</td>\n      <td>4</td>\n      <td>90.0</td>\n      <td>48</td>\n      <td>1985</td>\n      <td>21.5</td>\n      <td>78</td>\n      <td>Europe</td>\n      <td>volkswagen rabbit custom diesel</td>\n    </tr>\n    <tr>\n      <th>324</th>\n      <td>43.4</td>\n      <td>4</td>\n      <td>90.0</td>\n      <td>48</td>\n      <td>2335</td>\n      <td>23.7</td>\n      <td>80</td>\n      <td>Europe</td>\n      <td>vw dasher (diesel)</td>\n    </tr>\n    <tr>\n      <th>323</th>\n      <td>44.3</td>\n      <td>4</td>\n      <td>90.0</td>\n      <td>48</td>\n      <td>2085</td>\n      <td>21.7</td>\n      <td>80</td>\n      <td>Europe</td>\n      <td>vw rabbit c (diesel)</td>\n    </tr>\n    <tr>\n      <th>101</th>\n      <td>26.0</td>\n      <td>4</td>\n      <td>97.0</td>\n      <td>46</td>\n      <td>1950</td>\n      <td>21.0</td>\n      <td>73</td>\n      <td>Europe</td>\n      <td>volkswagen super beetle</td>\n    </tr>\n    <tr>\n      <th>19</th>\n      <td>26.0</td>\n      <td>4</td>\n      <td>97.0</td>\n      <td>46</td>\n      <td>1835</td>\n      <td>20.5</td>\n      <td>70</td>\n      <td>Europe</td>\n      <td>volkswagen 1131 deluxe sedan</td>\n    </tr>\n  </tbody>\n</table>\n<p>392 rows × 9 columns</p>\n</div>"
     },
     "metadata": {},
     "output_type": "display_data"
    }
   ],
   "source": [
    "display(cars.sort_values('hp', ascending=False))"
   ]
  },
  {
   "cell_type": "markdown",
   "metadata": {
    "id": "78JJMJw0LB7H"
   },
   "source": [
    "Selecteer nu alle auto die in Europe en de US zijn gemaakt. Hiervoor ga je gebruikmaken van een nieuwe methode: `.isin()`.\n",
    "\n",
    "\n",
    "\n",
    "```python\n",
    "# df.kolomnaam.isin(lijst van waarden)\n",
    "```\n",
    "Probeer dit uit op `origin` kolom en met de waarden `['Europe','US']` en sla dit resultaat op in een variabele `europe_us_cars`.\n",
    "\n",
    "Tip: *je kan deze uitdrukking ook negeren door er een tilde (~) voor te plaatsen.*\n",
    "\n",
    "Welk resultaat krijg je en wat is het type van dit resultaat? (`type()`)"
   ]
  },
  {
   "cell_type": "code",
   "execution_count": 57,
   "id": "ff6f8684",
   "metadata": {},
   "outputs": [
    {
     "name": "stdout",
     "output_type": "stream",
     "text": [
      "<class 'pandas.core.series.Series'>\n"
     ]
    }
   ],
   "source": [
    "europe_us_cars = cars.origin.isin(['Europe','US'])\n",
    "print(type(europe_us_cars))"
   ]
  },
  {
   "cell_type": "markdown",
   "metadata": {
    "id": "yL7ZGrJAMyLX"
   },
   "source": [
    "Gebruik de `europe_us_cars`-variabele in combinatie met het originele dataframe `cars` om alleen de auto's te selecteren die uit Europe of de US komen. Je kan dit doen met de haakjes `[]` of met de `.loc`-methode (, en zelfs de `.iloc`-methode, maar dat is hier minder gepast).\n",
    "\n"
   ]
  },
  {
   "cell_type": "code",
   "execution_count": 58,
   "id": "459746da",
   "metadata": {},
   "outputs": [
    {
     "data": {
      "text/plain": "      mpg  cyl  displ   hp  weight  accel  yr  origin  \\\n0    18.0    8  307.0  130    3504   12.0  70      US   \n1    15.0    8  350.0  165    3693   11.5  70      US   \n2    18.0    8  318.0  150    3436   11.0  70      US   \n3    16.0    8  304.0  150    3433   12.0  70      US   \n4    17.0    8  302.0  140    3449   10.5  70      US   \n..    ...  ...    ...  ...     ...    ...  ..     ...   \n387  27.0    4  140.0   86    2790   15.6  82      US   \n388  44.0    4   97.0   52    2130   24.6  82  Europe   \n389  32.0    4  135.0   84    2295   11.6  82      US   \n390  28.0    4  120.0   79    2625   18.6  82      US   \n391  31.0    4  119.0   82    2720   19.4  82      US   \n\n                          name  \n0    chevrolet chevelle malibu  \n1            buick skylark 320  \n2           plymouth satellite  \n3                amc rebel sst  \n4                  ford torino  \n..                         ...  \n387            ford mustang gl  \n388                  vw pickup  \n389              dodge rampage  \n390                ford ranger  \n391                 chevy s-10  \n\n[313 rows x 9 columns]",
      "text/html": "<div>\n<style scoped>\n    .dataframe tbody tr th:only-of-type {\n        vertical-align: middle;\n    }\n\n    .dataframe tbody tr th {\n        vertical-align: top;\n    }\n\n    .dataframe thead th {\n        text-align: right;\n    }\n</style>\n<table border=\"1\" class=\"dataframe\">\n  <thead>\n    <tr style=\"text-align: right;\">\n      <th></th>\n      <th>mpg</th>\n      <th>cyl</th>\n      <th>displ</th>\n      <th>hp</th>\n      <th>weight</th>\n      <th>accel</th>\n      <th>yr</th>\n      <th>origin</th>\n      <th>name</th>\n    </tr>\n  </thead>\n  <tbody>\n    <tr>\n      <th>0</th>\n      <td>18.0</td>\n      <td>8</td>\n      <td>307.0</td>\n      <td>130</td>\n      <td>3504</td>\n      <td>12.0</td>\n      <td>70</td>\n      <td>US</td>\n      <td>chevrolet chevelle malibu</td>\n    </tr>\n    <tr>\n      <th>1</th>\n      <td>15.0</td>\n      <td>8</td>\n      <td>350.0</td>\n      <td>165</td>\n      <td>3693</td>\n      <td>11.5</td>\n      <td>70</td>\n      <td>US</td>\n      <td>buick skylark 320</td>\n    </tr>\n    <tr>\n      <th>2</th>\n      <td>18.0</td>\n      <td>8</td>\n      <td>318.0</td>\n      <td>150</td>\n      <td>3436</td>\n      <td>11.0</td>\n      <td>70</td>\n      <td>US</td>\n      <td>plymouth satellite</td>\n    </tr>\n    <tr>\n      <th>3</th>\n      <td>16.0</td>\n      <td>8</td>\n      <td>304.0</td>\n      <td>150</td>\n      <td>3433</td>\n      <td>12.0</td>\n      <td>70</td>\n      <td>US</td>\n      <td>amc rebel sst</td>\n    </tr>\n    <tr>\n      <th>4</th>\n      <td>17.0</td>\n      <td>8</td>\n      <td>302.0</td>\n      <td>140</td>\n      <td>3449</td>\n      <td>10.5</td>\n      <td>70</td>\n      <td>US</td>\n      <td>ford torino</td>\n    </tr>\n    <tr>\n      <th>...</th>\n      <td>...</td>\n      <td>...</td>\n      <td>...</td>\n      <td>...</td>\n      <td>...</td>\n      <td>...</td>\n      <td>...</td>\n      <td>...</td>\n      <td>...</td>\n    </tr>\n    <tr>\n      <th>387</th>\n      <td>27.0</td>\n      <td>4</td>\n      <td>140.0</td>\n      <td>86</td>\n      <td>2790</td>\n      <td>15.6</td>\n      <td>82</td>\n      <td>US</td>\n      <td>ford mustang gl</td>\n    </tr>\n    <tr>\n      <th>388</th>\n      <td>44.0</td>\n      <td>4</td>\n      <td>97.0</td>\n      <td>52</td>\n      <td>2130</td>\n      <td>24.6</td>\n      <td>82</td>\n      <td>Europe</td>\n      <td>vw pickup</td>\n    </tr>\n    <tr>\n      <th>389</th>\n      <td>32.0</td>\n      <td>4</td>\n      <td>135.0</td>\n      <td>84</td>\n      <td>2295</td>\n      <td>11.6</td>\n      <td>82</td>\n      <td>US</td>\n      <td>dodge rampage</td>\n    </tr>\n    <tr>\n      <th>390</th>\n      <td>28.0</td>\n      <td>4</td>\n      <td>120.0</td>\n      <td>79</td>\n      <td>2625</td>\n      <td>18.6</td>\n      <td>82</td>\n      <td>US</td>\n      <td>ford ranger</td>\n    </tr>\n    <tr>\n      <th>391</th>\n      <td>31.0</td>\n      <td>4</td>\n      <td>119.0</td>\n      <td>82</td>\n      <td>2720</td>\n      <td>19.4</td>\n      <td>82</td>\n      <td>US</td>\n      <td>chevy s-10</td>\n    </tr>\n  </tbody>\n</table>\n<p>313 rows × 9 columns</p>\n</div>"
     },
     "metadata": {},
     "output_type": "display_data"
    }
   ],
   "source": [
    "display(cars[europe_us_cars])"
   ]
  },
  {
   "cell_type": "markdown",
   "metadata": {
    "id": "w53C2VSUNw0R"
   },
   "source": [
    "Combineer nu de vorige oefening door enkel de cyl en de weight te selecteren van de Europe en US-auto's. Hiervoor kan je enkel gebruikmaken van de `.loc`-operator."
   ]
  },
  {
   "cell_type": "code",
   "execution_count": 59,
   "id": "38ce6b76",
   "metadata": {},
   "outputs": [
    {
     "data": {
      "text/plain": "     cyl  weight\n0      8    3504\n1      8    3693\n2      8    3436\n3      8    3433\n4      8    3449\n..   ...     ...\n387    4    2790\n388    4    2130\n389    4    2295\n390    4    2625\n391    4    2720\n\n[392 rows x 2 columns]",
      "text/html": "<div>\n<style scoped>\n    .dataframe tbody tr th:only-of-type {\n        vertical-align: middle;\n    }\n\n    .dataframe tbody tr th {\n        vertical-align: top;\n    }\n\n    .dataframe thead th {\n        text-align: right;\n    }\n</style>\n<table border=\"1\" class=\"dataframe\">\n  <thead>\n    <tr style=\"text-align: right;\">\n      <th></th>\n      <th>cyl</th>\n      <th>weight</th>\n    </tr>\n  </thead>\n  <tbody>\n    <tr>\n      <th>0</th>\n      <td>8</td>\n      <td>3504</td>\n    </tr>\n    <tr>\n      <th>1</th>\n      <td>8</td>\n      <td>3693</td>\n    </tr>\n    <tr>\n      <th>2</th>\n      <td>8</td>\n      <td>3436</td>\n    </tr>\n    <tr>\n      <th>3</th>\n      <td>8</td>\n      <td>3433</td>\n    </tr>\n    <tr>\n      <th>4</th>\n      <td>8</td>\n      <td>3449</td>\n    </tr>\n    <tr>\n      <th>...</th>\n      <td>...</td>\n      <td>...</td>\n    </tr>\n    <tr>\n      <th>387</th>\n      <td>4</td>\n      <td>2790</td>\n    </tr>\n    <tr>\n      <th>388</th>\n      <td>4</td>\n      <td>2130</td>\n    </tr>\n    <tr>\n      <th>389</th>\n      <td>4</td>\n      <td>2295</td>\n    </tr>\n    <tr>\n      <th>390</th>\n      <td>4</td>\n      <td>2625</td>\n    </tr>\n    <tr>\n      <th>391</th>\n      <td>4</td>\n      <td>2720</td>\n    </tr>\n  </tbody>\n</table>\n<p>392 rows × 2 columns</p>\n</div>"
     },
     "metadata": {},
     "output_type": "display_data"
    }
   ],
   "source": [
    "display(cars.loc[:,['cyl', 'weight']])"
   ]
  },
  {
   "cell_type": "markdown",
   "metadata": {
    "id": "RwZVGauXOTRe"
   },
   "source": [
    "We gaan nu het gemiddelde gewicht van Amerikaanse auto's (US) vergelijken het gemiddelde gewicht van Aziatische auto's. We moeten eerst weten welke waarde de kolom `origin` allemaal kan aannemen.\n",
    "\n",
    "We selecteren die kolom en passen de `.unique()`-methode toe. Probeer dit hieronder uit. Welke waarde heeft `origin` voor Aziatische auto's?"
   ]
  },
  {
   "cell_type": "code",
   "execution_count": 60,
   "id": "2fec4945",
   "metadata": {},
   "outputs": [
    {
     "data": {
      "text/plain": "array(['US', 'Asia', 'Europe'], dtype=object)"
     },
     "metadata": {},
     "output_type": "display_data"
    }
   ],
   "source": [
    "display(cars['origin'].unique())"
   ]
  },
  {
   "cell_type": "markdown",
   "metadata": {
    "id": "1LtCswvtPD4-"
   },
   "source": [
    "Op een Pandas Series kan je een aantal statistiche methoden uitvoeren (zie ook verder). Het gemiddelde van een bepaalde selectie kun je laten berekenen met de `.mean()`-methode.\n",
    "\n",
    "Zoek het gemiddelde gewicht van Aziatische auto's en dat van Amerikaanse auto's. Ben je verrast over het resultaat?\n",
    "\n",
    "In les 3 zullen we nieuwe commando's leren waarmee we dit resultaat zullen kunnen bekomen.\n"
   ]
  },
  {
   "cell_type": "code",
   "execution_count": 61,
   "id": "ec5c245a",
   "metadata": {},
   "outputs": [
    {
     "name": "stdout",
     "output_type": "stream",
     "text": [
      "Gemiddelde gewicht Asia      ->  2221.23\n",
      "Gemiddelde gewicht US        ->  3372.49\n"
     ]
    }
   ],
   "source": [
    "gewichtAS = pd.Series(cars[cars['origin'] == 'Asia'].weight)\n",
    "gewichtUS = pd.Series(cars[cars['origin'] == 'US'].weight)\n",
    "print('Gemiddelde gewicht Asia      ->  ' + str(round(gewichtAS.mean(),2)))\n",
    "print('Gemiddelde gewicht US        ->  ' + str(round(gewichtUS.mean(),2)))"
   ]
  },
  {
   "cell_type": "markdown",
   "metadata": {
    "id": "2ZqZPPkLH7rH"
   },
   "source": [
    "### Oefening 4 - Dataframe aanpassen"
   ]
  },
  {
   "cell_type": "markdown",
   "metadata": {
    "collapsed": false,
    "id": "CP3UPBAKDUWa"
   },
   "source": [
    "Maak een Pandas DataFrame genaamd **titanic** m.b.v. deze internet url.\n",
    "\n",
    "https://gist.githubusercontent.com/michhar/2dfd2de0d4f8727f873422c5d959fff5/raw/fa71405126017e6a37bea592440b4bee94bf7b9e/titanic.csv\n",
    "\n",
    "Bestudeer dit dataframe met `.info()`, `.describe()`, `.head()`, en `.tail()`. Aan de laatste methoden kan je ook een parameter meegeven om de hoeveelheid te tonen rijen te bepalen."
   ]
  },
  {
   "cell_type": "code",
   "execution_count": 62,
   "id": "239f5db9",
   "metadata": {},
   "outputs": [
    {
     "data": {
      "text/plain": "     PassengerId  Survived  Pclass  \\\n0              1         0       3   \n1              2         1       1   \n2              3         1       3   \n3              4         1       1   \n4              5         0       3   \n..           ...       ...     ...   \n886          887         0       2   \n887          888         1       1   \n888          889         0       3   \n889          890         1       1   \n890          891         0       3   \n\n                                                  Name     Sex   Age  SibSp  \\\n0                              Braund, Mr. Owen Harris    male  22.0      1   \n1    Cumings, Mrs. John Bradley (Florence Briggs Th...  female  38.0      1   \n2                               Heikkinen, Miss. Laina  female  26.0      0   \n3         Futrelle, Mrs. Jacques Heath (Lily May Peel)  female  35.0      1   \n4                             Allen, Mr. William Henry    male  35.0      0   \n..                                                 ...     ...   ...    ...   \n886                              Montvila, Rev. Juozas    male  27.0      0   \n887                       Graham, Miss. Margaret Edith  female  19.0      0   \n888           Johnston, Miss. Catherine Helen \"Carrie\"  female   NaN      1   \n889                              Behr, Mr. Karl Howell    male  26.0      0   \n890                                Dooley, Mr. Patrick    male  32.0      0   \n\n     Parch            Ticket     Fare Cabin Embarked  \n0        0         A/5 21171   7.2500   NaN        S  \n1        0          PC 17599  71.2833   C85        C  \n2        0  STON/O2. 3101282   7.9250   NaN        S  \n3        0            113803  53.1000  C123        S  \n4        0            373450   8.0500   NaN        S  \n..     ...               ...      ...   ...      ...  \n886      0            211536  13.0000   NaN        S  \n887      0            112053  30.0000   B42        S  \n888      2        W./C. 6607  23.4500   NaN        S  \n889      0            111369  30.0000  C148        C  \n890      0            370376   7.7500   NaN        Q  \n\n[891 rows x 12 columns]",
      "text/html": "<div>\n<style scoped>\n    .dataframe tbody tr th:only-of-type {\n        vertical-align: middle;\n    }\n\n    .dataframe tbody tr th {\n        vertical-align: top;\n    }\n\n    .dataframe thead th {\n        text-align: right;\n    }\n</style>\n<table border=\"1\" class=\"dataframe\">\n  <thead>\n    <tr style=\"text-align: right;\">\n      <th></th>\n      <th>PassengerId</th>\n      <th>Survived</th>\n      <th>Pclass</th>\n      <th>Name</th>\n      <th>Sex</th>\n      <th>Age</th>\n      <th>SibSp</th>\n      <th>Parch</th>\n      <th>Ticket</th>\n      <th>Fare</th>\n      <th>Cabin</th>\n      <th>Embarked</th>\n    </tr>\n  </thead>\n  <tbody>\n    <tr>\n      <th>0</th>\n      <td>1</td>\n      <td>0</td>\n      <td>3</td>\n      <td>Braund, Mr. Owen Harris</td>\n      <td>male</td>\n      <td>22.0</td>\n      <td>1</td>\n      <td>0</td>\n      <td>A/5 21171</td>\n      <td>7.2500</td>\n      <td>NaN</td>\n      <td>S</td>\n    </tr>\n    <tr>\n      <th>1</th>\n      <td>2</td>\n      <td>1</td>\n      <td>1</td>\n      <td>Cumings, Mrs. John Bradley (Florence Briggs Th...</td>\n      <td>female</td>\n      <td>38.0</td>\n      <td>1</td>\n      <td>0</td>\n      <td>PC 17599</td>\n      <td>71.2833</td>\n      <td>C85</td>\n      <td>C</td>\n    </tr>\n    <tr>\n      <th>2</th>\n      <td>3</td>\n      <td>1</td>\n      <td>3</td>\n      <td>Heikkinen, Miss. Laina</td>\n      <td>female</td>\n      <td>26.0</td>\n      <td>0</td>\n      <td>0</td>\n      <td>STON/O2. 3101282</td>\n      <td>7.9250</td>\n      <td>NaN</td>\n      <td>S</td>\n    </tr>\n    <tr>\n      <th>3</th>\n      <td>4</td>\n      <td>1</td>\n      <td>1</td>\n      <td>Futrelle, Mrs. Jacques Heath (Lily May Peel)</td>\n      <td>female</td>\n      <td>35.0</td>\n      <td>1</td>\n      <td>0</td>\n      <td>113803</td>\n      <td>53.1000</td>\n      <td>C123</td>\n      <td>S</td>\n    </tr>\n    <tr>\n      <th>4</th>\n      <td>5</td>\n      <td>0</td>\n      <td>3</td>\n      <td>Allen, Mr. William Henry</td>\n      <td>male</td>\n      <td>35.0</td>\n      <td>0</td>\n      <td>0</td>\n      <td>373450</td>\n      <td>8.0500</td>\n      <td>NaN</td>\n      <td>S</td>\n    </tr>\n    <tr>\n      <th>...</th>\n      <td>...</td>\n      <td>...</td>\n      <td>...</td>\n      <td>...</td>\n      <td>...</td>\n      <td>...</td>\n      <td>...</td>\n      <td>...</td>\n      <td>...</td>\n      <td>...</td>\n      <td>...</td>\n      <td>...</td>\n    </tr>\n    <tr>\n      <th>886</th>\n      <td>887</td>\n      <td>0</td>\n      <td>2</td>\n      <td>Montvila, Rev. Juozas</td>\n      <td>male</td>\n      <td>27.0</td>\n      <td>0</td>\n      <td>0</td>\n      <td>211536</td>\n      <td>13.0000</td>\n      <td>NaN</td>\n      <td>S</td>\n    </tr>\n    <tr>\n      <th>887</th>\n      <td>888</td>\n      <td>1</td>\n      <td>1</td>\n      <td>Graham, Miss. Margaret Edith</td>\n      <td>female</td>\n      <td>19.0</td>\n      <td>0</td>\n      <td>0</td>\n      <td>112053</td>\n      <td>30.0000</td>\n      <td>B42</td>\n      <td>S</td>\n    </tr>\n    <tr>\n      <th>888</th>\n      <td>889</td>\n      <td>0</td>\n      <td>3</td>\n      <td>Johnston, Miss. Catherine Helen \"Carrie\"</td>\n      <td>female</td>\n      <td>NaN</td>\n      <td>1</td>\n      <td>2</td>\n      <td>W./C. 6607</td>\n      <td>23.4500</td>\n      <td>NaN</td>\n      <td>S</td>\n    </tr>\n    <tr>\n      <th>889</th>\n      <td>890</td>\n      <td>1</td>\n      <td>1</td>\n      <td>Behr, Mr. Karl Howell</td>\n      <td>male</td>\n      <td>26.0</td>\n      <td>0</td>\n      <td>0</td>\n      <td>111369</td>\n      <td>30.0000</td>\n      <td>C148</td>\n      <td>C</td>\n    </tr>\n    <tr>\n      <th>890</th>\n      <td>891</td>\n      <td>0</td>\n      <td>3</td>\n      <td>Dooley, Mr. Patrick</td>\n      <td>male</td>\n      <td>32.0</td>\n      <td>0</td>\n      <td>0</td>\n      <td>370376</td>\n      <td>7.7500</td>\n      <td>NaN</td>\n      <td>Q</td>\n    </tr>\n  </tbody>\n</table>\n<p>891 rows × 12 columns</p>\n</div>"
     },
     "metadata": {},
     "output_type": "display_data"
    }
   ],
   "source": [
    "url = \"train.csv\"\n",
    "\n",
    "# Inlezen van het bestand in een DataFrame\n",
    "titanic = pd.read_csv(url)\n",
    "# Test DataFrame\n",
    "display(titanic)"
   ]
  },
  {
   "cell_type": "code",
   "execution_count": 63,
   "id": "f22c727b",
   "metadata": {},
   "outputs": [
    {
     "name": "stdout",
     "output_type": "stream",
     "text": [
      "<class 'pandas.core.frame.DataFrame'>\n",
      "RangeIndex: 891 entries, 0 to 890\n",
      "Data columns (total 12 columns):\n",
      " #   Column       Non-Null Count  Dtype  \n",
      "---  ------       --------------  -----  \n",
      " 0   PassengerId  891 non-null    int64  \n",
      " 1   Survived     891 non-null    int64  \n",
      " 2   Pclass       891 non-null    int64  \n",
      " 3   Name         891 non-null    object \n",
      " 4   Sex          891 non-null    object \n",
      " 5   Age          714 non-null    float64\n",
      " 6   SibSp        891 non-null    int64  \n",
      " 7   Parch        891 non-null    int64  \n",
      " 8   Ticket       891 non-null    object \n",
      " 9   Fare         891 non-null    float64\n",
      " 10  Cabin        204 non-null    object \n",
      " 11  Embarked     889 non-null    object \n",
      "dtypes: float64(2), int64(5), object(5)\n",
      "memory usage: 83.7+ KB\n"
     ]
    },
    {
     "data": {
      "text/plain": "None"
     },
     "metadata": {},
     "output_type": "display_data"
    }
   ],
   "source": [
    "display(titanic.info())"
   ]
  },
  {
   "cell_type": "code",
   "execution_count": 64,
   "id": "44b2040b",
   "metadata": {},
   "outputs": [
    {
     "data": {
      "text/plain": "       PassengerId    Survived      Pclass         Age       SibSp  \\\ncount   891.000000  891.000000  891.000000  714.000000  891.000000   \nmean    446.000000    0.383838    2.308642   29.699118    0.523008   \nstd     257.353842    0.486592    0.836071   14.526497    1.102743   \nmin       1.000000    0.000000    1.000000    0.420000    0.000000   \n25%     223.500000    0.000000    2.000000   20.125000    0.000000   \n50%     446.000000    0.000000    3.000000   28.000000    0.000000   \n75%     668.500000    1.000000    3.000000   38.000000    1.000000   \nmax     891.000000    1.000000    3.000000   80.000000    8.000000   \n\n            Parch        Fare  \ncount  891.000000  891.000000  \nmean     0.381594   32.204208  \nstd      0.806057   49.693429  \nmin      0.000000    0.000000  \n25%      0.000000    7.910400  \n50%      0.000000   14.454200  \n75%      0.000000   31.000000  \nmax      6.000000  512.329200  ",
      "text/html": "<div>\n<style scoped>\n    .dataframe tbody tr th:only-of-type {\n        vertical-align: middle;\n    }\n\n    .dataframe tbody tr th {\n        vertical-align: top;\n    }\n\n    .dataframe thead th {\n        text-align: right;\n    }\n</style>\n<table border=\"1\" class=\"dataframe\">\n  <thead>\n    <tr style=\"text-align: right;\">\n      <th></th>\n      <th>PassengerId</th>\n      <th>Survived</th>\n      <th>Pclass</th>\n      <th>Age</th>\n      <th>SibSp</th>\n      <th>Parch</th>\n      <th>Fare</th>\n    </tr>\n  </thead>\n  <tbody>\n    <tr>\n      <th>count</th>\n      <td>891.000000</td>\n      <td>891.000000</td>\n      <td>891.000000</td>\n      <td>714.000000</td>\n      <td>891.000000</td>\n      <td>891.000000</td>\n      <td>891.000000</td>\n    </tr>\n    <tr>\n      <th>mean</th>\n      <td>446.000000</td>\n      <td>0.383838</td>\n      <td>2.308642</td>\n      <td>29.699118</td>\n      <td>0.523008</td>\n      <td>0.381594</td>\n      <td>32.204208</td>\n    </tr>\n    <tr>\n      <th>std</th>\n      <td>257.353842</td>\n      <td>0.486592</td>\n      <td>0.836071</td>\n      <td>14.526497</td>\n      <td>1.102743</td>\n      <td>0.806057</td>\n      <td>49.693429</td>\n    </tr>\n    <tr>\n      <th>min</th>\n      <td>1.000000</td>\n      <td>0.000000</td>\n      <td>1.000000</td>\n      <td>0.420000</td>\n      <td>0.000000</td>\n      <td>0.000000</td>\n      <td>0.000000</td>\n    </tr>\n    <tr>\n      <th>25%</th>\n      <td>223.500000</td>\n      <td>0.000000</td>\n      <td>2.000000</td>\n      <td>20.125000</td>\n      <td>0.000000</td>\n      <td>0.000000</td>\n      <td>7.910400</td>\n    </tr>\n    <tr>\n      <th>50%</th>\n      <td>446.000000</td>\n      <td>0.000000</td>\n      <td>3.000000</td>\n      <td>28.000000</td>\n      <td>0.000000</td>\n      <td>0.000000</td>\n      <td>14.454200</td>\n    </tr>\n    <tr>\n      <th>75%</th>\n      <td>668.500000</td>\n      <td>1.000000</td>\n      <td>3.000000</td>\n      <td>38.000000</td>\n      <td>1.000000</td>\n      <td>0.000000</td>\n      <td>31.000000</td>\n    </tr>\n    <tr>\n      <th>max</th>\n      <td>891.000000</td>\n      <td>1.000000</td>\n      <td>3.000000</td>\n      <td>80.000000</td>\n      <td>8.000000</td>\n      <td>6.000000</td>\n      <td>512.329200</td>\n    </tr>\n  </tbody>\n</table>\n</div>"
     },
     "metadata": {},
     "output_type": "display_data"
    }
   ],
   "source": [
    "display(titanic.describe())"
   ]
  },
  {
   "cell_type": "code",
   "execution_count": 65,
   "outputs": [
    {
     "data": {
      "text/plain": "   PassengerId  Survived  Pclass  \\\n0            1         0       3   \n1            2         1       1   \n2            3         1       3   \n3            4         1       1   \n4            5         0       3   \n\n                                                Name     Sex   Age  SibSp  \\\n0                            Braund, Mr. Owen Harris    male  22.0      1   \n1  Cumings, Mrs. John Bradley (Florence Briggs Th...  female  38.0      1   \n2                             Heikkinen, Miss. Laina  female  26.0      0   \n3       Futrelle, Mrs. Jacques Heath (Lily May Peel)  female  35.0      1   \n4                           Allen, Mr. William Henry    male  35.0      0   \n\n   Parch            Ticket     Fare Cabin Embarked  \n0      0         A/5 21171   7.2500   NaN        S  \n1      0          PC 17599  71.2833   C85        C  \n2      0  STON/O2. 3101282   7.9250   NaN        S  \n3      0            113803  53.1000  C123        S  \n4      0            373450   8.0500   NaN        S  ",
      "text/html": "<div>\n<style scoped>\n    .dataframe tbody tr th:only-of-type {\n        vertical-align: middle;\n    }\n\n    .dataframe tbody tr th {\n        vertical-align: top;\n    }\n\n    .dataframe thead th {\n        text-align: right;\n    }\n</style>\n<table border=\"1\" class=\"dataframe\">\n  <thead>\n    <tr style=\"text-align: right;\">\n      <th></th>\n      <th>PassengerId</th>\n      <th>Survived</th>\n      <th>Pclass</th>\n      <th>Name</th>\n      <th>Sex</th>\n      <th>Age</th>\n      <th>SibSp</th>\n      <th>Parch</th>\n      <th>Ticket</th>\n      <th>Fare</th>\n      <th>Cabin</th>\n      <th>Embarked</th>\n    </tr>\n  </thead>\n  <tbody>\n    <tr>\n      <th>0</th>\n      <td>1</td>\n      <td>0</td>\n      <td>3</td>\n      <td>Braund, Mr. Owen Harris</td>\n      <td>male</td>\n      <td>22.0</td>\n      <td>1</td>\n      <td>0</td>\n      <td>A/5 21171</td>\n      <td>7.2500</td>\n      <td>NaN</td>\n      <td>S</td>\n    </tr>\n    <tr>\n      <th>1</th>\n      <td>2</td>\n      <td>1</td>\n      <td>1</td>\n      <td>Cumings, Mrs. John Bradley (Florence Briggs Th...</td>\n      <td>female</td>\n      <td>38.0</td>\n      <td>1</td>\n      <td>0</td>\n      <td>PC 17599</td>\n      <td>71.2833</td>\n      <td>C85</td>\n      <td>C</td>\n    </tr>\n    <tr>\n      <th>2</th>\n      <td>3</td>\n      <td>1</td>\n      <td>3</td>\n      <td>Heikkinen, Miss. Laina</td>\n      <td>female</td>\n      <td>26.0</td>\n      <td>0</td>\n      <td>0</td>\n      <td>STON/O2. 3101282</td>\n      <td>7.9250</td>\n      <td>NaN</td>\n      <td>S</td>\n    </tr>\n    <tr>\n      <th>3</th>\n      <td>4</td>\n      <td>1</td>\n      <td>1</td>\n      <td>Futrelle, Mrs. Jacques Heath (Lily May Peel)</td>\n      <td>female</td>\n      <td>35.0</td>\n      <td>1</td>\n      <td>0</td>\n      <td>113803</td>\n      <td>53.1000</td>\n      <td>C123</td>\n      <td>S</td>\n    </tr>\n    <tr>\n      <th>4</th>\n      <td>5</td>\n      <td>0</td>\n      <td>3</td>\n      <td>Allen, Mr. William Henry</td>\n      <td>male</td>\n      <td>35.0</td>\n      <td>0</td>\n      <td>0</td>\n      <td>373450</td>\n      <td>8.0500</td>\n      <td>NaN</td>\n      <td>S</td>\n    </tr>\n  </tbody>\n</table>\n</div>"
     },
     "metadata": {},
     "output_type": "display_data"
    }
   ],
   "source": [
    "display(titanic.head())"
   ],
   "metadata": {
    "collapsed": false
   }
  },
  {
   "cell_type": "code",
   "execution_count": 66,
   "outputs": [
    {
     "data": {
      "text/plain": "     PassengerId  Survived  Pclass                                      Name  \\\n886          887         0       2                     Montvila, Rev. Juozas   \n887          888         1       1              Graham, Miss. Margaret Edith   \n888          889         0       3  Johnston, Miss. Catherine Helen \"Carrie\"   \n889          890         1       1                     Behr, Mr. Karl Howell   \n890          891         0       3                       Dooley, Mr. Patrick   \n\n        Sex   Age  SibSp  Parch      Ticket   Fare Cabin Embarked  \n886    male  27.0      0      0      211536  13.00   NaN        S  \n887  female  19.0      0      0      112053  30.00   B42        S  \n888  female   NaN      1      2  W./C. 6607  23.45   NaN        S  \n889    male  26.0      0      0      111369  30.00  C148        C  \n890    male  32.0      0      0      370376   7.75   NaN        Q  ",
      "text/html": "<div>\n<style scoped>\n    .dataframe tbody tr th:only-of-type {\n        vertical-align: middle;\n    }\n\n    .dataframe tbody tr th {\n        vertical-align: top;\n    }\n\n    .dataframe thead th {\n        text-align: right;\n    }\n</style>\n<table border=\"1\" class=\"dataframe\">\n  <thead>\n    <tr style=\"text-align: right;\">\n      <th></th>\n      <th>PassengerId</th>\n      <th>Survived</th>\n      <th>Pclass</th>\n      <th>Name</th>\n      <th>Sex</th>\n      <th>Age</th>\n      <th>SibSp</th>\n      <th>Parch</th>\n      <th>Ticket</th>\n      <th>Fare</th>\n      <th>Cabin</th>\n      <th>Embarked</th>\n    </tr>\n  </thead>\n  <tbody>\n    <tr>\n      <th>886</th>\n      <td>887</td>\n      <td>0</td>\n      <td>2</td>\n      <td>Montvila, Rev. Juozas</td>\n      <td>male</td>\n      <td>27.0</td>\n      <td>0</td>\n      <td>0</td>\n      <td>211536</td>\n      <td>13.00</td>\n      <td>NaN</td>\n      <td>S</td>\n    </tr>\n    <tr>\n      <th>887</th>\n      <td>888</td>\n      <td>1</td>\n      <td>1</td>\n      <td>Graham, Miss. Margaret Edith</td>\n      <td>female</td>\n      <td>19.0</td>\n      <td>0</td>\n      <td>0</td>\n      <td>112053</td>\n      <td>30.00</td>\n      <td>B42</td>\n      <td>S</td>\n    </tr>\n    <tr>\n      <th>888</th>\n      <td>889</td>\n      <td>0</td>\n      <td>3</td>\n      <td>Johnston, Miss. Catherine Helen \"Carrie\"</td>\n      <td>female</td>\n      <td>NaN</td>\n      <td>1</td>\n      <td>2</td>\n      <td>W./C. 6607</td>\n      <td>23.45</td>\n      <td>NaN</td>\n      <td>S</td>\n    </tr>\n    <tr>\n      <th>889</th>\n      <td>890</td>\n      <td>1</td>\n      <td>1</td>\n      <td>Behr, Mr. Karl Howell</td>\n      <td>male</td>\n      <td>26.0</td>\n      <td>0</td>\n      <td>0</td>\n      <td>111369</td>\n      <td>30.00</td>\n      <td>C148</td>\n      <td>C</td>\n    </tr>\n    <tr>\n      <th>890</th>\n      <td>891</td>\n      <td>0</td>\n      <td>3</td>\n      <td>Dooley, Mr. Patrick</td>\n      <td>male</td>\n      <td>32.0</td>\n      <td>0</td>\n      <td>0</td>\n      <td>370376</td>\n      <td>7.75</td>\n      <td>NaN</td>\n      <td>Q</td>\n    </tr>\n  </tbody>\n</table>\n</div>"
     },
     "metadata": {},
     "output_type": "display_data"
    }
   ],
   "source": [
    "display(titanic.tail())"
   ],
   "metadata": {
    "collapsed": false
   }
  },
  {
   "cell_type": "markdown",
   "metadata": {
    "id": "zNBccg8hJmKJ"
   },
   "source": [
    "Met welk commando kan je alleen kolom `Embarked` bekijken? \n",
    "\n",
    "Combineer dit met de `.head()`-methode. Je zou een Pandas `Series` moeten krijgen die  S, C en Q's bevat."
   ]
  },
  {
   "cell_type": "code",
   "execution_count": 67,
   "id": "c59b5493",
   "metadata": {},
   "outputs": [
    {
     "name": "stdout",
     "output_type": "stream",
     "text": [
      "0    S\n",
      "1    C\n",
      "2    S\n",
      "3    S\n",
      "4    S\n",
      "Name: Embarked, dtype: object\n",
      "0    S\n",
      "1    C\n",
      "2    S\n",
      "3    S\n",
      "4    S\n",
      "Name: Embarked, dtype: object\n"
     ]
    }
   ],
   "source": [
    "# De URL, die In het begin van deze oefening is gegeven, is niet meer beschikbaar. -> \"HTTPError: HTTP Error 404: Not Found\"\n",
    "embarked = titanic['Embarked']\n",
    "print(embarked.head())\n",
    "# Dit zou de eerste vijf waarden van de kolom 'Embarked' tonen. Je kan ook het volgende commando gebruiken om alleen de kolom 'Embarked' te tonen:\n",
    "print(titanic['Embarked'].head())"
   ]
  },
  {
   "cell_type": "markdown",
   "metadata": {
    "id": "-z2KDCu0KMNp"
   },
   "source": [
    "Kolom `Embarked` staat voor *Port of Embarkation* met (C = Cherbourg; Q = Queenstown; S = Southampton).\n",
    "\n",
    "Schrijf eerst een commando om alleen de rijen over te houden waarin het vertrek C(herbourg) is. Herhaal dit voor de andere 2 havens. Met de `.loc`-methoden kan je makkelijk realiseren (het gaat ook met de vierkante haakjes)."
   ]
  },
  {
   "cell_type": "code",
   "execution_count": 68,
   "id": "4cbe44fd",
   "metadata": {},
   "outputs": [],
   "source": [
    "# De URL, die In het begin van deze oefening is gegeven, is niet meer beschikbaar. -> \"HTTPError: HTTP Error 404: Not Found\"\n",
    "titanic_c = titanic.loc[titanic['Embarked'] == 'C']\n",
    "titanic_q = titanic.loc[titanic['Embarked'] == 'Q']\n",
    "titanic_s = titanic.loc[titanic['Embarked'] == 'S']\n",
    "# of\n",
    "# titanic_c = titanic[titanic['Embarked'] == 'C']\n",
    "# titanic_q = titanic[titanic['Embarked'] == 'Q']\n",
    "# titanic_s = titanic[titanic['Embarked'] == 'S']"
   ]
  },
  {
   "cell_type": "markdown",
   "metadata": {
    "id": "PGZQ3_xlQ8D1"
   },
   "source": [
    "Schrijf nu een Python `for`-loop waarmee je over een lijst van waarde `['C','Q','S']` itereert zodat je binnen de `for`-loop telkens die rijen van het dataframe selecteert die overeenstemmen met de `Embarked`-waarde uit de lijst. Voor elk van de havens print je het aantal rijen uit door op de selectie (een subdataframe dus) de `.size`-eigenschap op te roepen.\n",
    "\n",
    "Dus zoiets ongeveer:\n",
    "```python\n",
    "# for haven in ['C','Q','S']:\n",
    " # selecteer alle rijen die gelijk zijn de waarde 'haven'.\n",
    " # print het aantal rijen uit met de .size - eigenschap in een duidelijke boodschap\n",
    "```\n",
    "\n",
    "Nota: een eigenschap is geen methode en daarom hoef je ook geen ronde haakjes te plaatsen achter `.size`.  Je zou dit resultaat moeten bekomen.\n",
    "\n",
    "```\n",
    "Vanuit C vertrokken 2016 personen\n",
    "Vanuit Q vertrokken 924 personen\n",
    "Vanuit S vertrokken 7728 personen\n",
    "```"
   ]
  },
  {
   "cell_type": "code",
   "execution_count": 69,
   "id": "0a623066",
   "metadata": {},
   "outputs": [
    {
     "name": "stdout",
     "output_type": "stream",
     "text": [
      "Vanuit C vertrokken 2016 personen\n",
      "Vanuit Q vertrokken 924 personen\n",
      "Vanuit S vertrokken 7728 personen\n"
     ]
    }
   ],
   "source": [
    "# De URL, die In het begin van deze oefening is gegeven, is niet meer beschikbaar. -> \"HTTPError: HTTP Error 404: Not Found\"\n",
    "for haven in ['C','Q','S']:\n",
    "    subdataframe = titanic.loc[titanic['Embarked'] == haven]\n",
    "    print(f\"Vanuit {haven} vertrokken {subdataframe.size} personen\")\n"
   ]
  },
  {
   "cell_type": "markdown",
   "metadata": {
    "id": "OUdO_P9lTAS8"
   },
   "source": [
    "Een waarde in een dataframe vervangen kan m.b.v. het toekenningsstatement (`=`).\n",
    "\n",
    "```\n",
    "df.kolom_naam = nieuwe_waarde\n",
    "```\n",
    "\n",
    "Je kan dit ook combineren met een selectie op bepaalde rijen zoals je hierboven reeds toepaste.\n",
    "\n",
    "We willen de afkortingen van de havens vervangen door de volledige namen van havens van vertrek. Zoals steeds kan dit op verschillende manieren en in dit oefenboek bekijken we dan enkele mogelijke oplossingen. \n",
    "\n",
    "Gebruik de `.loc`-eigenschap om eerst alleen de kolom `Embarked` te selecteren met de waarde gelijk aan 'C'. Je moet hiervoor een komma gebruiken binnen de haakjes van `.loc` (`.loc[ , ]`). Probeer vervolgens de nieuwe waarde 'Cherbourg' toe te kennen aan de geselecteerde gegevens.\n",
    "\n",
    "*Let op: als je fout maakt, moet je het originele dataframe herladen met de eerste stap. Veiliger is om eerst een kopie te maken en daarop te proberen. Je kan een kopie `titanic2` maken met de `.copy()`-methode of met een toekenning aan een nieuwe variabele*\n",
    "\n",
    "*Let nog meer op: als je het fout aanpakt ga je een SettingWithCopyWarning krijgen. Die waarschuwing kan je best al proberen te begrijpen door dit lezen: https://www.dataquest.io/blog/settingwithcopywarning/*\n"
   ]
  },
  {
   "cell_type": "code",
   "execution_count": 70,
   "id": "36732bef",
   "metadata": {},
   "outputs": [],
   "source": [
    "# De URL, die In het begin van deze oefening is gegeven, is niet meer beschikbaar. -> \"HTTPError: HTTP Error 404: Not Found\"\n",
    "\n",
    "titanic2 = titanic.copy() # Maak een kopie van het dataframe\n",
    "\n",
    "# Vervang de afkortingen in de kolom Embarked door de volledige namen van de havens\n",
    "titanic2.loc[titanic2['Embarked'] == 'C', 'Embarked'] = 'Cherbourg'\n",
    "titanic2.loc[titanic2['Embarked'] == 'Q', 'Embarked'] = 'Queenstown'\n",
    "titanic2.loc[titanic2['Embarked'] == 'S', 'Embarked'] = 'Southampton'"
   ]
  },
  {
   "cell_type": "markdown",
   "metadata": {
    "id": "o4e1xI7LYoxO"
   },
   "source": [
    "Als je zeker bent dat je commando's gewerkt hebben op de kopie van onze titanic dataset kunnen we nu alle wijzigingen in één keer doorvoeren m.b.v. een for-loop.\n",
    "\n",
    "```python\n",
    "# for afkorting, haven in [('C', 'Cherbourg'), ('Q', 'Queenstown'), ('S','Southampton')]:\n",
    "  # selecteer de juiste rijen en vervang daarin de afkorting door de volledige naam\n",
    "```\n",
    "\n",
    "Met bovenstaande code doorloop je een lijst van tuples. Per iteratie haal je twee gegevens op: de afkorting en de naam van de haven. "
   ]
  },
  {
   "cell_type": "code",
   "execution_count": 71,
   "id": "57819cd4",
   "metadata": {},
   "outputs": [],
   "source": [
    "# De URL, die In het begin van deze oefening is gegeven, is niet meer beschikbaar. -> \"HTTPError: HTTP Error 404: Not Found\"\n",
    "\n",
    "for afkorting, haven in [('C', 'Cherbourg'), ('Q', 'Queenstown'), ('S','Southampton')]:\n",
    "    titanic.loc[titanic['Embarked'] == afkorting, 'Embarked'] = haven"
   ]
  }
 ],
 "metadata": {
  "colab": {
   "collapsed_sections": [
    "jTqjbaLYHuNU",
    "TmeLygtbH3pz",
    "2ZqZPPkLH7rH"
   ],
   "name": "Oefenboek op Pandas Dataframe - oplossingen.ipynb",
   "provenance": [],
   "toc_visible": true
  },
  "kernelspec": {
   "display_name": "Python 3",
   "language": "python",
   "name": "python3"
  },
  "language_info": {
   "codemirror_mode": {
    "name": "ipython",
    "version": 2
   },
   "file_extension": ".py",
   "mimetype": "text/x-python",
   "name": "python",
   "nbconvert_exporter": "python",
   "pygments_lexer": "ipython2",
   "version": "2.7.6"
  }
 },
 "nbformat": 4,
 "nbformat_minor": 0
}
