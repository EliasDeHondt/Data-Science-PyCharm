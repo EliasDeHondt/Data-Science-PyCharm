{
 "cells": [
  {
   "cell_type": "markdown",
   "metadata": {
    "collapsed": true,
    "id": "cTK3Qq0P2VR-"
   },
   "source": [
    "# Oefenboek op het gebruik van Pandas\n",
    "\n",
    "Deze oefenboekjes bevatten oefeningen om te leren (leeroefeningen). We gaan er dus vanuit dat je op dit punt nog niet veel kennis hebt over de deze topic. Ze zijn bedoeld om de leerstof nog te leren begrijpen en **niet** om te testen of je de leerstof al onder de knie hebt. Daarvoor hebben we een ander soort oefeningen.\n",
    "\n"
   ]
  },
  {
   "cell_type": "markdown",
   "metadata": {
    "id": "c2s2OP3hHnBd"
   },
   "source": [
    "## Oefeningen op Pandas DataFrames\n",
    "\n",
    "Maak eerst de oefenboekjes op Python en Pandas Series alvorens je hier aan begint. Importeer nu eerst de juiste libraries zodat je aan de slag kan.\n",
    "\n",
    "\n",
    "```python\n",
    "import pandas as pd\n",
    "```"
   ]
  },
  {
   "cell_type": "code",
   "execution_count": null,
   "id": "68ee543f",
   "metadata": {},
   "outputs": [],
   "source": [
    "import pandas as pd"
   ]
  },
  {
   "cell_type": "markdown",
   "metadata": {
    "id": "SEz-NszwHpn9"
   },
   "source": [
    "### Oefening 1 - Werking van eenvoudige DataFrames"
   ]
  },
  {
   "cell_type": "markdown",
   "metadata": {
    "id": "ilpq7gH32b7Q"
   },
   "source": [
    "Een Pandas dataframe kan je aanmaken met de <a href=\"https://pandas.pydata.org/pandas-docs/stable/reference/api/pandas.DataFrame.html\">`DataFrame`-constructor</a>.\n",
    "\n",
    "```python\n",
    "import pandas as pd # Pandas importeren\n",
    "\n",
    "df = pd.DataFrame(....) \n",
    "```\n",
    "\n",
    "Maak een Dataframe-object aan met de naam *data* met daarin deze Python `list` van waarden `[0.25, 0.5, 0.75, 1.0]`."
   ]
  },
  {
   "cell_type": "code",
   "execution_count": null,
   "id": "a9d61365",
   "metadata": {},
   "outputs": [],
   "source": [
    "# hier komt jouw code"
   ]
  },
  {
   "cell_type": "markdown",
   "metadata": {
    "collapsed": false,
    "id": "A92-9Hr-2VSC"
   },
   "source": [
    "Een dataframe is een 2D-tabel (ook als maar één kolom in de tabel zit). Je kan de dimensie opvragen met de eigenschap `.shape`. \n",
    "\n",
    "Een shape is een Python <a href=\"https://realpython.com/python-lists-tuples/#python-tuples\">tuple</a>. Je tuples nog heel vaak tegenkomen.\n",
    "\n",
    "Wat is de shape van het `DataFrame`?"
   ]
  },
  {
   "cell_type": "code",
   "execution_count": null,
   "id": "376a988b",
   "metadata": {},
   "outputs": [],
   "source": [
    "# hier komt jouw code"
   ]
  },
  {
   "cell_type": "markdown",
   "metadata": {
    "collapsed": false,
    "id": "_YKY3Z552VSD"
   },
   "source": [
    "Een bepaalde kolom van een dataframe heeft altijd één bepaald datatype. Elke kolom is een Pandas `Series` of `Categorical`. \n",
    "\n",
    "De datatypes van een dataframe kan je opvragen met de `.dtypes`-eigenschap.\n",
    "\n",
    "Wat zijn de datatypes van dit dataframe? Wat is het verschil met een Pandas `Series`? "
   ]
  },
  {
   "cell_type": "code",
   "execution_count": null,
   "id": "d2d1598b",
   "metadata": {},
   "outputs": [],
   "source": [
    "# hier komt jouw code"
   ]
  },
  {
   "cell_type": "markdown",
   "metadata": {
    "collapsed": false,
    "id": "FnVGuYrJ2VSE"
   },
   "source": [
    "Zoals je nu al zou moeten weten is Pandas gebouwd bovenop Numpy-arrays en standaard Python. Achter de schermen gebruikt Pandas dus eigenlijk Numpy-arrays. Je kan deze altijd opvragen m.b.v. van volgende methode.\n",
    "\n",
    "```python\n",
    "df.to_numpy()\n",
    "```\n",
    "*Nota: In het Oefenboek op Numpy leer je meer over Numpy-arrays.*\n",
    "\n",
    "Converteer het dataframe naar een Numpy array. Welke methode gebruik je hiervoor? \n",
    "\n",
    "Hoe verschilt de omzetting naar een Numpy array van een DataFrame met de omzetting naar Numpy array van een Series? \n",
    "\n",
    "*Tip: bekijk het aantal dimensies met de `shape` - eigenschap van een Numpy-array en vergelijk deze met die van een Series, bv. van `pd.Series([0.25, 0.5, 0.75, 1.0])`*\n"
   ]
  },
  {
   "cell_type": "code",
   "execution_count": null,
   "id": "bf50704d",
   "metadata": {},
   "outputs": [],
   "source": [
    "# hier komt jouw code"
   ]
  },
  {
   "cell_type": "markdown",
   "metadata": {
    "collapsed": false,
    "id": "9u4NGv182VSF"
   },
   "source": [
    "Bekijk de index van het DataFrame door de `.index`-eigenschap te bekijken."
   ]
  },
  {
   "cell_type": "code",
   "execution_count": null,
   "id": "f8b53461",
   "metadata": {},
   "outputs": [],
   "source": [
    "# hier komt jouw code"
   ]
  },
  {
   "cell_type": "markdown",
   "metadata": {
    "collapsed": false,
    "id": "7ifKAZ7B2VSG"
   },
   "source": [
    "Bekijk de kolommen van het DataFrame door de `.columns`-eigenschap te bekijken. Is er wezenlijk verschil met de index van het dataframe?"
   ]
  },
  {
   "cell_type": "code",
   "execution_count": null,
   "id": "860df8cf",
   "metadata": {},
   "outputs": [],
   "source": [
    "# hier komt jouw code"
   ]
  },
  {
   "cell_type": "markdown",
   "metadata": {
    "collapsed": false,
    "id": "HVGpOs4J2VSH"
   },
   "source": [
    "Het <a href=\"https://pandas.pydata.org/pandas-docs/stable/reference/api/pandas.DataFrame.loc.html\">loc</a>-commando werkt met verschillende soorten argumenten en geeft soms ook andere resultaten terug. \n",
    "\n",
    "Je kan één kolom of meerdere kolommen selecteren. Je kan ook hele rijen selecteren. Je kan het ook combineren waarbij je specifieke rijen uit specifieke kolommen selecteert. Je mag daarbij gebruikmaken van Python <a href=\"https://realpython.com/lessons/indexing-and-slicing/\">`slices`</a>\n",
    "\n",
    "Hieronder zie je enkele tips van hoe je commando kan gebruiken. Het kost enige moeite om het goed te begrijpen dus je hoeft niet te panikeren als je het niet meteen begrijpt. Indexen of slices voor de komma slaan op rijen, erna op kolommen. Heb je geen komma? Dan gaat het over kolommen.\n",
    "\n",
    "```python\n",
    "df.loc[...]\n",
    "df.loc[...,...]\n",
    "df.loc[[]]\n",
    "df.loc[[],[]] \n",
    "``` \n",
    "\n",
    "Het `loc`-commando werkt op **expliciete indexen** in de dataframes (en series). Expliciete indexen zijn diegene die wij zelf definiëren en die je vindt m.b.v. `.index` en `.columns`\n",
    "\n",
    "Haal het tweede element en het tweede t.e.m. het derde element op m.b.v. het `loc`-commando. Dit kan op heel wat verschillende manieren gerealiseerd worden."
   ]
  },
  {
   "cell_type": "code",
   "execution_count": null,
   "id": "b6df3a21",
   "metadata": {},
   "outputs": [],
   "source": [
    "# hier komt jouw code"
   ]
  },
  {
   "cell_type": "markdown",
   "metadata": {
    "collapsed": false,
    "id": "XBrzVMUJ2VSJ"
   },
   "source": [
    "Het <a href=\"https://pandas.pydata.org/pandas-docs/stable/reference/api/pandas.DataFrame.iloc.html\">iloc</a>-commando is qua indexering zeer gelijkaardig aan het `loc`-commando, maar het werkt op **impliciete indexen**. Dit zijn een soort absolute indexen die elk dataframe heeft en die losstaan van de **expliciete indexen** die door de data scientist gedefiniëerd zijn in `Index`-objecten en dit zijn gestockeerd in `.index` en `.columns`.\n",
    "\n",
    "Haal het tweede element en het tweede t.e.m. het derde element op m.b.v. het `iloc`-commando. Is er *in dit geval* een verschil met het `loc`-commando qua indexwaarden? \n",
    "\n",
    "Waarom (niet)?"
   ]
  },
  {
   "cell_type": "code",
   "execution_count": null,
   "id": "47736abe",
   "metadata": {},
   "outputs": [],
   "source": [
    "# hier komt jouw code"
   ]
  },
  {
   "cell_type": "markdown",
   "metadata": {
    "id": "jTqjbaLYHuNU"
   },
   "source": [
    "### Oefening 2 - Werking van DataFrames"
   ]
  },
  {
   "cell_type": "markdown",
   "metadata": {
    "collapsed": false,
    "id": "44FqTBJl2VSK"
   },
   "source": [
    "Maak een `Dataframe` object aan met drie rijen waavan de waarden gelijk zijn aan:\n",
    "\n",
    "* rij 1: `['eerste', 1, 0.83, 1.3]`,\n",
    "* rij 2: `['tweede', 4, 0.75, 1.0]`,\n",
    "* rij 3: `['derde', 2, 4.75, 0.2]`\n",
    "\n",
    "Gebruik hiervoor een 2D Numpy array.\n",
    "\n",
    "Zorg ervoor dat de kolommen gelijk zijn aan `['a', 'b', 'c', 'd']`. \n",
    "\n",
    "Maak de index gelijk aan de getallen `[1,2]`."
   ]
  },
  {
   "cell_type": "code",
   "execution_count": null,
   "id": "cdc69274",
   "metadata": {},
   "outputs": [],
   "source": [
    "# hier komt jouw code"
   ]
  },
  {
   "cell_type": "markdown",
   "metadata": {
    "collapsed": false,
    "id": "XnjN6EGN2VSL"
   },
   "source": [
    "\n",
    "Wat is de shape van dit `DataFrame`?"
   ]
  },
  {
   "cell_type": "code",
   "execution_count": null,
   "id": "915173f5",
   "metadata": {},
   "outputs": [],
   "source": [
    "# hier komt jouw code"
   ]
  },
  {
   "cell_type": "markdown",
   "metadata": {
    "collapsed": false,
    "id": "mr9A5TxC2VSM"
   },
   "source": [
    "Wat zijn de datatypes van dit dataframe? Hoeveel datatypes zijn er?"
   ]
  },
  {
   "cell_type": "code",
   "execution_count": null,
   "id": "3d61bcf8",
   "metadata": {},
   "outputs": [],
   "source": [
    "# hier komt jouw code"
   ]
  },
  {
   "cell_type": "markdown",
   "metadata": {
    "collapsed": false,
    "id": "fNQJsHrn2VSN"
   },
   "source": [
    "Wat is de output van de method `.info()` en `.describe()`?\n",
    "\n"
   ]
  },
  {
   "cell_type": "code",
   "execution_count": null,
   "id": "5f02a523",
   "metadata": {},
   "outputs": [],
   "source": [
    "# hier komt jouw code"
   ]
  },
  {
   "cell_type": "markdown",
   "metadata": {
    "collapsed": false,
    "id": "qVpjqV522VSP"
   },
   "source": [
    "Is er een rij-`Index` gemaakt? Zo ja, welke?"
   ]
  },
  {
   "cell_type": "code",
   "execution_count": null,
   "id": "f201d525",
   "metadata": {},
   "outputs": [],
   "source": [
    "# hier komt jouw code"
   ]
  },
  {
   "cell_type": "markdown",
   "metadata": {
    "collapsed": false,
    "id": "6jRgMo5O2VSQ"
   },
   "source": [
    "* Haal de elementen van kolom `'b'` op. Doe dit m.b.v.drie notaties:\n",
    "    * met de `.`-operator\n",
    "    * met de `[]`-operator\n",
    "    * met twee `[]`-operatoren: `[[]]`\n",
    "\n",
    "Bekijk telkens het type object dat je terugkrijgt met de Python type-functie."
   ]
  },
  {
   "cell_type": "code",
   "execution_count": null,
   "id": "b37c31a4",
   "metadata": {},
   "outputs": [],
   "source": [
    "# hier komt jouw code"
   ]
  },
  {
   "cell_type": "code",
   "execution_count": null,
   "id": "3a6cd331",
   "metadata": {},
   "outputs": [],
   "source": [
    "# hier komt jouw code"
   ]
  },
  {
   "cell_type": "markdown",
   "metadata": {
    "collapsed": false,
    "id": "H3LBvxrI2VSR"
   },
   "source": [
    "Haal nu de elementen van kolommen `'b'` en `'c'` op. Doe dit met:\n",
    "    * de `[]` ⁻ operator\n",
    "    * de `loc` - operator\n",
    "    * de `iloc` - operator"
   ]
  },
  {
   "cell_type": "code",
   "execution_count": null,
   "id": "eb7e79c3",
   "metadata": {},
   "outputs": [],
   "source": [
    "# hier komt jouw code"
   ]
  },
  {
   "cell_type": "markdown",
   "metadata": {
    "collapsed": false,
    "id": "8FeEHb_S2VSS"
   },
   "source": [
    "Haal nu enkel de 2e rij van elementen van kolommen `'b'` en 'c' op. Doe dit met:\n",
    "    * de `[]` ⁻ operator\n",
    "    * de `loc` - operator\n",
    "    * de `iloc` - operator"
   ]
  },
  {
   "cell_type": "code",
   "execution_count": null,
   "id": "ea64b46e",
   "metadata": {},
   "outputs": [],
   "source": [
    "# hier komt jouw code"
   ]
  },
  {
   "cell_type": "markdown",
   "metadata": {
    "collapsed": false,
    "id": "1lHI66UQ2VSU"
   },
   "source": [
    "Is er een Index gemaakt? Zo ja, welke?"
   ]
  },
  {
   "cell_type": "code",
   "execution_count": null,
   "id": "04622cc2",
   "metadata": {},
   "outputs": [],
   "source": [
    "# hier komt jouw code"
   ]
  },
  {
   "cell_type": "markdown",
   "metadata": {
    "collapsed": false,
    "id": "WE3_HTSS2VSV"
   },
   "source": [
    "Het datatype van de index is 'object'. Waarom is dit geen string? Zoek dit op."
   ]
  },
  {
   "cell_type": "code",
   "execution_count": null,
   "id": "b6611949",
   "metadata": {},
   "outputs": [],
   "source": [
    "# hier komt jouw code"
   ]
  },
  {
   "cell_type": "markdown",
   "metadata": {
    "id": "TmeLygtbH3pz"
   },
   "source": [
    "### Oefening 3 - Simpele selecties uitvoeren"
   ]
  },
  {
   "cell_type": "markdown",
   "metadata": {
    "collapsed": false,
    "id": "LE4j0MEN2VSW"
   },
   "source": [
    "Maak een Pandas DataFrame genaamd **cars** m.b.v. deze internet url.\n",
    "\n",
    "https://raw.githubusercontent.com/OCulzac/pandas-foundations/master/_datasets/auto-mpg.csv\n",
    "\n",
    "Bestudeer dit dataframe met de methoden `.info()` en `.describe()`."
   ]
  },
  {
   "cell_type": "code",
   "execution_count": null,
   "id": "7ce8a77a",
   "metadata": {},
   "outputs": [],
   "source": [
    "# hier komt jouw code"
   ]
  },
  {
   "cell_type": "code",
   "execution_count": null,
   "id": "87fc312e",
   "metadata": {},
   "outputs": [],
   "source": [
    "# hier komt jouw code"
   ]
  },
  {
   "cell_type": "code",
   "execution_count": null,
   "id": "2e163932",
   "metadata": {},
   "outputs": [],
   "source": [
    "# hier komt jouw code"
   ]
  },
  {
   "cell_type": "markdown",
   "metadata": {
    "collapsed": false,
    "id": "2ciT3Zyt2VSW"
   },
   "source": [
    "Selecteer nu alle auto's die een **mpg** waarde groter dan 40 hebben. Dit kan je doen door dit commando toe te passen:\n",
    "\n",
    "```python\n",
    "df[df.kolom > waarde]\n",
    "```\n",
    "\n",
    "Hoeveel auto's vind je?"
   ]
  },
  {
   "cell_type": "code",
   "execution_count": null,
   "id": "a63755d7",
   "metadata": {},
   "outputs": [],
   "source": [
    "# hier komt jouw code"
   ]
  },
  {
   "cell_type": "markdown",
   "metadata": {
    "collapsed": false,
    "id": "Q0K13pmZ2VSX"
   },
   "source": [
    "Als je meerdere eigenschappen wil gebruiken om op te filteren, moet je ze combineren met logische operatoren (&, |) en de condities tussen haakjes zetten. \n",
    "\n",
    "Je kan de condities ook in aparte variabelen stoppen en die gebruiken om te filteren.\n",
    "\n",
    "```python\n",
    "df[(df.kolom1 > waarde1) & (df.kolom2 < waarde2)]\n",
    "\n",
    "cond1 = df.kolom1 > waarde1\n",
    "cond2 = df.kolom2 < waarde2\n",
    "\n",
    "df[cond1 & cond2]\n",
    "```\n",
    "Selecteer nu alle auto's die een **mpg** waarde groter hebben dan 40 en die uit **Europa** komen.\n"
   ]
  },
  {
   "cell_type": "code",
   "execution_count": null,
   "id": "dc9d9ab8",
   "metadata": {},
   "outputs": [],
   "source": [
    "# hier komt jouw code"
   ]
  },
  {
   "cell_type": "markdown",
   "metadata": {
    "collapsed": false,
    "id": "Sj9QoRdNBuTE"
   },
   "source": [
    "Je kan de waarden in dataframe ook sorteren. Daarvoor gebruik je de <code>sort_values</code> functie.\n",
    "\n",
    "```python\n",
    "df.sort_values('kolom')\n",
    "df.sort_values('kolom', ascending = False)\n",
    "\n",
    "df.sort_values(['kolom1','kolom2'], ascending = [False, True])\n",
    "```\n",
    "\n",
    "Sorteer de auto's op **hp** van groot naar klein en tegerlijktijd op **accel** van klein naar groot. Auto nummer 115 zou bovenaan moeten komen te staan.\n"
   ]
  },
  {
   "cell_type": "code",
   "execution_count": null,
   "id": "e4a5d08c",
   "metadata": {},
   "outputs": [],
   "source": [
    "# hier komt jouw code"
   ]
  },
  {
   "cell_type": "markdown",
   "metadata": {
    "id": "78JJMJw0LB7H"
   },
   "source": [
    "Selecteer nu alle auto die in Europe en de US zijn gemaakt. Hiervoor ga je gebruikmaken van een nieuwe methode: `.isin()`.\n",
    "\n",
    "\n",
    "\n",
    "```python\n",
    "df.kolomnaam.isin(lijst van waarden)\n",
    "```\n",
    "Probeer dit uit op `origin` kolom en met de waarden `['Europe','US']` en sla dit resultaat op in een variabele `europe_us_cars`.\n",
    "\n",
    "Tip: *je kan deze uitdrukking ook negeren door er een tilde (~) voor te plaatsen.*\n",
    "\n",
    "Welk resultaat krijg je en wat is het type van dit resultaat? (`type()`)"
   ]
  },
  {
   "cell_type": "code",
   "execution_count": null,
   "id": "ff6f8684",
   "metadata": {},
   "outputs": [],
   "source": [
    "# hier komt jouw code"
   ]
  },
  {
   "cell_type": "markdown",
   "metadata": {
    "id": "yL7ZGrJAMyLX"
   },
   "source": [
    "Gebruik de `europe_us_cars`-variabele in combinatie met het originele dataframe `cars` om alleen de auto's te selecteren die uit Europe of de US komen. Je kan dit doen met de haakjes `[]` of met de `.loc`-methode (, en zelfs de `.iloc`-methode, maar dat is hier minder gepast).\n",
    "\n"
   ]
  },
  {
   "cell_type": "code",
   "execution_count": null,
   "id": "459746da",
   "metadata": {},
   "outputs": [],
   "source": [
    "# hier komt jouw code"
   ]
  },
  {
   "cell_type": "markdown",
   "metadata": {
    "id": "w53C2VSUNw0R"
   },
   "source": [
    "Combineer nu de vorige oefening door enkel de cyl en de weight te selecteren van de Europe en US auto's. Hiervoor kan je enkel gebruikmaken van de `.loc`-operator."
   ]
  },
  {
   "cell_type": "code",
   "execution_count": null,
   "id": "38ce6b76",
   "metadata": {},
   "outputs": [],
   "source": [
    "# hier komt jouw code"
   ]
  },
  {
   "cell_type": "markdown",
   "metadata": {
    "id": "RwZVGauXOTRe"
   },
   "source": [
    "We gaan nu het gemiddelde gewicht van Amerikaanse auto's (US) vergelijken het gemiddelde gewicht van Aziatische auto's. We moeten eerst weten welke waarde de kolom `origin` allemaal kan aannemen.\n",
    "\n",
    "We selecteren die kolom en passen de `.unique()`-methode toe. Probeer dit hieronder uit. Welke waarde heeft `origin` voor Aziatische auto's?"
   ]
  },
  {
   "cell_type": "code",
   "execution_count": null,
   "id": "2fec4945",
   "metadata": {},
   "outputs": [],
   "source": [
    "# hier komt jouw code"
   ]
  },
  {
   "cell_type": "markdown",
   "metadata": {
    "id": "1LtCswvtPD4-"
   },
   "source": [
    "Op een Pandas Series kan je een aantal statistiche methoden uitvoeren (zie ook verder). Het gemiddelde van een bepaalde selectie kun je laten berekenen met de `.mean()`-methode.\n",
    "\n",
    "Zoek het gemiddelde gewicht van Aziatische auto's en dat van Amerikaanse auto's. Ben je verrast over het resultaat?\n",
    "\n",
    "In les 3 zullen we nieuwe commando's leren waarmee we dit resultaat zullen kunnen bekomen.\n"
   ]
  },
  {
   "cell_type": "code",
   "execution_count": null,
   "id": "ec5c245a",
   "metadata": {},
   "outputs": [],
   "source": [
    "# hier komt jouw code"
   ]
  },
  {
   "cell_type": "markdown",
   "metadata": {
    "id": "2ZqZPPkLH7rH"
   },
   "source": [
    "### Oefening 4 - Dataframe aanpassen"
   ]
  },
  {
   "cell_type": "markdown",
   "metadata": {
    "collapsed": false,
    "id": "CP3UPBAKDUWa"
   },
   "source": [
    "Maak een Pandas DataFrame genaamd **titanic** m.b.v. deze internet url.\n",
    "\n",
    "https://gist.githubusercontent.com/michhar/2dfd2de0d4f8727f873422c5d959fff5/raw/fa71405126017e6a37bea592440b4bee94bf7b9e/titanic.csv\n",
    "\n",
    "Bestudeer dit dataframe met `.info()`, `.describe()`, `.head()`, en `.tail()`. Aan de laatste methoden kan je ook een parameter meegeven om de hoeveelheid te tonen rijen te bepalen."
   ]
  },
  {
   "cell_type": "code",
   "execution_count": null,
   "id": "239f5db9",
   "metadata": {},
   "outputs": [],
   "source": [
    "# hier komt jouw code"
   ]
  },
  {
   "cell_type": "code",
   "execution_count": null,
   "id": "f22c727b",
   "metadata": {},
   "outputs": [],
   "source": [
    "# hier komt jouw code"
   ]
  },
  {
   "cell_type": "code",
   "execution_count": null,
   "id": "44b2040b",
   "metadata": {},
   "outputs": [],
   "source": [
    "# hier komt jouw code"
   ]
  },
  {
   "cell_type": "code",
   "execution_count": null,
   "id": "fbc9aacc",
   "metadata": {},
   "outputs": [],
   "source": [
    "# hier komt jouw code"
   ]
  },
  {
   "cell_type": "markdown",
   "metadata": {
    "id": "zNBccg8hJmKJ"
   },
   "source": [
    "Met welk commando kan je alleen kolom `Embarked` bekijken? \n",
    "\n",
    "Combineer dit met de `.head()`-methode. Je zou een Pandas `Series` moeten krijgen die  S, C en Q's bevat."
   ]
  },
  {
   "cell_type": "code",
   "execution_count": null,
   "id": "c59b5493",
   "metadata": {},
   "outputs": [],
   "source": [
    "# hier komt jouw code"
   ]
  },
  {
   "cell_type": "markdown",
   "metadata": {
    "id": "-z2KDCu0KMNp"
   },
   "source": [
    "Kolom `Embarked` staat voor *Port of Embarkation* met (C = Cherbourg; Q = Queenstown; S = Southampton).\n",
    "\n",
    "Schrijf eerst een commando om alleen de rijen over te houden waarin het vertrek C(herbourg) is. Herhaal dit voor de andere 2 havens. Met de `.loc`-methoden kan je makkelijk realiseren (het gaat ook met de vierkante haakjes)."
   ]
  },
  {
   "cell_type": "code",
   "execution_count": null,
   "id": "4cbe44fd",
   "metadata": {},
   "outputs": [],
   "source": [
    "# hier komt jouw code"
   ]
  },
  {
   "cell_type": "markdown",
   "metadata": {
    "id": "PGZQ3_xlQ8D1"
   },
   "source": [
    "Schrijf nu een Python `for`-loop waarmee je over een lijst van waarde `['C','Q','S']` itereert zodat je binnen de `for`-loop telkens die rijen van het dataframe selecteert die overeenstemmen met de `Embarked`-waarde uit de lijst. Voor elk van de havens print je het aantal rijen uit door op de selectie (een subdataframe dus) de `.size`-eigenschap op te roepen.\n",
    "\n",
    "Dus zoiets ongeveer:\n",
    "```python\n",
    "for haven in ['C','Q','S']:\n",
    "  # selecteer alle rijen die gelijk zijn de waarde 'haven'.\n",
    "  # print het aantal rijen uit met de .size - eigenschap in een duidelijke boodschap\n",
    "```\n",
    "\n",
    "Nota: een eigenschap is geen methode en daarom hoef je ook geen ronde haakjes te plaatsen achter `.size`.  Je zou dit resultaat moeten bekomen.\n",
    "\n",
    "```\n",
    "Vanuit C vertrokken 2016 personen\n",
    "Vanuit Q vertrokken 924 personen\n",
    "Vanuit S vertrokken 7728 personen\n",
    "```"
   ]
  },
  {
   "cell_type": "code",
   "execution_count": null,
   "id": "0a623066",
   "metadata": {},
   "outputs": [],
   "source": [
    "# hier komt jouw code"
   ]
  },
  {
   "cell_type": "markdown",
   "metadata": {
    "id": "OUdO_P9lTAS8"
   },
   "source": [
    "Een waarde in een dataframe vervangen kan m.b.v. het toekenningsstatement (`=`).\n",
    "\n",
    "```\n",
    "df.kolom_naam = nieuwe_waarde\n",
    "```\n",
    "\n",
    "Je kan dit ook combineren met een selectie op bepaalde rijen zoals je hierboven reeds toepaste.\n",
    "\n",
    "We willen de afkortingen van de havens vervangen door de volledige namen van havens van vertrek. Zoals steeds kan dit op verschillende manieren en in dit oefenboek bekijken we dan enkele mogelijke oplossingen. \n",
    "\n",
    "Gebruik de `.loc`-eigenschap om eerst alleen de kolom `Embarked` te selecteren met de waarde gelijk aan 'C'. Je moet hiervoor een komma gebruiken binnen de haakjes van `.loc` (`.loc[ , ]`). Probeer vervolgens de nieuwe waarde 'Cherbourg' toe te kennen aan de geselecteerde gegevens.\n",
    "\n",
    "*Let op: als je fout maakt, moet je het originele dataframe herladen met de eerste stap. Veiliger is om eerst een kopie te maken en daarop te proberen. Je kan een kopie `titanic2` maken met de `.copy()`-methode of met een toekenning aan een nieuwe variabele*\n",
    "\n",
    "*Let nog meer op: als je het fout aanpakt ga je een SettingWithCopyWarning krijgen. Die waarschuwing kan je best al proberen te begrijpen door dit lezen: https://www.dataquest.io/blog/settingwithcopywarning/*\n"
   ]
  },
  {
   "cell_type": "code",
   "execution_count": null,
   "id": "36732bef",
   "metadata": {},
   "outputs": [],
   "source": [
    "# hier komt jouw code"
   ]
  },
  {
   "cell_type": "markdown",
   "metadata": {
    "id": "o4e1xI7LYoxO"
   },
   "source": [
    "Als je zeker bent dat je commando's gewerkt hebben op de kopie van onze titanic dataset kunnen we nu alle wijzigingen in één keer doorvoeren m.b.v. een for-loop.\n",
    "\n",
    "```python\n",
    "for afkorting, haven in [('C', 'Cherbourg'), ('Q', 'Queenstown'), ('S','Southampton')]:\n",
    "  # selecteer de juiste rijen en vervang daarin de afkorting door de volledige naam\n",
    "```\n",
    "\n",
    "Met bovenstaande code doorloop je een lijst van tuples. Per iteratie haal je twee gegevens op: de afkorting en de naam van de haven. "
   ]
  },
  {
   "cell_type": "code",
   "execution_count": null,
   "id": "57819cd4",
   "metadata": {},
   "outputs": [],
   "source": [
    "# hier komt jouw code"
   ]
  },
  {
   "cell_type": "code",
   "execution_count": null,
   "id": "d1551edf",
   "metadata": {},
   "outputs": [],
   "source": [
    "# hier komt jouw code"
   ]
  }
 ],
 "metadata": {
  "colab": {
   "collapsed_sections": [
    "jTqjbaLYHuNU",
    "TmeLygtbH3pz",
    "2ZqZPPkLH7rH"
   ],
   "name": "Oefenboek op Pandas Dataframe - oplossingen.ipynb",
   "provenance": [],
   "toc_visible": true
  },
  "kernelspec": {
   "display_name": "Python 3",
   "language": "python",
   "name": "python3"
  },
  "language_info": {
   "codemirror_mode": {
    "name": "ipython",
    "version": 2
   },
   "file_extension": ".py",
   "mimetype": "text/x-python",
   "name": "python",
   "nbconvert_exporter": "python",
   "pygments_lexer": "ipython2",
   "version": "2.7.6"
  }
 },
 "nbformat": 4,
 "nbformat_minor": 0
}
