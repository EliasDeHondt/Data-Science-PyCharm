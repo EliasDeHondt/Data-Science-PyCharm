{
 "cells": [
  {
   "cell_type": "markdown",
   "metadata": {
    "id": "Y7hsIEZzwcNg"
   },
   "source": [
    "# Oefenboek op het gebruik van Pandas\n",
    "\n",
    "Deze oefenboekjes bevatten oefeningen om te leren (leeroefeningen). We gaan er dus vanuit dat je op dit punt nog niet veel kennis hebt over de deze topic. Ze zijn bedoeld om de leerstof nog te leren begrijpen en niet om te testen of je de leerstof al onder de knie hebt. Daarvoor hebben we een ander soort oefeningen.\n"
   ]
  },
  {
   "cell_type": "markdown",
   "metadata": {
    "id": "aCHC9ZFwHSKh"
   },
   "source": [
    "## Oefeningen op Pandas Series\n",
    "\n",
    "Maak eerst de oefenboekjes op Python alvorens je hier aan begint. Importeer nu eerst de juiste libraries zodat je aan de slag kan.\n",
    "\n",
    "\n",
    "```python\n",
    "import pandas as pd\n",
    "```\n"
   ]
  },
  {
   "cell_type": "code",
   "execution_count": 440,
   "metadata": {
    "id": "4c952316"
   },
   "outputs": [],
   "source": [
    "import pandas as pd"
   ]
  },
  {
   "cell_type": "markdown",
   "metadata": {
    "id": "ftkZNK9IC5pk"
   },
   "source": [
    "### Oefening 1 - Eenvoudige Pandas Series maken"
   ]
  },
  {
   "cell_type": "markdown",
   "metadata": {
    "collapsed": true,
    "id": "_6QWb77KwH-g"
   },
   "source": [
    "Een Pandas series kan je aanmaken met de `Series`-constructor.\n",
    "\n",
    "```python\n",
    "import pandas as pd     # Pandas importeren\n",
    " \n",
    "s = pd.Series(....)\n",
    "```\n",
    "Een series is een 1D rij van gegevens. Ze kan een naam hebben die je kan meegeven aan de Series m.b.v. het `name`-argument. In sommige gevallen is het belangrijk dat je de naam ook effectief meegeeft. Maak nu zelf een `Series`-object aan genaamd `data` met deze waarden `[0.25, 0.5, 0.75, 1.0]` en met als `name` de waarde 'quantielen'."
   ]
  },
  {
   "cell_type": "code",
   "execution_count": 441,
   "metadata": {
    "id": "481f40f8",
    "executionInfo": {
     "status": "ok",
     "timestamp": 1676491384638,
     "user_tz": -60,
     "elapsed": 7,
     "user": {
      "displayName": "Rony Baekeland",
      "userId": "01731985152349302060"
     }
    }
   },
   "outputs": [
    {
     "name": "stdout",
     "output_type": "stream",
     "text": [
      "0    0.25\n",
      "1    0.50\n",
      "2    0.75\n",
      "3    1.00\n",
      "dtype: float64\n"
     ]
    }
   ],
   "source": [
    "quantielen = pd.Series([0.25, 0.5, 0.75, 1.0])\n",
    "print(quantielen) # Test"
   ]
  },
  {
   "cell_type": "markdown",
   "metadata": {
    "id": "7vRotyEixowE"
   },
   "source": [
    "Een Pandas `Series`-object heeft een `.shape` eigenschap die aangeeft wat de afmeting zijn van dit object. Een shape is een Python <a href=\"https://realpython.com/python-lists-tuples/#python-tuples\">tuple</a>. Je tuples nog heel vaak tegenkomen.\n",
    "\n",
    "Wat is de shape waarde van bovenstaand `Series`-object? \n",
    "\n",
    "*Nota: Je zult merken dat het er een beetje vreemd uit ziet. Dat komt omdat een Series slechts 1 dimensie heeft en tuple minstens twee waarden moet bevatten*"
   ]
  },
  {
   "cell_type": "code",
   "execution_count": 442,
   "metadata": {
    "id": "5c1e66ab",
    "executionInfo": {
     "status": "ok",
     "timestamp": 1676491384639,
     "user_tz": -60,
     "elapsed": 7,
     "user": {
      "displayName": "Rony Baekeland",
      "userId": "01731985152349302060"
     }
    }
   },
   "outputs": [
    {
     "data": {
      "text/plain": "(4,)"
     },
     "execution_count": 442,
     "metadata": {},
     "output_type": "execute_result"
    }
   ],
   "source": [
    "quantielen.shape"
   ]
  },
  {
   "cell_type": "markdown",
   "metadata": {
    "collapsed": false,
    "id": "FImVLGL9wH-i"
   },
   "source": [
    "Een `Series` bevat altijd gegevens van één bepaald datatype, maar dankzij **overerving** kan je natuurlijk toch een series maken die verschillende types combineert. Zo is het datatype `object` een verzamelnaam voor een series die misschien zoalwel `int`, `float`, `strings`, ... elementen bevat, want die zijn natuurlijk ook allemaal van het supertype `object`. Het datatype van een series kan je opvragen met de `.dtypes`-eigenschap.\n",
    "\n",
    "Meer informatie over datatypes vind je op <a href=\"https://pandas.pydata.org/pandas-docs/stable/user_guide/basics.html#basics-dtypes\">Pandas datatypes</a>. Bekijk ze zeker!\n",
    "\n",
    "Wat is het datatype van je series?"
   ]
  },
  {
   "cell_type": "code",
   "execution_count": 443,
   "metadata": {
    "id": "f4eae35f",
    "executionInfo": {
     "status": "ok",
     "timestamp": 1676491384640,
     "user_tz": -60,
     "elapsed": 7,
     "user": {
      "displayName": "Rony Baekeland",
      "userId": "01731985152349302060"
     }
    }
   },
   "outputs": [
    {
     "data": {
      "text/plain": "dtype('float64')"
     },
     "execution_count": 443,
     "metadata": {},
     "output_type": "execute_result"
    }
   ],
   "source": [
    "quantielen.dtypes\n",
    "# float64"
   ]
  },
  {
   "cell_type": "markdown",
   "metadata": {
    "collapsed": false,
    "id": "sYpNUry6wH-j"
   },
   "source": [
    "Pandas Series zijn gebouwd op Numpy-arrays en standaard Python. Achter de schermen gebruikt Pandas dus eigenlijk Numpy-arrays. Je kan deze altijd opvragen m.b.v. van volgende methode.\n",
    "\n",
    "```python\n",
    "s.to_numpy()\n",
    "```\n",
    "\n",
    "Later in de cursus zullen we ook Numpy arrays gebruiken.\n",
    "Converteer je series nu naar een Numpy array."
   ]
  },
  {
   "cell_type": "code",
   "execution_count": 444,
   "metadata": {
    "id": "f45f4925",
    "executionInfo": {
     "status": "ok",
     "timestamp": 1676491384640,
     "user_tz": -60,
     "elapsed": 7,
     "user": {
      "displayName": "Rony Baekeland",
      "userId": "01731985152349302060"
     }
    }
   },
   "outputs": [
    {
     "name": "stdout",
     "output_type": "stream",
     "text": [
      "<class 'numpy.ndarray'>\n"
     ]
    }
   ],
   "source": [
    "test = quantielen.to_numpy()\n",
    "print(type(test))"
   ]
  },
  {
   "cell_type": "markdown",
   "metadata": {
    "collapsed": false,
    "id": "kRw_dt75wH-k"
   },
   "source": [
    "Een series zal ook een **expliciete index** hebben. Dit is een soort van extra kolom die elke rij van de Series identificeert. Bekijk de index van je series-object door de `.index`-eigenschap op te vragen.\n",
    "\n",
    "Welk soort `Index`-object is er gemaakt? Is dit logisch?\n",
    "Zie je een verband met Python `range`?"
   ]
  },
  {
   "cell_type": "code",
   "execution_count": 445,
   "metadata": {
    "id": "7b4ed09b",
    "executionInfo": {
     "status": "ok",
     "timestamp": 1676491384641,
     "user_tz": -60,
     "elapsed": 7,
     "user": {
      "displayName": "Rony Baekeland",
      "userId": "01731985152349302060"
     }
    }
   },
   "outputs": [
    {
     "data": {
      "text/plain": "RangeIndex(start=0, stop=4, step=1)"
     },
     "execution_count": 445,
     "metadata": {},
     "output_type": "execute_result"
    }
   ],
   "source": [
    "quantielen.index\n",
    "# Van 0 tot 4 (4*Rij) Step = 1,2,3,4,5... (Dus niet 2,4,8,16,32,64,128)"
   ]
  },
  {
   "cell_type": "markdown",
   "metadata": {
    "collapsed": false,
    "id": "LPKPtH3SwH-l"
   },
   "source": [
    "Het <a href=\"https://pandas.pydata.org/pandas-docs/stable/reference/api/pandas.Series.loc.html\">loc</a>-commando werkt met verschillende soorten argumenten en geeft soms ook andere resultaten terug: het kan één getal teruggeven of een `Series`-object.  Je kan specifieke rijen selecteren met een getal, een Python `list` of een Python <a href=\"https://realpython.com/lessons/indexing-and-slicing/\">`slice`</a>\n",
    "\n",
    "Hieronder zie je enkele tips van hoe je commando kan gebruiken. Het kost enige moeite om het goed te begrijpen dus je hoeft niet te panikeren als je het niet meteen begrijpt.\n",
    "\n",
    "```python\n",
    "s.loc[...] # dit verdient de voorkeur\n",
    "# of\n",
    "s[...]\n",
    "``` \n",
    "\n",
    "*Nota: het `loc`-commando werkt op **expliciete indexen** in Series (en ook in DataFrames). Expliciete indexen zijn diegene die wij zelf definiëren en die je vindt m.b.v. `.index` en `.columns`*\n",
    "\n",
    "\n",
    "Haal het tweede element en het tweede t.e.m. het derde element op.\n",
    "Haal ook het eerste en het laatste element in één keer op."
   ]
  },
  {
   "cell_type": "code",
   "execution_count": 446,
   "metadata": {
    "id": "f02ed694",
    "executionInfo": {
     "status": "ok",
     "timestamp": 1676491384642,
     "user_tz": -60,
     "elapsed": 7,
     "user": {
      "displayName": "Rony Baekeland",
      "userId": "01731985152349302060"
     }
    }
   },
   "outputs": [
    {
     "name": "stdout",
     "output_type": "stream",
     "text": [
      "1    0.50\n",
      "2    0.75\n",
      "dtype: float64\n"
     ]
    },
    {
     "data": {
      "text/plain": "0    0.25\n3    1.00\ndtype: float64"
     },
     "execution_count": 446,
     "metadata": {},
     "output_type": "execute_result"
    }
   ],
   "source": [
    "# Haal het tweede element en het tweede t.e.m. het derde element op.\n",
    "print(quantielen.loc[1:2])\n",
    "# Haal ook het eerste en het laatste element in één keer op.\n",
    "quantielen.loc[[0, len(quantielen)-1]]"
   ]
  },
  {
   "cell_type": "markdown",
   "metadata": {
    "id": "bXl9kDwdCB4j"
   },
   "source": [
    "### Oefening 2 - Pandas Series verder exploreren"
   ]
  },
  {
   "cell_type": "markdown",
   "metadata": {
    "collapsed": false,
    "id": "CVp9NtlnwH-m"
   },
   "source": [
    "Maak een `Series`-object aan met de naam `data` met deze waarden `[0.25, 0.5, 0.75, 1.0]`, waarvan de index gelijk is aan `['a', 'b', 'c', 'd']`, dat kan je door een list mee te geven aan de parameter `index`. Je mag series ook een naam geven."
   ]
  },
  {
   "cell_type": "code",
   "execution_count": 447,
   "metadata": {
    "id": "d3940c51"
   },
   "outputs": [],
   "source": [
    "data = pd.Series([0.25, 0.5, 0.75, 1.0], index=['a', 'b', 'c', 'd'], name='data')"
   ]
  },
  {
   "cell_type": "markdown",
   "metadata": {
    "collapsed": false,
    "id": "9YFrDkmSwH-n"
   },
   "source": [
    "Wat is het datatype?"
   ]
  },
  {
   "cell_type": "code",
   "execution_count": 448,
   "metadata": {
    "id": "5db0ca87"
   },
   "outputs": [
    {
     "name": "stdout",
     "output_type": "stream",
     "text": [
      "float64\n"
     ]
    }
   ],
   "source": [
    "print(data.dtypes)"
   ]
  },
  {
   "cell_type": "markdown",
   "metadata": {
    "collapsed": false,
    "id": "dVeMvw2lwH-o"
   },
   "source": [
    "Vraag de `.index`-eigenschap op. Welk soort `Index`-object is er ditmaal gemaakt? Vergelijk het met datgene uit [Oefening 1](https://colab.research.google.com/drive/12xxUNXEVEXkj4pk1CcwE0gHg2663A5Ux#scrollTo=hF5hH5EcwH-l&line=1&uniqifier=1)."
   ]
  },
  {
   "cell_type": "code",
   "execution_count": 449,
   "metadata": {
    "id": "4d67318e"
   },
   "outputs": [],
   "source": [
    "# hier komt jouw code"
   ]
  },
  {
   "cell_type": "markdown",
   "metadata": {
    "collapsed": false,
    "id": "2yvnUq8mwH-p"
   },
   "source": [
    "Haal het tweede element en het tweede t.e.m. het derde element op."
   ]
  },
  {
   "cell_type": "code",
   "execution_count": 450,
   "metadata": {
    "id": "8761a655"
   },
   "outputs": [],
   "source": [
    "# hier komt jouw code"
   ]
  },
  {
   "cell_type": "markdown",
   "metadata": {
    "id": "8ITJP7tlC9u5"
   },
   "source": [
    "### Oefening 3 - Andere manieren om een Series te maken"
   ]
  },
  {
   "cell_type": "markdown",
   "metadata": {
    "collapsed": false,
    "id": "qdYrReRrwH-q"
   },
   "source": [
    "Maak een Series object aan o.b.v. deze Python dictionary.\n",
    "```python\n",
    "population_dict = {\n",
    "        'California': 38332521,\n",
    "        'Texas':      26448193,\n",
    "        'New York':   19651127,\n",
    "        'Florida':    19552860,\n",
    "        'Illinois':   12882135}\n",
    "```"
   ]
  },
  {
   "cell_type": "code",
   "execution_count": 451,
   "metadata": {
    "id": "a7cf06ad"
   },
   "outputs": [],
   "source": [
    "# hier komt jouw code"
   ]
  },
  {
   "cell_type": "markdown",
   "metadata": {
    "collapsed": false,
    "id": "FdOxODZ5wH-r"
   },
   "source": [
    "Is er een Index gemaakt? Zo ja, welke?\n",
    "Welk datatype heeft de index?"
   ]
  },
  {
   "cell_type": "code",
   "execution_count": 452,
   "metadata": {
    "id": "c67c6ebb"
   },
   "outputs": [],
   "source": [
    "# hier komt jouw code"
   ]
  },
  {
   "cell_type": "markdown",
   "metadata": {
    "collapsed": false,
    "id": "zyJpU7MNwH-r"
   },
   "source": [
    "Het datatype van de index is 'object'. Waarom is dit geen string? Zoek dit op."
   ]
  },
  {
   "cell_type": "code",
   "execution_count": 453,
   "metadata": {
    "id": "cd467ef0"
   },
   "outputs": [],
   "source": [
    "# hier komt jouw code"
   ]
  },
  {
   "cell_type": "markdown",
   "metadata": {
    "id": "Cx3vH0wTDF2b"
   },
   "source": [
    "### Oefening 4 - Tips & Tricks"
   ]
  },
  {
   "cell_type": "markdown",
   "metadata": {
    "collapsed": false,
    "id": "O13pji-YwH-s"
   },
   "source": [
    "Vaak kun je op meerdere manieren hetzelfde resultaat bekomen. We onderzoeken dit in deze vraag voor de creatie van een Series. We willen een `Series` aanmaken met 100 maal de waarde $\\pi$ in.\n",
    "\n",
    "Maak een `Series` object aan m.b.v. een Python list die 100 maal $\\pi$ bevat."
   ]
  },
  {
   "cell_type": "code",
   "execution_count": 454,
   "metadata": {
    "id": "00fbd9be"
   },
   "outputs": [],
   "source": [
    "# hier komt jouw code"
   ]
  },
  {
   "cell_type": "markdown",
   "metadata": {
    "collapsed": false,
    "id": "DAgAb4dOwH-t"
   },
   "source": [
    "Maak een `Series`-object aan m.b.v. een Python **list comprehension** die 100 maal $\\pi$ bevat. \n",
    "\n",
    "*Tip: [List comprehensions](https://realpython.com/courses/using-list-comprehensions-effectively/) zijn een geweldig hulpmiddel. Zorg dat je ze goed kent!*"
   ]
  },
  {
   "cell_type": "code",
   "execution_count": 455,
   "metadata": {
    "id": "6eb38f23"
   },
   "outputs": [],
   "source": [
    "# hier komt jouw code"
   ]
  },
  {
   "cell_type": "markdown",
   "metadata": {
    "collapsed": false,
    "id": "oSTLQgzIwH-t"
   },
   "source": [
    "Maak een Series object aan die 100 maal $\\pi$ bevat door eenmaal de waarde $\\pi$ mee te geven, maar ervoor te zorgen dat de `index`-parameter gelijk is aan `list` met elementen 0 t.e.m. 99. Voor dat laatste kan je dan weer een Python **`range`** gebruiken."
   ]
  },
  {
   "cell_type": "code",
   "execution_count": 456,
   "metadata": {
    "id": "5df63194"
   },
   "outputs": [],
   "source": [
    "# hier komt jouw code"
   ]
  },
  {
   "cell_type": "markdown",
   "metadata": {
    "collapsed": false,
    "id": "AkKSkR02rBMX"
   },
   "source": [
    "*Nota: In het Oefenboek op Numpy arrays zul je leren dat de Numpy-library ook beschikt over verschillende functies om arrays op te vullen met (een) bepaald(e) waarde(n).  Van deze arrays kan je dan weer Series maken.*"
   ]
  },
  {
   "cell_type": "markdown",
   "metadata": {
    "id": "0tPhja9PEXnn"
   },
   "source": [
    "### Oefening 5 - Selecties doen"
   ]
  },
  {
   "cell_type": "markdown",
   "metadata": {
    "collapsed": false,
    "id": "8FHFY_bIwH-u"
   },
   "source": [
    "Maak gebruik van de Series uit Vraag 1."
   ]
  },
  {
   "cell_type": "code",
   "execution_count": 457,
   "metadata": {
    "id": "ba84e5e2"
   },
   "outputs": [],
   "source": [
    "# hier komt jouw code"
   ]
  },
  {
   "cell_type": "markdown",
   "metadata": {
    "collapsed": false,
    "id": "a1ARSVRqwH-v"
   },
   "source": [
    "Je kan de `.loc`-operator ook condities meegeven die alleen die rijen teruggeven die voldoen aan die voorwaarden.\n",
    "\n",
    "```python\n",
    "condities = (s > x) & (s <= y) # voorbeeld van twee condities\n",
    "s.loc[condities] # verdient de voorkeur\n",
    "s[condities] # of zonder loc\n",
    "```\n",
    "Je kan de condities apart schrijven of verwerken in bovenstaande commando's. Beide technieken zijn handig.\n",
    "\n",
    "Selecteer nu alle elementen uit je series die groter zijn 0.5."
   ]
  },
  {
   "cell_type": "code",
   "execution_count": 458,
   "metadata": {
    "id": "5dd2b7d6"
   },
   "outputs": [],
   "source": [
    "# hier komt jouw code"
   ]
  },
  {
   "cell_type": "markdown",
   "metadata": {
    "collapsed": false,
    "id": "XRmo1yrZwH-v"
   },
   "source": [
    "Selecteer vervolgens alle elementen die kleiner zijn 0.5 of groter dan 0.75. \n",
    "\n",
    "**Let op**: je moet extra ronde haakjes gebruiken."
   ]
  },
  {
   "cell_type": "code",
   "execution_count": 459,
   "metadata": {
    "id": "ce9d3aaf"
   },
   "outputs": [],
   "source": [
    "# hier komt jouw code"
   ]
  },
  {
   "cell_type": "markdown",
   "metadata": {
    "id": "kJ7KN0mNFt9A"
   },
   "source": [
    "### Oefening 6 - Diepgang verkrijgen\n"
   ]
  },
  {
   "cell_type": "markdown",
   "metadata": {
    "collapsed": false,
    "id": "QW3GtlFxwH-w"
   },
   "source": [
    "Maak een `Series`-object aan met deze waarden `['a','b','c','d']`, waarvan de index gelijk is aan deze `list` `[1,3,3,5]`. Merk op dat de indexwaarden hier **wel oplopend, maar niet aaneensluitend** zijn. Zo'n geval kan voorkomen in een dataset. Denk bijvoorbeeld aan patiënten met patiëntid die meerdere keren voorkomen in een dataset. \n",
    "\n",
    "*Nota: je mag ook altijd Numpy arrays gebruiken i.p.v. Python lists.  Soms kan je met Numpy veel makkelijker complexere lijsten bouwen.*"
   ]
  },
  {
   "cell_type": "code",
   "execution_count": 460,
   "metadata": {
    "id": "939a6d4a"
   },
   "outputs": [],
   "source": [
    "# hier komt jouw code"
   ]
  },
  {
   "cell_type": "markdown",
   "metadata": {
    "collapsed": false,
    "id": "I4OsWvvQwH-w"
   },
   "source": [
    "Selecteer nu het 3e element. Wat merk je?"
   ]
  },
  {
   "cell_type": "code",
   "execution_count": 461,
   "metadata": {
    "id": "874f39de"
   },
   "outputs": [],
   "source": [
    "# hier komt jouw code"
   ]
  },
  {
   "cell_type": "markdown",
   "metadata": {
    "collapsed": false,
    "id": "NswJc4ZfwH-x"
   },
   "source": [
    "Selecteer de elementen tussen 2 t.e.m. 3 m.b.v. een Python slice (:). Doe dit zowel met `.loc` en enkel met vierkante haakjes `[]`.\n",
    "\n",
    "Welk resultaaten had je verwacht?  Komt dit overeen met wat je als output krijgt? Zo niet, verklaar dit dan.\n"
   ]
  },
  {
   "cell_type": "code",
   "execution_count": 462,
   "metadata": {
    "id": "faf0c51f"
   },
   "outputs": [],
   "source": [
    "# hier komt jouw code"
   ]
  },
  {
   "cell_type": "markdown",
   "metadata": {
    "collapsed": false,
    "id": "F9EFphI2wH-y"
   },
   "source": [
    "Selecteer de elementen tussen 1 t.e.m. 3 m.b.v. een Python slice (:) in combinatie met het **loc** commando. Welk resultaat had je verwacht?  Komt dit overeen met wat je als output krijgt? Verklaar in woorden wat het verschil is met het vorige command."
   ]
  },
  {
   "cell_type": "code",
   "execution_count": 463,
   "metadata": {
    "id": "bb0539e2"
   },
   "outputs": [],
   "source": [
    "# hier komt jouw code"
   ]
  },
  {
   "cell_type": "markdown",
   "metadata": {
    "collapsed": false,
    "id": "Z2Wkss1awH-y"
   },
   "source": [
    "Selecteer de elementen tussen 1 t.e.m. 3 m.b.v. een Python slice(:) in combinatie met het **iloc** commando. \n",
    "\n",
    "Welk resultaat had je verwacht?  Komt dit overeen met wat je als output krijgt? Leg de relatie met de vorige commando's: zijn er gelijkenissen of verschillen?"
   ]
  },
  {
   "cell_type": "code",
   "execution_count": 464,
   "metadata": {
    "id": "98c20e05"
   },
   "outputs": [],
   "source": [
    "# hier komt jouw code"
   ]
  },
  {
   "cell_type": "markdown",
   "metadata": {
    "collapsed": false,
    "id": "79oN9Oe7wH-z"
   },
   "source": [
    "Selecteer de elementen tussen 1 en 5 met het **loc** commando. Let op: hier moet je aan loc zelf een list meegeven."
   ]
  },
  {
   "cell_type": "code",
   "execution_count": 465,
   "metadata": {
    "id": "7f5abfef"
   },
   "outputs": [],
   "source": [
    "# hier komt jouw code"
   ]
  },
  {
   "cell_type": "markdown",
   "metadata": {
    "collapsed": false,
    "id": "94YXOwDHwH-0"
   },
   "source": [
    "Selecteer de elementen tussen 1 en 5 met het **iloc** commando. Waarom geeft dit een fout? Waarom geeft het juist die fout?"
   ]
  },
  {
   "cell_type": "code",
   "execution_count": 466,
   "metadata": {
    "id": "d0d38cdc"
   },
   "outputs": [],
   "source": [
    "# hier komt jouw code"
   ]
  }
 ],
 "metadata": {
  "colab": {
   "collapsed_sections": [
    "ftkZNK9IC5pk",
    "bXl9kDwdCB4j",
    "8ITJP7tlC9u5",
    "Cx3vH0wTDF2b",
    "0tPhja9PEXnn",
    "kJ7KN0mNFt9A"
   ],
   "provenance": []
  },
  "kernelspec": {
   "display_name": "Python 3",
   "language": "python",
   "name": "python3"
  },
  "language_info": {
   "codemirror_mode": {
    "name": "ipython",
    "version": 2
   },
   "file_extension": ".py",
   "mimetype": "text/x-python",
   "name": "python",
   "nbconvert_exporter": "python",
   "pygments_lexer": "ipython2",
   "version": "2.7.6"
  }
 },
 "nbformat": 4,
 "nbformat_minor": 0
}
